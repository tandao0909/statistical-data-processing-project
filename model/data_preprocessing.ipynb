{
 "cells": [
  {
   "cell_type": "code",
   "execution_count": 1,
   "metadata": {
    "vscode": {
     "languageId": "r"
    }
   },
   "outputs": [
    {
     "name": "stderr",
     "output_type": "stream",
     "text": [
      "-- \u001b[1mAttaching core tidyverse packages\u001b[22m ------------------------ tidyverse 2.0.0 --\n",
      "\u001b[32mv\u001b[39m \u001b[34mdplyr    \u001b[39m 1.1.4     \u001b[32mv\u001b[39m \u001b[34mreadr    \u001b[39m 2.1.5\n",
      "\u001b[32mv\u001b[39m \u001b[34mforcats  \u001b[39m 1.0.0     \u001b[32mv\u001b[39m \u001b[34mstringr  \u001b[39m 1.5.0\n",
      "\u001b[32mv\u001b[39m \u001b[34mlubridate\u001b[39m 1.9.3     \u001b[32mv\u001b[39m \u001b[34mtibble   \u001b[39m 3.2.1\n",
      "\u001b[32mv\u001b[39m \u001b[34mpurrr    \u001b[39m 1.0.2     \u001b[32mv\u001b[39m \u001b[34mtidyr    \u001b[39m 1.3.1\n",
      "-- \u001b[1mConflicts\u001b[22m ------------------------------------------ tidyverse_conflicts() --\n",
      "\u001b[31mx\u001b[39m \u001b[34mdplyr\u001b[39m::\u001b[32mfilter()\u001b[39m masks \u001b[34mstats\u001b[39m::filter()\n",
      "\u001b[31mx\u001b[39m \u001b[34mdplyr\u001b[39m::\u001b[32mlag()\u001b[39m    masks \u001b[34mstats\u001b[39m::lag()\n",
      "\u001b[36mi\u001b[39m Use the conflicted package (\u001b[3m\u001b[34m<http://conflicted.r-lib.org/>\u001b[39m\u001b[23m) to force all conflicts to become errors\n",
      "\n",
      "Attaching package: 'MASS'\n",
      "\n",
      "\n",
      "The following object is masked from 'package:dplyr':\n",
      "\n",
      "    select\n",
      "\n",
      "\n",
      "\n",
      "Attaching package: 'janitor'\n",
      "\n",
      "\n",
      "The following objects are masked from 'package:stats':\n",
      "\n",
      "    chisq.test, fisher.test\n",
      "\n",
      "\n",
      "Type 'citation(\"pROC\")' for a citation.\n",
      "\n",
      "\n",
      "Attaching package: 'pROC'\n",
      "\n",
      "\n",
      "The following objects are masked from 'package:stats':\n",
      "\n",
      "    cov, smooth, var\n",
      "\n",
      "\n"
     ]
    }
   ],
   "source": [
    "library(ggplot2)\n",
    "library(tidyverse)\n",
    "library(MASS)\n",
    "library(janitor)\n",
    "library(dplyr)\n",
    "library(pROC)"
   ]
  },
  {
   "cell_type": "code",
   "execution_count": 2,
   "metadata": {
    "vscode": {
     "languageId": "r"
    }
   },
   "outputs": [
    {
     "name": "stdout",
     "output_type": "stream",
     "text": [
      "Rows: 253,680\n",
      "Columns: 22\n",
      "$ diabetes_012           \u001b[3m\u001b[90m<int>\u001b[39m\u001b[23m 0, 0, 0, 0, 0, 0, 0, 0, 2, 0, 2, 0, 0, 2, 0, 0,~\n",
      "$ high_bp                \u001b[3m\u001b[90m<int>\u001b[39m\u001b[23m 1, 0, 1, 1, 1, 1, 1, 1, 1, 0, 0, 1, 0, 1, 0, 1,~\n",
      "$ high_chol              \u001b[3m\u001b[90m<int>\u001b[39m\u001b[23m 1, 0, 1, 0, 1, 1, 0, 1, 1, 0, 0, 1, 0, 1, 1, 0,~\n",
      "$ chol_check             \u001b[3m\u001b[90m<int>\u001b[39m\u001b[23m 1, 0, 1, 1, 1, 1, 1, 1, 1, 1, 1, 1, 1, 1, 1, 1,~\n",
      "$ bmi                    \u001b[3m\u001b[90m<int>\u001b[39m\u001b[23m 40, 25, 28, 27, 24, 25, 30, 25, 30, 24, 25, 34,~\n",
      "$ smoker                 \u001b[3m\u001b[90m<int>\u001b[39m\u001b[23m 1, 1, 0, 0, 0, 1, 1, 1, 1, 0, 1, 1, 1, 0, 1, 0,~\n",
      "$ stroke                 \u001b[3m\u001b[90m<int>\u001b[39m\u001b[23m 0, 0, 0, 0, 0, 0, 0, 0, 0, 0, 0, 0, 0, 0, 1, 0,~\n",
      "$ heart_diseaseor_attack \u001b[3m\u001b[90m<int>\u001b[39m\u001b[23m 0, 0, 0, 0, 0, 0, 0, 0, 1, 0, 0, 0, 0, 0, 0, 0,~\n",
      "$ phys_activity          \u001b[3m\u001b[90m<int>\u001b[39m\u001b[23m 0, 1, 0, 1, 1, 1, 0, 1, 0, 0, 1, 0, 0, 0, 1, 1,~\n",
      "$ fruits                 \u001b[3m\u001b[90m<int>\u001b[39m\u001b[23m 0, 0, 1, 1, 1, 1, 0, 0, 1, 0, 1, 1, 0, 0, 0, 0,~\n",
      "$ veggies                \u001b[3m\u001b[90m<int>\u001b[39m\u001b[23m 1, 0, 0, 1, 1, 1, 0, 1, 1, 1, 1, 1, 1, 1, 1, 0,~\n",
      "$ hvy_alcohol_consump    \u001b[3m\u001b[90m<int>\u001b[39m\u001b[23m 0, 0, 0, 0, 0, 0, 0, 0, 0, 0, 0, 0, 0, 0, 0, 0,~\n",
      "$ any_healthcare         \u001b[3m\u001b[90m<int>\u001b[39m\u001b[23m 1, 0, 1, 1, 1, 1, 1, 1, 1, 1, 1, 1, 1, 1, 1, 1,~\n",
      "$ no_docbc_cost          \u001b[3m\u001b[90m<int>\u001b[39m\u001b[23m 0, 1, 1, 0, 0, 0, 0, 0, 0, 0, 0, 0, 0, 0, 1, 0,~\n",
      "$ gen_hlth               \u001b[3m\u001b[90m<int>\u001b[39m\u001b[23m 5, 3, 5, 2, 2, 2, 3, 3, 5, 2, 3, 3, 3, 4, 4, 2,~\n",
      "$ ment_hlth              \u001b[3m\u001b[90m<int>\u001b[39m\u001b[23m 18, 0, 30, 0, 3, 0, 0, 0, 30, 0, 0, 0, 0, 0, 30~\n",
      "$ phys_hlth              \u001b[3m\u001b[90m<int>\u001b[39m\u001b[23m 15, 0, 30, 0, 0, 2, 14, 0, 30, 0, 0, 30, 15, 0,~\n",
      "$ diff_walk              \u001b[3m\u001b[90m<int>\u001b[39m\u001b[23m 1, 0, 1, 0, 0, 0, 0, 1, 1, 0, 0, 1, 0, 1, 0, 0,~\n",
      "$ sex                    \u001b[3m\u001b[90m<int>\u001b[39m\u001b[23m 0, 0, 0, 0, 0, 1, 0, 0, 0, 1, 1, 0, 0, 0, 0, 0,~\n",
      "$ age                    \u001b[3m\u001b[90m<int>\u001b[39m\u001b[23m 9, 7, 9, 11, 11, 10, 9, 11, 9, 8, 13, 10, 7, 11~\n",
      "$ education              \u001b[3m\u001b[90m<int>\u001b[39m\u001b[23m 4, 6, 4, 3, 5, 6, 6, 4, 5, 4, 6, 5, 5, 4, 6, 6,~\n",
      "$ income                 \u001b[3m\u001b[90m<int>\u001b[39m\u001b[23m 3, 1, 8, 6, 4, 8, 7, 4, 1, 3, 8, 1, 7, 6, 2, 8,~\n"
     ]
    }
   ],
   "source": [
    "cleaned_data <- read.csv(file = \"../data/cleaned_data.csv\")\n",
    "glimpse(cleaned_data|>clean_names())"
   ]
  },
  {
   "cell_type": "code",
   "execution_count": 3,
   "metadata": {
    "vscode": {
     "languageId": "r"
    }
   },
   "outputs": [
    {
     "name": "stderr",
     "output_type": "stream",
     "text": [
      "Your code contains a unicode char which cannot be displayed in your\n",
      "current locale and R will silently convert it to an escaped form when the\n",
      "R kernel executes this code. This can lead to subtle errors if you use\n",
      "such chars to do comparisons. For more information, please see\n",
      "https://github.com/IRkernel/repr/wiki/Problems-with-unicode-on-windows"
     ]
    }
   ],
   "source": [
    "process_data <- function(data) {\n",
    "  # Clean column names\n",
    "  data <- clean_names(data)\n",
    "  \n",
    "  # Hàm để phân loại BMI\n",
    "  categorize_bmi <- function(bmi) {\n",
    "    if (bmi < 18.5) {\n",
    "      return('Underweight')\n",
    "    } else if (bmi >= 18.5 & bmi < 24.9) {\n",
    "      return('Normal weight')\n",
    "    } else if (bmi >= 25 & bmi < 29.9) {\n",
    "      return('Overweight')\n",
    "    } else if (bmi >= 30 & bmi < 34.9) {\n",
    "      return('Obesity class 1')\n",
    "    } else if (bmi >= 35 & bmi < 39.9) {\n",
    "      return('Obesity class 2')\n",
    "    } else {\n",
    "      return('Obesity class 3')\n",
    "    }\n",
    "  }\n",
    "\n",
    "  categorize_phys <- function(phys) {\n",
    "    if (phys == 0) {\n",
    "      return('0 day')\n",
    "    } else if (phys <= 7) {\n",
    "      return('few days')\n",
    "    } else if (phys <= 30) {\n",
    "      return('many days')\n",
    "    }\n",
    "  }\n",
    "  \n",
    "  # Tạo cột mới bmi_category và phys_category cho dataframe data\n",
    "  data$bmi_category <- sapply(data$bmi, categorize_bmi)\n",
    "  data$phys_category <- sapply(data$phys_hlth, categorize_phys)\n",
    "  # Chuyển đổi bmi_category thành factor với các levels cụ thể\n",
    "  data$bmi_category <- factor(data$bmi_category, levels = c('Underweight', 'Normal weight', 'Overweight', 'Obesity class 1', 'Obesity class 2', 'Obesity class 3'))\n",
    "  data$phys_category <- factor(data$phys_category, levels = c(\"0 day\", \"few days\", \"many days\"))\n",
    "\n",
    "  # Xóa các cột không cần thiết\n",
    "  data <- within(data, rm(\"bmi\", \"ment_hlth\", \"phys_hlth\"))\n",
    "\n",
    "  data <- data |> mutate(across(everything(), as.factor))\n",
    "  return(data)\n",
    "}"
   ]
  },
  {
   "cell_type": "code",
   "execution_count": 4,
   "metadata": {
    "vscode": {
     "languageId": "r"
    }
   },
   "outputs": [
    {
     "name": "stdout",
     "output_type": "stream",
     "text": [
      "Rows: 253,680\n",
      "Columns: 21\n",
      "$ diabetes_012           \u001b[3m\u001b[90m<fct>\u001b[39m\u001b[23m 0, 0, 0, 0, 0, 0, 0, 0, 2, 0, 2, 0, 0, 2, 0, 0,~\n",
      "$ high_bp                \u001b[3m\u001b[90m<fct>\u001b[39m\u001b[23m 1, 0, 1, 1, 1, 1, 1, 1, 1, 0, 0, 1, 0, 1, 0, 1,~\n",
      "$ high_chol              \u001b[3m\u001b[90m<fct>\u001b[39m\u001b[23m 1, 0, 1, 0, 1, 1, 0, 1, 1, 0, 0, 1, 0, 1, 1, 0,~\n",
      "$ chol_check             \u001b[3m\u001b[90m<fct>\u001b[39m\u001b[23m 1, 0, 1, 1, 1, 1, 1, 1, 1, 1, 1, 1, 1, 1, 1, 1,~\n",
      "$ smoker                 \u001b[3m\u001b[90m<fct>\u001b[39m\u001b[23m 1, 1, 0, 0, 0, 1, 1, 1, 1, 0, 1, 1, 1, 0, 1, 0,~\n",
      "$ stroke                 \u001b[3m\u001b[90m<fct>\u001b[39m\u001b[23m 0, 0, 0, 0, 0, 0, 0, 0, 0, 0, 0, 0, 0, 0, 1, 0,~\n",
      "$ heart_diseaseor_attack \u001b[3m\u001b[90m<fct>\u001b[39m\u001b[23m 0, 0, 0, 0, 0, 0, 0, 0, 1, 0, 0, 0, 0, 0, 0, 0,~\n",
      "$ phys_activity          \u001b[3m\u001b[90m<fct>\u001b[39m\u001b[23m 0, 1, 0, 1, 1, 1, 0, 1, 0, 0, 1, 0, 0, 0, 1, 1,~\n",
      "$ fruits                 \u001b[3m\u001b[90m<fct>\u001b[39m\u001b[23m 0, 0, 1, 1, 1, 1, 0, 0, 1, 0, 1, 1, 0, 0, 0, 0,~\n",
      "$ veggies                \u001b[3m\u001b[90m<fct>\u001b[39m\u001b[23m 1, 0, 0, 1, 1, 1, 0, 1, 1, 1, 1, 1, 1, 1, 1, 0,~\n",
      "$ hvy_alcohol_consump    \u001b[3m\u001b[90m<fct>\u001b[39m\u001b[23m 0, 0, 0, 0, 0, 0, 0, 0, 0, 0, 0, 0, 0, 0, 0, 0,~\n",
      "$ any_healthcare         \u001b[3m\u001b[90m<fct>\u001b[39m\u001b[23m 1, 0, 1, 1, 1, 1, 1, 1, 1, 1, 1, 1, 1, 1, 1, 1,~\n",
      "$ no_docbc_cost          \u001b[3m\u001b[90m<fct>\u001b[39m\u001b[23m 0, 1, 1, 0, 0, 0, 0, 0, 0, 0, 0, 0, 0, 0, 1, 0,~\n",
      "$ gen_hlth               \u001b[3m\u001b[90m<fct>\u001b[39m\u001b[23m 5, 3, 5, 2, 2, 2, 3, 3, 5, 2, 3, 3, 3, 4, 4, 2,~\n",
      "$ diff_walk              \u001b[3m\u001b[90m<fct>\u001b[39m\u001b[23m 1, 0, 1, 0, 0, 0, 0, 1, 1, 0, 0, 1, 0, 1, 0, 0,~\n",
      "$ sex                    \u001b[3m\u001b[90m<fct>\u001b[39m\u001b[23m 0, 0, 0, 0, 0, 1, 0, 0, 0, 1, 1, 0, 0, 0, 0, 0,~\n",
      "$ age                    \u001b[3m\u001b[90m<fct>\u001b[39m\u001b[23m 9, 7, 9, 11, 11, 10, 9, 11, 9, 8, 13, 10, 7, 11~\n",
      "$ education              \u001b[3m\u001b[90m<fct>\u001b[39m\u001b[23m 4, 6, 4, 3, 5, 6, 6, 4, 5, 4, 6, 5, 5, 4, 6, 6,~\n",
      "$ income                 \u001b[3m\u001b[90m<fct>\u001b[39m\u001b[23m 3, 1, 8, 6, 4, 8, 7, 4, 1, 3, 8, 1, 7, 6, 2, 8,~\n",
      "$ bmi_category           \u001b[3m\u001b[90m<fct>\u001b[39m\u001b[23m Obesity class 3, Overweight, Overweight, Overwe~\n",
      "$ phys_category          \u001b[3m\u001b[90m<fct>\u001b[39m\u001b[23m many days, 0 day, many days, 0 day, 0 day, few ~\n"
     ]
    }
   ],
   "source": [
    "cleaned_data <- process_data(cleaned_data)\n",
    "glimpse(cleaned_data)"
   ]
  },
  {
   "cell_type": "code",
   "execution_count": 5,
   "metadata": {
    "vscode": {
     "languageId": "r"
    }
   },
   "outputs": [
    {
     "name": "stderr",
     "output_type": "stream",
     "text": [
      "Your code contains a unicode char which cannot be displayed in your\n",
      "current locale and R will silently convert it to an escaped form when the\n",
      "R kernel executes this code. This can lead to subtle errors if you use\n",
      "such chars to do comparisons. For more information, please see\n",
      "https://github.com/IRkernel/repr/wiki/Problems-with-unicode-on-windows"
     ]
    }
   ],
   "source": [
    "# Hàm để chia train test theo tỷ lệ\n",
    "train_test_split <- function(data, train_ratio = 0.8) {\n",
    "        set.seed(123)  # Đặt seed để đảm bảo tính tái lập\n",
    "\n",
    "        # Randomly shuffle the data\n",
    "        shuffled_indices <- sample(seq_len(nrow(data)))\n",
    "\n",
    "        # Determine the number of training samples\n",
    "        train_size <- floor(train_ratio * nrow(data))\n",
    "\n",
    "        # Split the data into training and testing sets\n",
    "        train_indices <- shuffled_indices[1:train_size]\n",
    "        test_indices <- shuffled_indices[(train_size + 1):nrow(data)]\n",
    "\n",
    "        train_data <- data[train_indices, ]\n",
    "        test_data <- data[test_indices, ]\n",
    "\n",
    "        res <- list(\n",
    "                train_data = train_data,\n",
    "                test_data = test_data\n",
    "        )\n",
    "        return(res)\n",
    "}"
   ]
  },
  {
   "cell_type": "code",
   "execution_count": 9,
   "metadata": {
    "vscode": {
     "languageId": "r"
    }
   },
   "outputs": [
    {
     "name": "stdout",
     "output_type": "stream",
     "text": [
      "\n",
      "     0      1      2 \n",
      "170989   3676  28279 \n",
      "\n",
      "    0     1     2 \n",
      "42714   955  7067 \n"
     ]
    }
   ],
   "source": [
    "split_cleaned_data <- train_test_split(cleaned_data)\n",
    "\n",
    "print(table(split_cleaned_data$train_data$diabetes_012))\n",
    "print(table(split_cleaned_data$test_data$diabetes_012))"
   ]
  },
  {
   "cell_type": "code",
   "execution_count": 10,
   "metadata": {
    "vscode": {
     "languageId": "r"
    }
   },
   "outputs": [],
   "source": [
    "write.csv(split_cleaned_data$train_data, file = \"../data/train_data.csv\", row.names = FALSE)\n",
    "write.csv(split_cleaned_data$test_data, file = \"../data/test_data.csv\", row.names = FALSE)"
   ]
  },
  {
   "cell_type": "code",
   "execution_count": null,
   "metadata": {
    "vscode": {
     "languageId": "r"
    }
   },
   "outputs": [],
   "source": []
  }
 ],
 "metadata": {
  "kernelspec": {
   "display_name": "R",
   "language": "R",
   "name": "ir"
  },
  "language_info": {
   "codemirror_mode": "r",
   "file_extension": ".r",
   "mimetype": "text/x-r-source",
   "name": "R",
   "pygments_lexer": "r",
   "version": "4.1.3"
  }
 },
 "nbformat": 4,
 "nbformat_minor": 2
}
