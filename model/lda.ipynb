{
 "cells": [
  {
   "cell_type": "code",
   "execution_count": 68,
   "metadata": {
    "vscode": {
     "languageId": "r"
    }
   },
   "outputs": [],
   "source": [
    "library(ggplot2)\n",
    "library(tidyverse)\n",
    "library(MASS)\n",
    "library(janitor)\n",
    "library(dplyr)\n",
    "library(pROC)\n",
    "library(irr)\n",
    "library(reshape2)"
   ]
  },
  {
   "cell_type": "code",
   "execution_count": 69,
   "metadata": {
    "vscode": {
     "languageId": "r"
    }
   },
   "outputs": [],
   "source": [
    "train_data = read.csv(\"../data/train_data.csv\")\n",
    "test_data = read.csv(\"../data/test_data.csv\")"
   ]
  },
  {
   "cell_type": "code",
   "execution_count": 70,
   "metadata": {
    "vscode": {
     "languageId": "r"
    }
   },
   "outputs": [
    {
     "name": "stdout",
     "output_type": "stream",
     "text": [
      "Rows: 202,944\n",
      "Columns: 21\n",
      "$ diabetes_012           \u001b[3m\u001b[90m<int>\u001b[39m\u001b[23m 0, 0, 0, 2, 0, 0, 0, 0, 0, 0, 2, 0, 0, 2, 0, 2,~\n",
      "$ high_bp                \u001b[3m\u001b[90m<int>\u001b[39m\u001b[23m 0, 1, 0, 1, 1, 0, 0, 1, 0, 0, 1, 0, 1, 1, 1, 1,~\n",
      "$ high_chol              \u001b[3m\u001b[90m<int>\u001b[39m\u001b[23m 0, 0, 0, 0, 0, 1, 0, 0, 0, 0, 1, 0, 1, 1, 1, 1,~\n",
      "$ chol_check             \u001b[3m\u001b[90m<int>\u001b[39m\u001b[23m 1, 1, 1, 1, 1, 1, 1, 1, 1, 1, 1, 1, 1, 1, 1, 1,~\n",
      "$ smoker                 \u001b[3m\u001b[90m<int>\u001b[39m\u001b[23m 1, 1, 0, 1, 0, 1, 0, 0, 1, 0, 1, 0, 1, 0, 1, 1,~\n",
      "$ stroke                 \u001b[3m\u001b[90m<int>\u001b[39m\u001b[23m 0, 0, 0, 0, 0, 0, 0, 0, 0, 0, 1, 0, 0, 0, 0, 0,~\n",
      "$ heart_diseaseor_attack \u001b[3m\u001b[90m<int>\u001b[39m\u001b[23m 0, 0, 0, 0, 0, 1, 0, 0, 0, 0, 0, 0, 1, 0, 1, 0,~\n",
      "$ phys_activity          \u001b[3m\u001b[90m<int>\u001b[39m\u001b[23m 1, 1, 0, 1, 1, 1, 1, 1, 1, 1, 0, 1, 0, 1, 1, 1,~\n",
      "$ fruits                 \u001b[3m\u001b[90m<int>\u001b[39m\u001b[23m 0, 1, 1, 1, 1, 1, 1, 0, 1, 1, 1, 1, 0, 1, 1, 0,~\n",
      "$ veggies                \u001b[3m\u001b[90m<int>\u001b[39m\u001b[23m 1, 1, 1, 0, 1, 1, 0, 0, 1, 1, 1, 1, 0, 1, 0, 0,~\n",
      "$ hvy_alcohol_consump    \u001b[3m\u001b[90m<int>\u001b[39m\u001b[23m 1, 0, 0, 0, 0, 0, 0, 0, 0, 0, 0, 0, 0, 0, 0, 0,~\n",
      "$ any_healthcare         \u001b[3m\u001b[90m<int>\u001b[39m\u001b[23m 1, 1, 1, 1, 1, 1, 1, 1, 1, 1, 0, 1, 1, 1, 1, 1,~\n",
      "$ no_docbc_cost          \u001b[3m\u001b[90m<int>\u001b[39m\u001b[23m 0, 0, 1, 1, 0, 0, 0, 1, 0, 0, 1, 0, 1, 0, 0, 0,~\n",
      "$ gen_hlth               \u001b[3m\u001b[90m<int>\u001b[39m\u001b[23m 1, 2, 1, 4, 3, 2, 1, 3, 5, 2, 5, 1, 5, 2, 3, 3,~\n",
      "$ diff_walk              \u001b[3m\u001b[90m<int>\u001b[39m\u001b[23m 0, 0, 0, 1, 1, 0, 0, 0, 1, 0, 1, 0, 1, 0, 0, 0,~\n",
      "$ sex                    \u001b[3m\u001b[90m<int>\u001b[39m\u001b[23m 0, 0, 0, 0, 0, 0, 1, 0, 1, 0, 0, 0, 1, 1, 1, 0,~\n",
      "$ age                    \u001b[3m\u001b[90m<int>\u001b[39m\u001b[23m 12, 12, 7, 10, 11, 12, 7, 11, 6, 9, 8, 8, 10, 8~\n",
      "$ education              \u001b[3m\u001b[90m<int>\u001b[39m\u001b[23m 6, 6, 5, 4, 5, 6, 6, 2, 4, 5, 4, 6, 5, 6, 4, 4,~\n",
      "$ income                 \u001b[3m\u001b[90m<int>\u001b[39m\u001b[23m 8, 6, 5, 5, 4, 8, 7, 2, 1, 6, 2, 7, 3, 8, 5, 1,~\n",
      "$ bmi_category           \u001b[3m\u001b[90m<chr>\u001b[39m\u001b[23m \"Normal weight\", \"Obesity class 2\", \"Normal wei~\n",
      "$ phys_category          \u001b[3m\u001b[90m<chr>\u001b[39m\u001b[23m \"0 day\", \"few days\", \"0 day\", \"many days\", \"0 d~\n"
     ]
    }
   ],
   "source": [
    "glimpse(train_data)"
   ]
  },
  {
   "cell_type": "markdown",
   "metadata": {},
   "source": [
    "## Data Preprocessing"
   ]
  },
  {
   "cell_type": "code",
   "execution_count": 72,
   "metadata": {
    "vscode": {
     "languageId": "r"
    }
   },
   "outputs": [],
   "source": [
    "train_data <- train_data |> mutate(across(everything(), as.factor))\n",
    "test_data <- test_data |> mutate(across(everything(), as.factor))"
   ]
  },
  {
   "cell_type": "code",
   "execution_count": 73,
   "metadata": {
    "vscode": {
     "languageId": "r"
    }
   },
   "outputs": [
    {
     "name": "stdout",
     "output_type": "stream",
     "text": [
      "Rows: 202,944\n",
      "Columns: 21\n",
      "$ diabetes_012           \u001b[3m\u001b[90m<fct>\u001b[39m\u001b[23m 0, 0, 0, 2, 0, 0, 0, 0, 0, 0, 2, 0, 0, 2, 0, 2,~\n",
      "$ high_bp                \u001b[3m\u001b[90m<fct>\u001b[39m\u001b[23m 0, 1, 0, 1, 1, 0, 0, 1, 0, 0, 1, 0, 1, 1, 1, 1,~\n",
      "$ high_chol              \u001b[3m\u001b[90m<fct>\u001b[39m\u001b[23m 0, 0, 0, 0, 0, 1, 0, 0, 0, 0, 1, 0, 1, 1, 1, 1,~\n",
      "$ chol_check             \u001b[3m\u001b[90m<fct>\u001b[39m\u001b[23m 1, 1, 1, 1, 1, 1, 1, 1, 1, 1, 1, 1, 1, 1, 1, 1,~\n",
      "$ smoker                 \u001b[3m\u001b[90m<fct>\u001b[39m\u001b[23m 1, 1, 0, 1, 0, 1, 0, 0, 1, 0, 1, 0, 1, 0, 1, 1,~\n",
      "$ stroke                 \u001b[3m\u001b[90m<fct>\u001b[39m\u001b[23m 0, 0, 0, 0, 0, 0, 0, 0, 0, 0, 1, 0, 0, 0, 0, 0,~\n",
      "$ heart_diseaseor_attack \u001b[3m\u001b[90m<fct>\u001b[39m\u001b[23m 0, 0, 0, 0, 0, 1, 0, 0, 0, 0, 0, 0, 1, 0, 1, 0,~\n",
      "$ phys_activity          \u001b[3m\u001b[90m<fct>\u001b[39m\u001b[23m 1, 1, 0, 1, 1, 1, 1, 1, 1, 1, 0, 1, 0, 1, 1, 1,~\n",
      "$ fruits                 \u001b[3m\u001b[90m<fct>\u001b[39m\u001b[23m 0, 1, 1, 1, 1, 1, 1, 0, 1, 1, 1, 1, 0, 1, 1, 0,~\n",
      "$ veggies                \u001b[3m\u001b[90m<fct>\u001b[39m\u001b[23m 1, 1, 1, 0, 1, 1, 0, 0, 1, 1, 1, 1, 0, 1, 0, 0,~\n",
      "$ hvy_alcohol_consump    \u001b[3m\u001b[90m<fct>\u001b[39m\u001b[23m 1, 0, 0, 0, 0, 0, 0, 0, 0, 0, 0, 0, 0, 0, 0, 0,~\n",
      "$ any_healthcare         \u001b[3m\u001b[90m<fct>\u001b[39m\u001b[23m 1, 1, 1, 1, 1, 1, 1, 1, 1, 1, 0, 1, 1, 1, 1, 1,~\n",
      "$ no_docbc_cost          \u001b[3m\u001b[90m<fct>\u001b[39m\u001b[23m 0, 0, 1, 1, 0, 0, 0, 1, 0, 0, 1, 0, 1, 0, 0, 0,~\n",
      "$ gen_hlth               \u001b[3m\u001b[90m<fct>\u001b[39m\u001b[23m 1, 2, 1, 4, 3, 2, 1, 3, 5, 2, 5, 1, 5, 2, 3, 3,~\n",
      "$ diff_walk              \u001b[3m\u001b[90m<fct>\u001b[39m\u001b[23m 0, 0, 0, 1, 1, 0, 0, 0, 1, 0, 1, 0, 1, 0, 0, 0,~\n",
      "$ sex                    \u001b[3m\u001b[90m<fct>\u001b[39m\u001b[23m 0, 0, 0, 0, 0, 0, 1, 0, 1, 0, 0, 0, 1, 1, 1, 0,~\n",
      "$ age                    \u001b[3m\u001b[90m<fct>\u001b[39m\u001b[23m 12, 12, 7, 10, 11, 12, 7, 11, 6, 9, 8, 8, 10, 8~\n",
      "$ education              \u001b[3m\u001b[90m<fct>\u001b[39m\u001b[23m 6, 6, 5, 4, 5, 6, 6, 2, 4, 5, 4, 6, 5, 6, 4, 4,~\n",
      "$ income                 \u001b[3m\u001b[90m<fct>\u001b[39m\u001b[23m 8, 6, 5, 5, 4, 8, 7, 2, 1, 6, 2, 7, 3, 8, 5, 1,~\n",
      "$ bmi_category           \u001b[3m\u001b[90m<fct>\u001b[39m\u001b[23m Normal weight, Obesity class 2, Normal weight, ~\n",
      "$ phys_category          \u001b[3m\u001b[90m<fct>\u001b[39m\u001b[23m 0 day, few days, 0 day, many days, 0 day, 0 day~\n"
     ]
    }
   ],
   "source": [
    "glimpse(train_data)"
   ]
  },
  {
   "cell_type": "code",
   "execution_count": 81,
   "metadata": {
    "vscode": {
     "languageId": "r"
    }
   },
   "outputs": [
    {
     "name": "stdout",
     "output_type": "stream",
     "text": [
      "\n",
      "     0      1      2 \n",
      "170989   3676  28279 \n",
      "\n",
      "    0     1     2 \n",
      "42714   955  7067 \n"
     ]
    }
   ],
   "source": [
    "print(table(train_data$diabetes_012))\n",
    "print(table(test_data$diabetes_012))"
   ]
  },
  {
   "cell_type": "markdown",
   "metadata": {},
   "source": [
    "## Modeling"
   ]
  },
  {
   "cell_type": "markdown",
   "metadata": {},
   "source": [
    "Hàm Cross Validation với K Folds = 5 cho LDA và QDA"
   ]
  },
  {
   "cell_type": "code",
   "execution_count": 82,
   "metadata": {
    "vscode": {
     "languageId": "r"
    }
   },
   "outputs": [],
   "source": [
    "# Cross validation LDA\n",
    "# Cross validation LDA\n",
    "lda_cross_validate <- function(model_formula, data, k = 5) {\n",
    "    set.seed(123) # Set seed for reproducibility\n",
    "    \n",
    "    # Create k-folds\n",
    "    folds <- sample(rep(1:k, length.out = nrow(data)))\n",
    "    \n",
    "    # Initialize a list to store results and models\n",
    "    results <- list()\n",
    "    models <- list()\n",
    "    \n",
    "    # Perform cross-validation\n",
    "    for (i in 1:k) {\n",
    "        # Split data into training and testing sets\n",
    "        train_data <- data[folds != i, ]\n",
    "        test_data <- data[folds == i, ]\n",
    "        \n",
    "        # Train the model on the training set\n",
    "        model <- lda(formula = model_formula, data = train_data)\n",
    "        \n",
    "        # Predict on the testing set\n",
    "        predictions <- predict(model, test_data)$class\n",
    "        \n",
    "        # Calculate metrics\n",
    "        confusion <- table(predictions, test_data$diabetes_012)\n",
    "        accuracy <- sum(diag(confusion)) / sum(confusion)\n",
    "        precision <- diag(confusion) / rowSums(confusion)\n",
    "        precision[is.nan(precision)] <- 0\n",
    "        recall <- diag(confusion) / colSums(confusion)\n",
    "        recall[is.nan(recall)] <- 0\n",
    "        f1 <- 2 * (precision * recall) / (precision + recall)\n",
    "        f1[is.nan(f1)] <- 0\n",
    "        \n",
    "        # Convert confusion matrix to data frame for kappam.fleiss\n",
    "        confusion_df <- as.data.frame(as.table(confusion))\n",
    "        kappa <- kappam.fleiss(confusion_df)$value\n",
    "        \n",
    "        # Store the result and model\n",
    "        results[[i]] <- list(\n",
    "            accuracy = accuracy,\n",
    "            precision = precision,\n",
    "            recall = recall,\n",
    "            f1 = f1,\n",
    "            kappa = kappa\n",
    "        )\n",
    "        models[[i]] <- model\n",
    "    }\n",
    "    \n",
    "    return(list(models = models, results = results))\n",
    "}\n",
    "\n",
    "# Cross validation QDA\n",
    "qda_cross_validate <- function(model_formula, data, k = 5) {\n",
    "    set.seed(123) # Set seed for reproducibility\n",
    "    \n",
    "    # Create k-folds\n",
    "    folds <- sample(rep(1:k, length.out = nrow(data)))\n",
    "    \n",
    "    # Initialize a list to store results and models\n",
    "    results <- list()\n",
    "    models <- list()\n",
    "    \n",
    "    # Perform cross-validation\n",
    "    for (i in 1:k) {\n",
    "        # Split data into training and testing sets\n",
    "        train_data <- data[folds != i, ]\n",
    "        test_data <- data[folds == i, ]\n",
    "        \n",
    "        # Train the model on the training set\n",
    "        model <- qda(formula = model_formula, data = train_data)\n",
    "        \n",
    "        # Predict on the testing set\n",
    "        predictions <- predict(model, test_data)$class\n",
    "        \n",
    "        # Calculate metrics\n",
    "        confusion <- table(predictions, test_data$diabetes_012)\n",
    "        accuracy <- sum(diag(confusion)) / sum(confusion)\n",
    "        precision <- diag(confusion) / rowSums(confusion)\n",
    "        precision[is.nan(precision)] <- 0\n",
    "        recall <- diag(confusion) / colSums(confusion)\n",
    "        recall[is.nan(recall)] <- 0\n",
    "        f1 <- 2 * (precision * recall) / (precision + recall)\n",
    "        f1[is.nan(f1)] <- 0\n",
    "        \n",
    "        # Convert confusion matrix to data frame for kappam.fleiss\n",
    "        confusion_df <- as.data.frame(as.table(confusion))\n",
    "        kappa <- kappam.fleiss(confusion_df)$value\n",
    "        \n",
    "        # Store the result and model\n",
    "        results[[i]] <- list(\n",
    "            accuracy = accuracy,\n",
    "            precision = precision,\n",
    "            recall = recall,\n",
    "            f1 = f1,\n",
    "            kappa = kappa\n",
    "        )\n",
    "        models[[i]] <- model\n",
    "    }\n",
    "    \n",
    "    return(list(models = models, results = results))\n",
    "}"
   ]
  },
  {
   "cell_type": "markdown",
   "metadata": {},
   "source": [
    "### Thử trên data gốc"
   ]
  },
  {
   "cell_type": "code",
   "execution_count": 83,
   "metadata": {
    "vscode": {
     "languageId": "r"
    }
   },
   "outputs": [
    {
     "name": "stdout",
     "output_type": "stream",
     "text": [
      "             Metric       LDA.1       LDA.2       LDA.3       LDA.4       LDA.5\n",
      "accuracy   Accuracy  0.84495799  0.84712607  0.84303629  0.84633768  0.84446142\n",
      "precision Precision  0.45549125  0.46067685  0.45302742  0.46273847  0.45650112\n",
      "recall       Recall  0.40552203  0.40507449  0.40300278  0.40781005  0.40665185\n",
      "f1               F1  0.41731344  0.41760862  0.41426471  0.42060166  0.41849043\n",
      "kappa         Kappa -0.06930693 -0.06930693 -0.06930693 -0.06930693 -0.06930693\n",
      "                QDA.1       QDA.2       QDA.3       QDA.4       QDA.5\n",
      "accuracy   0.66444110  0.66441647  0.66461357  0.67143807  0.66867054\n",
      "precision  0.41995178  0.41738759  0.42015019  0.41827839  0.42157469\n",
      "recall     0.49421047  0.49036649  0.49323493  0.49208998  0.49568756\n",
      "f1         0.40806339  0.40724510  0.40860701  0.40768004  0.41112870\n",
      "kappa     -0.05882353 -0.05882353 -0.05882353 -0.05882353 -0.05882353\n"
     ]
    }
   ],
   "source": [
    "library(irr)\n",
    "\n",
    "# Apply cross-validation on train_data for LDA\n",
    "lda_results <- lda_cross_validate(diabetes_012 ~ ., train_data)\n",
    "lda_avg_results <- sapply(lda_results$results, function(res) sapply(res, mean))\n",
    "\n",
    "# Apply cross-validation on train_data for QDA\n",
    "qda_results <- qda_cross_validate(diabetes_012 ~ ., train_data)\n",
    "qda_avg_results <- sapply(qda_results$results, function(res) sapply(res, mean))\n",
    "\n",
    "# Combine results into a data frame\n",
    "avg_results <- data.frame(\n",
    "    Metric = c(\"Accuracy\", \"Precision\", \"Recall\", \"F1\", \"Kappa\"),\n",
    "    LDA = lda_avg_results,\n",
    "    QDA = qda_avg_results\n",
    ")\n",
    "\n",
    "# Print the results as a table\n",
    "print(avg_results)"
   ]
  },
  {
   "cell_type": "code",
   "execution_count": 96,
   "metadata": {
    "vscode": {
     "languageId": "r"
    }
   },
   "outputs": [
    {
     "name": "stdout",
     "output_type": "stream",
     "text": [
      "     Metric         LDA         QDA\n",
      "1  Accuracy  0.84651924  0.66493220\n",
      "2 Precision  0.69318910  0.41534246\n",
      "3    Recall  0.40558897  0.48805271\n",
      "4        F1  0.62721766  0.40399611\n",
      "5     Kappa -0.06930693 -0.05882353\n"
     ]
    },
    {
     "data": {
      "image/png": "[encoded data removed]",
      "text/plain": [
       "plot without title"
      ]
     },
     "metadata": {
      "image/png": {
       "height": 420,
       "width": 420
      }
     },
     "output_type": "display_data"
    }
   ],
   "source": [
    "# Determine the best model based on average accuracy\n",
    "best_model <- ifelse(mean(lda_avg_results[\"accuracy\", ]) > mean(qda_avg_results[\"accuracy\", ]), \"LDA\", \"QDA\")\n",
    "\n",
    "# Train the best LDA model on the entire training data\n",
    "final_lda_model <- lda(diabetes_012 ~ ., data = train_data)\n",
    "\n",
    "# Train the best QDA model on the entire training data\n",
    "final_qda_model <- qda(diabetes_012 ~ ., data = train_data)\n",
    "\n",
    "# Predict on the test data using both models\n",
    "lda_predictions <- predict(final_lda_model, test_data)$class\n",
    "qda_predictions <- predict(final_qda_model, test_data)$class\n",
    "\n",
    "# Get predicted probabilities for both models\n",
    "lda_pred_probs <- predict(final_lda_model, test_data)$posterior\n",
    "qda_pred_probs <- predict(final_qda_model, test_data)$posterior\n",
    "\n",
    "# Create confusion matrices for both models\n",
    "lda_confusion <- table(lda_predictions, test_data$diabetes_012)\n",
    "qda_confusion <- table(qda_predictions, test_data$diabetes_012)\n",
    "\n",
    "# Calculate metrics for LDA\n",
    "lda_accuracy <- sum(diag(lda_confusion)) / sum(lda_confusion)\n",
    "lda_precision <- diag(lda_confusion) / rowSums(lda_confusion)\n",
    "lda_recall <- diag(lda_confusion) / colSums(lda_confusion)\n",
    "lda_f1 <- 2 * (lda_precision * lda_recall) / (lda_precision + lda_recall)\n",
    "\n",
    "# Calculate metrics for QDA\n",
    "qda_accuracy <- sum(diag(qda_confusion)) / sum(qda_confusion)\n",
    "qda_precision <- diag(qda_confusion) / rowSums(qda_confusion)\n",
    "qda_recall <- diag(qda_confusion) / colSums(qda_confusion)\n",
    "qda_f1 <- 2 * (qda_precision * qda_recall) / (qda_precision + qda_recall)\n",
    "\n",
    "# Convert confusion matrices to data frames for kappam.fleiss\n",
    "lda_confusion_df <- as.data.frame(as.table(lda_confusion))\n",
    "qda_confusion_df <- as.data.frame(as.table(qda_confusion))\n",
    "lda_kappa <- kappam.fleiss(lda_confusion_df)$value\n",
    "qda_kappa <- kappam.fleiss(qda_confusion_df)$value\n",
    "\n",
    "# Create a data frame with the results\n",
    "results <- data.frame(\n",
    "    Metric = c(\"Accuracy\", \"Precision\", \"Recall\", \"F1\", \"Kappa\"),\n",
    "    LDA = c(lda_accuracy, mean(lda_precision, na.rm = TRUE), mean(lda_recall, na.rm = TRUE), mean(lda_f1, na.rm = TRUE), lda_kappa),\n",
    "    QDA = c(qda_accuracy, mean(qda_precision, na.rm = TRUE), mean(qda_recall, na.rm = TRUE), mean(qda_f1, na.rm = TRUE), qda_kappa)\n",
    ")\n",
    "\n",
    "# Print the results as a table\n",
    "print(results)\n",
    "\n",
    "# Plot the metrics\n",
    "metrics_data <- melt(results, id.vars = \"Metric\")\n",
    "\n",
    "ggplot(metrics_data, aes(x = Metric, y = value, fill = variable)) +\n",
    "    geom_bar(stat = \"identity\", position = \"dodge\") +\n",
    "    labs(title = \"Performance Metrics for LDA and QDA Models\",\n",
    "         x = \"Metric\",\n",
    "         y = \"Value\") +\n",
    "    theme_minimal()\n",
    "\n",
    "# Return predicted probabilities\n",
    "probs <- list(lda_pred_probs = lda_pred_probs, qda_pred_probs = qda_pred_probs)"
   ]
  },
  {
   "cell_type": "code",
   "execution_count": 88,
   "metadata": {
    "vscode": {
     "languageId": "r"
    }
   },
   "outputs": [
    {
     "data": {
      "text/plain": [
       "lda_predictions\n",
       "    0     1     2 \n",
       "47266     0  3470 "
      ]
     },
     "metadata": {},
     "output_type": "display_data"
    },
    {
     "data": {
      "text/plain": [
       "qda_predictions\n",
       "    0     1     2 \n",
       "29965   950 19821 "
      ]
     },
     "metadata": {},
     "output_type": "display_data"
    }
   ],
   "source": [
    "table(lda_predictions)\n",
    "table(qda_predictions)"
   ]
  },
  {
   "cell_type": "code",
   "execution_count": 91,
   "metadata": {
    "vscode": {
     "languageId": "r"
    }
   },
   "outputs": [],
   "source": [
    "plot_confusion_matrix <- function(predictions, actual, title = \"Confusion Matrix\") {\n",
    "     # Create a confusion matrix\n",
    "     confusion <- table(predictions, actual)\n",
    "     \n",
    "     # Convert the confusion matrix to a data frame\n",
    "     confusion_df <- as.data.frame(as.table(confusion))\n",
    "     \n",
    "     # Rename the columns to Var1 and Var2\n",
    "     colnames(confusion_df) <- c(\"Var1\", \"Var2\", \"Freq\")\n",
    "     \n",
    "     # Plot the confusion matrix with softer colors\n",
    "     ggplot(confusion_df, aes(Var1, Var2, fill = Freq)) +\n",
    "          geom_tile() +\n",
    "          geom_text(aes(label = Freq), color = \"black\") +\n",
    "          scale_fill_gradient(low = \"lightblue\", high = \"lightgreen\") +\n",
    "          labs(title = title,\n",
    "                x = \"Predicted\",\n",
    "                y = \"Actual\") +\n",
    "          theme_minimal()\n",
    "}"
   ]
  },
  {
   "cell_type": "code",
   "execution_count": 92,
   "metadata": {
    "vscode": {
     "languageId": "r"
    }
   },
   "outputs": [
    {
     "data": {
      "image/png": "[encoded data removed]",
      "text/plain": [
       "plot without title"
      ]
     },
     "metadata": {
      "image/png": {
       "height": 420,
       "width": 420
      }
     },
     "output_type": "display_data"
    }
   ],
   "source": [
    "plot_confusion_matrix(lda_predictions, test_data$diabetes_012, \"Confusion Matrix - LDA Predictions\")"
   ]
  },
  {
   "cell_type": "markdown",
   "metadata": {},
   "source": [
    "**ĐÁNH GIÁ VỀ SỰ PHÂN LOẠI**\n",
    "\n",
    "Class 0 (Không bị tiểu đường):\n",
    "\n",
    "- Được dự đoán là class 0: 41160 (True Negative).\n",
    "- Sai khi dự đoán thành class 1 hoặc 2: 0 mẫu → Mô hình cực kỳ ưu tiên class này.\n",
    "- Nhận xét: Mô hình có độ chính xác cao với class 0 nhưng có thể bị overfitting vào class này do mất cân bằng dữ liệu.\n",
    "\n",
    "---\n",
    "Class 1 (Tiền tiểu đường):\n",
    "\n",
    "- Dự đoán đúng là class 1: 127 (True Positive).\n",
    "- Sai thành class 0: 828 → Rất nhiều lỗi phân loại.\n",
    "- Sai thành class 2: 0.\n",
    "- Nhận xét: Mô hình có độ nhạy (Recall) rất thấp đối với class 1. Điều này cho thấy khả năng phát hiện class này của mô hình là rất kém.\n",
    "\n",
    "---\n",
    "Class 2 (Bị tiểu đường):\n",
    "\n",
    "- Dự đoán đúng là class 2: 5278 (True Positive).\n",
    "- Sai thành class 0: 1789 → Số lỗi phân loại đáng kể.\n",
    "- Sai thành class 1: 0.\n",
    "- Nhận xét: Hiệu suất dự đoán của mô hình đối với class 2 là khá tốt nhưng vẫn có tỷ lệ lỗi cao khi nhầm với class 0.\n",
    "\n",
    "---\n",
    "\n",
    "**ĐÁNH GIÁ TỔNG QUAN**\n",
    "\n",
    "1. Sự thiên lệch nghiêm trọng về class (Imbalanced Data):\n",
    "- Class 0 (Không bị tiểu đường) chiếm số lượng áp đảo.\n",
    "- Mô hình hoạt động tốt trên class này nhưng lại bỏ qua các class khác (1 và 2).\n",
    "2. Hiệu suất kém với class nhỏ (1 - Tiền tiểu đường):\n",
    "- Mô hình gần như không nhận diện được class này, cho thấy cần cải thiện bằng cách xử lý mất cân bằng dữ liệu.\n",
    "3. Cần cải thiện độ nhạy (Recall) và độ chính xác cân bằng (Balanced Accuracy):\n",
    "- Tập trung vào cải thiện các chỉ số F1-score và Precision cho các class nhỏ."
   ]
  },
  {
   "cell_type": "code",
   "execution_count": 93,
   "metadata": {
    "vscode": {
     "languageId": "r"
    }
   },
   "outputs": [
    {
     "data": {
      "image/png": "[encoded data removed]",
      "text/plain": [
       "plot without title"
      ]
     },
     "metadata": {
      "image/png": {
       "height": 420,
       "width": 420
      }
     },
     "output_type": "display_data"
    }
   ],
   "source": [
    "plot_confusion_matrix(qda_predictions, test_data$diabetes_012, \"Confusion Matrix - QDA Predictions\")"
   ]
  },
  {
   "cell_type": "markdown",
   "metadata": {},
   "source": [
    " **ĐÁNH GIÁ VỀ SỰ PHÂN LOẠI**\n",
    "\n",
    "**Class 0 (Không bị tiểu đường):**\n",
    "- **Dự đoán đúng là class 0:** 28225 (True Negative).  \n",
    "- **Sai thành class 1:** 760.  \n",
    "- **Sai thành class 2:** 13729.  \n",
    "- **Nhận xét:**  \n",
    "  - Mô hình có độ chính xác khá cao cho class 0 nhưng vẫn nhầm lẫn một lượng lớn thành class 2 (13729).  \n",
    "  - Có dấu hiệu mất cân bằng nhưng ít nghiêm trọng hơn so với mô hình LDA trước đó.  \n",
    "\n",
    "---\n",
    "\n",
    "**Class 1 (Tiền tiểu đường):**\n",
    "- **Dự đoán đúng là class 1:** 26 (True Positive).  \n",
    "- **Sai thành class 0:** 322.  \n",
    "- **Sai thành class 2:** 607.  \n",
    "- **Nhận xét:**  \n",
    "  - Mô hình có hiệu suất cực kỳ thấp với class 1, hầu như không phân loại chính xác.  \n",
    "  - Recall (Độ nhạy) rất thấp, cho thấy cần cải thiện để nhận diện class này tốt hơn.  \n",
    "\n",
    "---\n",
    "\n",
    "**Class 2 (Bị tiểu đường):**\n",
    "- **Dự đoán đúng là class 2:** 1418 (True Positive).  \n",
    "- **Sai thành class 0:** 5485.  \n",
    "- **Sai thành class 1:** 164.  \n",
    "- **Nhận xét:**  \n",
    "  - Hiệu suất trên class 2 khá kém với nhiều nhầm lẫn thành class 0.  \n",
    "  - Độ nhạy thấp nhưng vẫn nhận diện được nhiều mẫu hơn so với class 1.  \n",
    "\n",
    "---\n",
    "\n",
    "**ĐÁNH GIÁ TỔNG QUAN**\n",
    "\n",
    "1. **Sự thiên lệch về class (Imbalanced Data):**  \n",
    "   - Mô hình tiếp tục cho thấy thiên lệch mạnh về class 0 (Không bị tiểu đường).  \n",
    "   - Class 1 gần như bị bỏ qua hoàn toàn, cần đặc biệt chú trọng.  \n",
    "\n",
    "2. **Hiệu suất kém với class nhỏ (1 - Tiền tiểu đường):**  \n",
    "   - Hiệu suất phân loại cho class 1 là cực kỳ thấp, cần các biện pháp xử lý dữ liệu mất cân bằng và cải thiện thuật toán.  \n",
    "\n",
    "3. **Cần cải thiện độ nhạy (Recall) và độ chính xác cân bằng (Balanced Accuracy):**  \n",
    "   - **F1-score** và **Precision-Recall Curve** cần được theo dõi sát sao thay vì chỉ dựa vào accuracy tổng thể.  \n"
   ]
  },
  {
   "cell_type": "markdown",
   "metadata": {},
   "source": [
    "### Thử trên Data Oversampling"
   ]
  },
  {
   "cell_type": "code",
   "execution_count": null,
   "metadata": {
    "vscode": {
     "languageId": "r"
    }
   },
   "outputs": [],
   "source": [
    "oversampling_data <- read.csv(\"../data/oversampled_data.csv\")\n"
   ]
  },
  {
   "cell_type": "markdown",
   "metadata": {},
   "source": [
    "### Thử trên Data Undersampling"
   ]
  },
  {
   "cell_type": "code",
   "execution_count": null,
   "metadata": {
    "vscode": {
     "languageId": "r"
    }
   },
   "outputs": [],
   "source": []
  },
  {
   "cell_type": "markdown",
   "metadata": {},
   "source": [
    "### Thử trên Data SMOTE Sampling"
   ]
  },
  {
   "cell_type": "code",
   "execution_count": null,
   "metadata": {
    "vscode": {
     "languageId": "r"
    }
   },
   "outputs": [],
   "source": []
  },
  {
   "cell_type": "code",
   "execution_count": 102,
   "metadata": {
    "vscode": {
     "languageId": "r"
    }
   },
   "outputs": [
    {
     "name": "stderr",
     "output_type": "stream",
     "text": [
      "Your code contains a unicode char which cannot be displayed in your\n",
      "current locale and R will silently convert it to an escaped form when the\n",
      "R kernel executes this code. This can lead to subtle errors if you use\n",
      "such chars to do comparisons. For more information, please see\n",
      "https://github.com/IRkernel/repr/wiki/Problems-with-unicode-on-windows"
     ]
    },
    {
     "name": "stdout",
     "output_type": "stream",
     "text": [
      "[1] 0.01406718\n"
     ]
    },
    {
     "data": {
      "image/png": "[encoded data removed]",
      "text/plain": [
       "Plot with title \"ROC Curve\""
      ]
     },
     "metadata": {
      "image/png": {
       "height": 420,
       "width": 420
      }
     },
     "output_type": "display_data"
    }
   ],
   "source": [
    "# Ensure the necessary packages are installed\n",
    "if (!requireNamespace(\"pROC\", quietly = TRUE)) {\n",
    "\tinstall.packages(\"pROC\")\n",
    "}\n",
    "if (!requireNamespace(\"PRROC\", quietly = TRUE)) {\n",
    "\tinstall.packages(\"PRROC\")\n",
    "}\n",
    "\n",
    "library(pROC)\n",
    "library(PRROC)\n",
    "\n",
    "# Tính toán ROC Curve\n",
    "roc_curve <- roc(test_data$diabetes_012, as.numeric(probs$lda_pred_probs[, 2]), levels = c(\"0\", \"1\"), direction = \"<\")\n",
    "\n",
    "# Vẽ ROC Curve\n",
    "plot(roc_curve, col = \"blue\", main = \"ROC Curve\")\n",
    "abline(a = 0, b = 1, col = \"gray\", lty = 2)  # Đường chéo tham chiếu\n",
    "\n",
    "# Xác định ngưỡng tối ưu\n",
    "optimal_idx <- which.max(roc_curve$sensitivities + roc_curve$specificities)\n",
    "roc_optimal_threshold <- roc_curve$thresholds[optimal_idx]\n",
    "\n",
    "print(roc_optimal_threshold)"
   ]
  },
  {
   "cell_type": "code",
   "execution_count": 101,
   "metadata": {
    "vscode": {
     "languageId": "r"
    }
   },
   "outputs": [
    {
     "name": "stderr",
     "output_type": "stream",
     "text": [
      "Your code contains a unicode char which cannot be displayed in your\n",
      "current locale and R will silently convert it to an escaped form when the\n",
      "R kernel executes this code. This can lead to subtle errors if you use\n",
      "such chars to do comparisons. For more information, please see\n",
      "https://github.com/IRkernel/repr/wiki/Problems-with-unicode-on-windows"
     ]
    },
    {
     "name": "stdout",
     "output_type": "stream",
     "text": [
      "[1] 0.04444361\n"
     ]
    },
    {
     "data": {
      "image/png": "[encoded data removed]",
      "text/plain": [
       "Plot with title \"Precision-Recall Curve\n",
       "AUC = 0.03624202\""
      ]
     },
     "metadata": {
      "image/png": {
       "height": 420,
       "width": 420
      }
     },
     "output_type": "display_data"
    }
   ],
   "source": [
    "# Đảm bảo cài đặt các gói cần thiết\n",
    "if (!requireNamespace(\"PRROC\", quietly = TRUE)) {\n",
    "  install.packages(\"PRROC\")\n",
    "}\n",
    "if (!requireNamespace(\"pROC\", quietly = TRUE)) {\n",
    "  install.packages(\"pROC\")\n",
    "}\n",
    "\n",
    "# Nạp thư viện\n",
    "library(PRROC)\n",
    "library(pROC)\n",
    "\n",
    "# Tính toán Precision-Recall Curve\n",
    "pr <- pr.curve(scores.class0 = as.numeric(probs$lda_pred_probs[, 2]),\n",
    "               weights.class0 = as.numeric(test_data$diabetes_012 == \"1\"),\n",
    "               curve = TRUE)\n",
    "\n",
    "# Vẽ Precision-Recall Curve\n",
    "plot(pr, col = \"red\", main = \"Precision-Recall Curve\")\n",
    "\n",
    "# Tính F1-Score tại từng ngưỡng\n",
    "precision <- pr$curve[, 1]  # Precision\n",
    "recall <- pr$curve[, 2]     # Recall\n",
    "\n",
    "# Tính F1-score\n",
    "f1_scores <- 2 * (precision * recall) / (precision + recall)\n",
    "\n",
    "# Xác định ngưỡng tối ưu\n",
    "optimal_idx <- which.max(f1_scores)  # Vị trí F1-score lớn nhất\n",
    "f1_optimal_threshold <- pr$curve[optimal_idx, 3]  # Ngưỡng tương ứng\n",
    "\n",
    "# In ra ngưỡng tối ưu\n",
    "print(f1_optimal_threshold)\n"
   ]
  },
  {
   "cell_type": "code",
   "execution_count": 105,
   "metadata": {
    "vscode": {
     "languageId": "r"
    }
   },
   "outputs": [
    {
     "name": "stderr",
     "output_type": "stream",
     "text": [
      "Your code contains a unicode char which cannot be displayed in your\n",
      "current locale and R will silently convert it to an escaped form when the\n",
      "R kernel executes this code. This can lead to subtle errors if you use\n",
      "such chars to do comparisons. For more information, please see\n",
      "https://github.com/IRkernel/repr/wiki/Problems-with-unicode-on-windows"
     ]
    },
    {
     "name": "stdout",
     "output_type": "stream",
     "text": [
      "         actual\n",
      "Predicted     0     1     2\n",
      "        0 41014   807  5958\n",
      "        1  1700   148  1109\n"
     ]
    },
    {
     "name": "stderr",
     "output_type": "stream",
     "text": [
      "Warning message in levels(reference) != levels(data):\n",
      "\"longer object length is not a multiple of shorter object length\"\n",
      "Warning message in confusionMatrix.default(as.factor(predicted_class), as.factor(test_data$diabetes_012)):\n",
      "\"Levels are not in the same order for reference and data. Refactoring data to match.\"\n"
     ]
    },
    {
     "data": {
      "text/plain": [
       "Confusion Matrix and Statistics\n",
       "\n",
       "          Reference\n",
       "Prediction     0     1     2\n",
       "         0 41014   807  5958\n",
       "         1  1700   148  1109\n",
       "         2     0     0     0\n",
       "\n",
       "Overall Statistics\n",
       "                                          \n",
       "               Accuracy : 0.8113          \n",
       "                 95% CI : (0.8079, 0.8147)\n",
       "    No Information Rate : 0.8419          \n",
       "    P-Value [Acc > NIR] : 1               \n",
       "                                          \n",
       "                  Kappa : 0.0843          \n",
       "                                          \n",
       " Mcnemar's Test P-Value : <2e-16          \n",
       "\n",
       "Statistics by Class:\n",
       "\n",
       "                     Class: 0 Class: 1 Class: 2\n",
       "Sensitivity            0.9602 0.154974   0.0000\n",
       "Specificity            0.1567 0.943573   1.0000\n",
       "Pos Pred Value         0.8584 0.050051      NaN\n",
       "Neg Pred Value         0.4251 0.983110   0.8607\n",
       "Prevalence             0.8419 0.018823   0.1393\n",
       "Detection Rate         0.8084 0.002917   0.0000\n",
       "Detection Prevalence   0.9417 0.058282   0.0000\n",
       "Balanced Accuracy      0.5584 0.549273   0.5000"
      ]
     },
     "metadata": {},
     "output_type": "display_data"
    }
   ],
   "source": [
    "# Áp dụng ngưỡng mới\n",
    "predicted_class <- ifelse(probs$lda_pred_probs[, 2] > f1_optimal_threshold, 1, 0)\n",
    "\n",
    "# Tính Confusion Matrix\n",
    "conf_matrix <- table(Predicted = predicted_class, actual = test_data$diabetes_012)\n",
    "print(conf_matrix)\n",
    "\n",
    "# Tính độ đo hiệu suất\n",
    "library(caret)\n",
    "confusionMatrix(as.factor(predicted_class), as.factor(test_data$diabetes_012))"
   ]
  },
  {
   "cell_type": "code",
   "execution_count": null,
   "metadata": {
    "vscode": {
     "languageId": "r"
    }
   },
   "outputs": [],
   "source": []
  }
 ],
 "metadata": {
  "kernelspec": {
   "display_name": "R",
   "language": "R",
   "name": "ir"
  },
  "language_info": {
   "codemirror_mode": "r",
   "file_extension": ".r",
   "mimetype": "text/x-r-source",
   "name": "R",
   "pygments_lexer": "r",
   "version": "4.1.3"
  }
 },
 "nbformat": 4,
 "nbformat_minor": 2
}
