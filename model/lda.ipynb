{
 "cells": [
  {
   "cell_type": "code",
   "execution_count": 1,
   "metadata": {
    "vscode": {
     "languageId": "r"
    }
   },
   "outputs": [
    {
     "name": "stderr",
     "output_type": "stream",
     "text": [
      "-- \u001b[1mAttaching core tidyverse packages\u001b[22m ------------------------ tidyverse 2.0.0 --\n",
      "\u001b[32mv\u001b[39m \u001b[34mdplyr    \u001b[39m 1.1.4     \u001b[32mv\u001b[39m \u001b[34mreadr    \u001b[39m 2.1.5\n",
      "\u001b[32mv\u001b[39m \u001b[34mforcats  \u001b[39m 1.0.0     \u001b[32mv\u001b[39m \u001b[34mstringr  \u001b[39m 1.5.0\n",
      "\u001b[32mv\u001b[39m \u001b[34mlubridate\u001b[39m 1.9.3     \u001b[32mv\u001b[39m \u001b[34mtibble   \u001b[39m 3.2.1\n",
      "\u001b[32mv\u001b[39m \u001b[34mpurrr    \u001b[39m 1.0.2     \u001b[32mv\u001b[39m \u001b[34mtidyr    \u001b[39m 1.3.1\n",
      "-- \u001b[1mConflicts\u001b[22m ------------------------------------------ tidyverse_conflicts() --\n",
      "\u001b[31mx\u001b[39m \u001b[34mdplyr\u001b[39m::\u001b[32mfilter()\u001b[39m masks \u001b[34mstats\u001b[39m::filter()\n",
      "\u001b[31mx\u001b[39m \u001b[34mdplyr\u001b[39m::\u001b[32mlag()\u001b[39m    masks \u001b[34mstats\u001b[39m::lag()\n",
      "\u001b[36mi\u001b[39m Use the conflicted package (\u001b[3m\u001b[34m<http://conflicted.r-lib.org/>\u001b[39m\u001b[23m) to force all conflicts to become errors\n",
      "\n",
      "Attaching package: 'MASS'\n",
      "\n",
      "\n",
      "The following object is masked from 'package:dplyr':\n",
      "\n",
      "    select\n",
      "\n",
      "\n",
      "\n",
      "Attaching package: 'janitor'\n",
      "\n",
      "\n",
      "The following objects are masked from 'package:stats':\n",
      "\n",
      "    chisq.test, fisher.test\n",
      "\n",
      "\n",
      "Type 'citation(\"pROC\")' for a citation.\n",
      "\n",
      "\n",
      "Attaching package: 'pROC'\n",
      "\n",
      "\n",
      "The following objects are masked from 'package:stats':\n",
      "\n",
      "    cov, smooth, var\n",
      "\n",
      "\n",
      "Loading required package: lpSolve\n",
      "\n",
      "\n",
      "Attaching package: 'reshape2'\n",
      "\n",
      "\n",
      "The following object is masked from 'package:tidyr':\n",
      "\n",
      "    smiths\n",
      "\n",
      "\n",
      "Loading required package: lattice\n",
      "\n",
      "\n",
      "Attaching package: 'caret'\n",
      "\n",
      "\n",
      "The following object is masked from 'package:purrr':\n",
      "\n",
      "    lift\n",
      "\n",
      "\n"
     ]
    }
   ],
   "source": [
    "library(ggplot2)\n",
    "library(tidyverse)\n",
    "library(MASS)\n",
    "library(janitor)\n",
    "library(dplyr)\n",
    "library(pROC)\n",
    "library(irr)\n",
    "library(reshape2)\n",
    "library(caret)\n",
    "\n",
    "# Useful function\n",
    "# Cross validation LDA\n",
    "# Cross validation LDA\n",
    "lda_cross_validate <- function(model_formula, data, k = 5) {\n",
    "    set.seed(123) # Set seed for reproducibility\n",
    "    \n",
    "    # Create k-folds\n",
    "    folds <- sample(rep(1:k, length.out = nrow(data)))\n",
    "    \n",
    "    # Initialize a list to store results and models\n",
    "    results <- list()\n",
    "    models <- list()\n",
    "    \n",
    "    # Perform cross-validation\n",
    "    for (i in 1:k) {\n",
    "        # Split data into training and testing sets\n",
    "        train_data <- data[folds != i, ]\n",
    "        test_data <- data[folds == i, ]\n",
    "        \n",
    "        # Train the model on the training set\n",
    "        model <- lda(formula = model_formula, data = train_data)\n",
    "        \n",
    "        # Predict on the testing set\n",
    "        predictions <- predict(model, test_data)$class\n",
    "        \n",
    "        # Calculate metrics\n",
    "        confusion <- table(predictions, test_data$diabetes_012)\n",
    "        accuracy <- sum(diag(confusion)) / sum(confusion)\n",
    "        precision <- diag(confusion) / rowSums(confusion)\n",
    "        precision[is.nan(precision)] <- 0\n",
    "        recall <- diag(confusion) / colSums(confusion)\n",
    "        recall[is.nan(recall)] <- 0\n",
    "        f1 <- 2 * (precision * recall) / (precision + recall)\n",
    "        f1[is.nan(f1)] <- 0\n",
    "        \n",
    "        # Convert confusion matrix to data frame for kappam.fleiss\n",
    "        confusion_df <- as.data.frame(as.table(confusion))\n",
    "        kappa <- kappam.fleiss(confusion_df)$value\n",
    "        \n",
    "        # Store the result and model\n",
    "        results[[i]] <- list(\n",
    "            accuracy = accuracy,\n",
    "            precision = precision,\n",
    "            recall = recall,\n",
    "            f1 = f1,\n",
    "            kappa = kappa\n",
    "        )\n",
    "        models[[i]] <- model\n",
    "    }\n",
    "    \n",
    "    return(list(models = models, results = results))\n",
    "}\n",
    "\n",
    "# Cross validation QDA\n",
    "qda_cross_validate <- function(model_formula, data, k = 5) {\n",
    "    set.seed(123) # Set seed for reproducibility\n",
    "    \n",
    "    # Create k-folds\n",
    "    folds <- sample(rep(1:k, length.out = nrow(data)))\n",
    "    \n",
    "    # Initialize a list to store results and models\n",
    "    results <- list()\n",
    "    models <- list()\n",
    "    \n",
    "    # Perform cross-validation\n",
    "    for (i in 1:k) {\n",
    "        # Split data into training and testing sets\n",
    "        train_data <- data[folds != i, ]\n",
    "        test_data <- data[folds == i, ]\n",
    "        \n",
    "        # Train the model on the training set\n",
    "        model <- qda(formula = model_formula, data = train_data)\n",
    "        \n",
    "        # Predict on the testing set\n",
    "        predictions <- predict(model, test_data)$class\n",
    "        \n",
    "        # Calculate metrics\n",
    "        confusion <- table(predictions, test_data$diabetes_012)\n",
    "        accuracy <- sum(diag(confusion)) / sum(confusion)\n",
    "        precision <- diag(confusion) / rowSums(confusion)\n",
    "        precision[is.nan(precision)] <- 0\n",
    "        recall <- diag(confusion) / colSums(confusion)\n",
    "        recall[is.nan(recall)] <- 0\n",
    "        f1 <- 2 * (precision * recall) / (precision + recall)\n",
    "        f1[is.nan(f1)] <- 0\n",
    "        \n",
    "        # Convert confusion matrix to data frame for kappam.fleiss\n",
    "        confusion_df <- as.data.frame(as.table(confusion))\n",
    "        kappa <- kappam.fleiss(confusion_df)$value\n",
    "        \n",
    "        # Store the result and model\n",
    "        results[[i]] <- list(\n",
    "            accuracy = accuracy,\n",
    "            precision = precision,\n",
    "            recall = recall,\n",
    "            f1 = f1,\n",
    "            kappa = kappa\n",
    "        )\n",
    "        models[[i]] <- model\n",
    "    }\n",
    "    \n",
    "    return(list(models = models, results = results))\n",
    "}\n",
    "\n",
    "eval_multi_class <- function(x) {\n",
    "    cc <- sum(diag(x))\n",
    "    sc <- sum(x)\n",
    "    pp <- colSums(x)\n",
    "    tt <- rowSums(x)\n",
    "    ##\n",
    "    prec <- diag(x)/colSums(x)\n",
    "    recall <- diag(x)/rowSums(x)\n",
    "    macro_prec <- mean(prec)\n",
    "    macro_recall <- mean(recall)\n",
    "    macro_f1 <- 2 * macro_prec * macro_recall/(1/macro_prec + 1/macro_recall)\n",
    "    acc <- cc/sc\n",
    "    kap <- (cc * sc - sum(pp * tt))/(sc^2 - sum(pp * tt))\n",
    "    return(list(Precision = prec, Recall = recall, Accuracy = acc, Kappa = kap,\n",
    "        Macro_F1 = macro_f1))\n",
    "}\n",
    "\n",
    "evaluate_models <- function(train_data, test_data) {\n",
    "    # Apply cross-validation on train_data for LDA\n",
    "    lda_results <- lda_cross_validate(diabetes_012 ~ ., train_data)\n",
    "    lda_avg_results <- sapply(lda_results$results, function(res) sapply(res, mean))\n",
    "\n",
    "    # Apply cross-validation on train_data for QDA\n",
    "    qda_results <- qda_cross_validate(diabetes_012 ~ ., train_data)\n",
    "    qda_avg_results <- sapply(qda_results$results, function(res) sapply(res, mean))\n",
    "\n",
    "    # Combine results into a data frame\n",
    "    avg_results <- data.frame(\n",
    "        Metric = c(\"Accuracy\", \"Precision\", \"Recall\", \"F1\", \"Kappa\"),\n",
    "        LDA = lda_avg_results,\n",
    "        QDA = qda_avg_results\n",
    "    )\n",
    "\n",
    "    # Print the results as a table\n",
    "    print(avg_results)\n",
    "\n",
    "    # Cross-validation on train_data for LDA\n",
    "    lda_results <- lda_cross_validate(diabetes_012 ~ ., train_data)\n",
    "    lda_avg_results <- sapply(lda_results$results, function(res) sapply(res, mean))\n",
    "    \n",
    "    # Cross-validation on train_data for QDA\n",
    "    qda_results <- qda_cross_validate(diabetes_012 ~ ., train_data)\n",
    "    qda_avg_results <- sapply(qda_results$results, function(res) sapply(res, mean))\n",
    "    \n",
    "    # Determine the best model based on average F1 score\n",
    "    best_model <- ifelse(mean(lda_avg_results[\"f1\", ]) > mean(qda_avg_results[\"f1\", ]), \"LDA\", \"QDA\")\n",
    "    \n",
    "    # Train the best LDA model on the entire training data\n",
    "    final_lda_model <- lda(diabetes_012 ~ ., data = train_data)\n",
    "    \n",
    "    # Train the best QDA model on the entire training data\n",
    "    final_qda_model <- qda(diabetes_012 ~ ., data = train_data)\n",
    "    \n",
    "    # Predict on the test data using both models\n",
    "    lda_predictions <- predict(final_lda_model, test_data)$class\n",
    "    qda_predictions <- predict(final_qda_model, test_data)$class\n",
    "    \n",
    "    # Get predicted probabilities for both models\n",
    "    lda_pred_probs <- predict(final_lda_model, test_data)$posterior\n",
    "    qda_pred_probs <- predict(final_qda_model, test_data)$posterior\n",
    "    \n",
    "    # Create confusion matrices for both models\n",
    "    lda_confusion <- table(test_data$diabetes_012, lda_predictions)\n",
    "    qda_confusion <- table(test_data$diabetes_012, qda_predictions)\n",
    "    \n",
    "    # Calculate metrics for LDA using eval_multi_class\n",
    "    lda_metrics <- eval_multi_class(lda_confusion)\n",
    "    \n",
    "    # Calculate metrics for QDA using eval_multi_class\n",
    "    qda_metrics <- eval_multi_class(qda_confusion)\n",
    "    \n",
    "    # Create a data frame with the results\n",
    "    results <- data.frame(\n",
    "        Metric = c(\"Accuracy\", \"Precision\", \"Recall\", \"F1\", \"Kappa\"),\n",
    "        LDA = c(lda_metrics$Accuracy, mean(lda_metrics$Precision, na.rm = TRUE), mean(lda_metrics$Recall, na.rm = TRUE), lda_metrics$Macro_F1, lda_metrics$Kappa),\n",
    "        QDA = c(qda_metrics$Accuracy, mean(qda_metrics$Precision, na.rm = TRUE), mean(qda_metrics$Recall, na.rm = TRUE), qda_metrics$Macro_F1, qda_metrics$Kappa)\n",
    "    )\n",
    "    \n",
    "    # Plot the metrics\n",
    "    metrics_data <- melt(results, id.vars = \"Metric\")\n",
    "    \n",
    "    ggplot(metrics_data, aes(x = Metric, y = value, fill = variable)) +\n",
    "        geom_bar(stat = \"identity\", position = \"dodge\") +\n",
    "        labs(title = \"Performance Metrics for LDA and QDA Models\",\n",
    "             x = \"Metric\",\n",
    "             y = \"Value\") +\n",
    "        theme_minimal()\n",
    "    \n",
    "    # Return results, predicted probabilities, and predictions\n",
    "    return(list(results = results, lda_pred_probs = lda_pred_probs, qda_pred_probs = qda_pred_probs, lda_predictions = lda_predictions, qda_predictions = qda_predictions))\n",
    "}\n",
    "\n",
    "plot_confusion_matrix <- function(conf_matrix, model_name) {\n",
    "    conf_matrix_df <- as.data.frame(conf_matrix)\n",
    "    colnames(conf_matrix_df) <- c(\"Actual\", \"Predicted\", \"Freq\")\n",
    "    \n",
    "    ggplot(conf_matrix_df, aes(x = Actual, y = Predicted, fill = Freq)) +\n",
    "        geom_tile() +\n",
    "        geom_text(aes(label = Freq), color = \"white\") +\n",
    "        scale_fill_gradient(low = \"lightblue\", high = \"lightcoral\") +\n",
    "        labs(title = paste(\"Confusion Matrix -\", model_name, \"Predictions\"), x = \"Actual\", y = \"Predicted\") +\n",
    "        theme_minimal()\n",
    "}"
   ]
  },
  {
   "cell_type": "code",
   "execution_count": 4,
   "metadata": {
    "vscode": {
     "languageId": "r"
    }
   },
   "outputs": [],
   "source": [
    "train_data = read.csv(\"../data/train_data.csv\")\n",
    "test_data = read.csv(\"../data/test_data.csv\")"
   ]
  },
  {
   "cell_type": "code",
   "execution_count": 36,
   "metadata": {
    "vscode": {
     "languageId": "r"
    }
   },
   "outputs": [
    {
     "name": "stdout",
     "output_type": "stream",
     "text": [
      "Rows: 202,944\n",
      "Columns: 21\n",
      "$ diabetes_012           \u001b[3m\u001b[90m<int>\u001b[39m\u001b[23m 0, 0, 0, 2, 0, 0, 0, 0, 0, 0, 2, 0, 0, 2, 0, 2,~\n",
      "$ high_bp                \u001b[3m\u001b[90m<int>\u001b[39m\u001b[23m 0, 1, 0, 1, 1, 0, 0, 1, 0, 0, 1, 0, 1, 1, 1, 1,~\n",
      "$ high_chol              \u001b[3m\u001b[90m<int>\u001b[39m\u001b[23m 0, 0, 0, 0, 0, 1, 0, 0, 0, 0, 1, 0, 1, 1, 1, 1,~\n",
      "$ chol_check             \u001b[3m\u001b[90m<int>\u001b[39m\u001b[23m 1, 1, 1, 1, 1, 1, 1, 1, 1, 1, 1, 1, 1, 1, 1, 1,~\n",
      "$ smoker                 \u001b[3m\u001b[90m<int>\u001b[39m\u001b[23m 1, 1, 0, 1, 0, 1, 0, 0, 1, 0, 1, 0, 1, 0, 1, 1,~\n",
      "$ stroke                 \u001b[3m\u001b[90m<int>\u001b[39m\u001b[23m 0, 0, 0, 0, 0, 0, 0, 0, 0, 0, 1, 0, 0, 0, 0, 0,~\n",
      "$ heart_diseaseor_attack \u001b[3m\u001b[90m<int>\u001b[39m\u001b[23m 0, 0, 0, 0, 0, 1, 0, 0, 0, 0, 0, 0, 1, 0, 1, 0,~\n",
      "$ phys_activity          \u001b[3m\u001b[90m<int>\u001b[39m\u001b[23m 1, 1, 0, 1, 1, 1, 1, 1, 1, 1, 0, 1, 0, 1, 1, 1,~\n",
      "$ fruits                 \u001b[3m\u001b[90m<int>\u001b[39m\u001b[23m 0, 1, 1, 1, 1, 1, 1, 0, 1, 1, 1, 1, 0, 1, 1, 0,~\n",
      "$ veggies                \u001b[3m\u001b[90m<int>\u001b[39m\u001b[23m 1, 1, 1, 0, 1, 1, 0, 0, 1, 1, 1, 1, 0, 1, 0, 0,~\n",
      "$ hvy_alcohol_consump    \u001b[3m\u001b[90m<int>\u001b[39m\u001b[23m 1, 0, 0, 0, 0, 0, 0, 0, 0, 0, 0, 0, 0, 0, 0, 0,~\n",
      "$ any_healthcare         \u001b[3m\u001b[90m<int>\u001b[39m\u001b[23m 1, 1, 1, 1, 1, 1, 1, 1, 1, 1, 0, 1, 1, 1, 1, 1,~\n",
      "$ no_docbc_cost          \u001b[3m\u001b[90m<int>\u001b[39m\u001b[23m 0, 0, 1, 1, 0, 0, 0, 1, 0, 0, 1, 0, 1, 0, 0, 0,~\n",
      "$ gen_hlth               \u001b[3m\u001b[90m<int>\u001b[39m\u001b[23m 1, 2, 1, 4, 3, 2, 1, 3, 5, 2, 5, 1, 5, 2, 3, 3,~\n",
      "$ diff_walk              \u001b[3m\u001b[90m<int>\u001b[39m\u001b[23m 0, 0, 0, 1, 1, 0, 0, 0, 1, 0, 1, 0, 1, 0, 0, 0,~\n",
      "$ sex                    \u001b[3m\u001b[90m<int>\u001b[39m\u001b[23m 0, 0, 0, 0, 0, 0, 1, 0, 1, 0, 0, 0, 1, 1, 1, 0,~\n",
      "$ age                    \u001b[3m\u001b[90m<int>\u001b[39m\u001b[23m 12, 12, 7, 10, 11, 12, 7, 11, 6, 9, 8, 8, 10, 8~\n",
      "$ education              \u001b[3m\u001b[90m<int>\u001b[39m\u001b[23m 6, 6, 5, 4, 5, 6, 6, 2, 4, 5, 4, 6, 5, 6, 4, 4,~\n",
      "$ income                 \u001b[3m\u001b[90m<int>\u001b[39m\u001b[23m 8, 6, 5, 5, 4, 8, 7, 2, 1, 6, 2, 7, 3, 8, 5, 1,~\n",
      "$ bmi_category           \u001b[3m\u001b[90m<int>\u001b[39m\u001b[23m 1, 4, 1, 2, 2, 1, 2, 1, 1, 3, 5, 1, 2, 1, 4, 3,~\n",
      "$ phys_category          \u001b[3m\u001b[90m<int>\u001b[39m\u001b[23m 0, 1, 0, 2, 0, 0, 0, 0, 2, 0, 0, 0, 2, 0, 1, 1,~\n"
     ]
    }
   ],
   "source": [
    "glimpse(train_data)"
   ]
  },
  {
   "cell_type": "markdown",
   "metadata": {},
   "source": [
    "## Data Preprocessing"
   ]
  },
  {
   "cell_type": "code",
   "execution_count": 5,
   "metadata": {
    "vscode": {
     "languageId": "r"
    }
   },
   "outputs": [],
   "source": [
    "train_data <- train_data |> mutate(across(everything(), as.factor))\n",
    "test_data <- test_data |> mutate(across(everything(), as.factor))"
   ]
  },
  {
   "cell_type": "code",
   "execution_count": 38,
   "metadata": {
    "vscode": {
     "languageId": "r"
    }
   },
   "outputs": [
    {
     "name": "stdout",
     "output_type": "stream",
     "text": [
      "Rows: 202,944\n",
      "Columns: 21\n",
      "$ diabetes_012           \u001b[3m\u001b[90m<fct>\u001b[39m\u001b[23m 0, 0, 0, 2, 0, 0, 0, 0, 0, 0, 2, 0, 0, 2, 0, 2,~\n",
      "$ high_bp                \u001b[3m\u001b[90m<fct>\u001b[39m\u001b[23m 0, 1, 0, 1, 1, 0, 0, 1, 0, 0, 1, 0, 1, 1, 1, 1,~\n",
      "$ high_chol              \u001b[3m\u001b[90m<fct>\u001b[39m\u001b[23m 0, 0, 0, 0, 0, 1, 0, 0, 0, 0, 1, 0, 1, 1, 1, 1,~\n",
      "$ chol_check             \u001b[3m\u001b[90m<fct>\u001b[39m\u001b[23m 1, 1, 1, 1, 1, 1, 1, 1, 1, 1, 1, 1, 1, 1, 1, 1,~\n",
      "$ smoker                 \u001b[3m\u001b[90m<fct>\u001b[39m\u001b[23m 1, 1, 0, 1, 0, 1, 0, 0, 1, 0, 1, 0, 1, 0, 1, 1,~\n",
      "$ stroke                 \u001b[3m\u001b[90m<fct>\u001b[39m\u001b[23m 0, 0, 0, 0, 0, 0, 0, 0, 0, 0, 1, 0, 0, 0, 0, 0,~\n",
      "$ heart_diseaseor_attack \u001b[3m\u001b[90m<fct>\u001b[39m\u001b[23m 0, 0, 0, 0, 0, 1, 0, 0, 0, 0, 0, 0, 1, 0, 1, 0,~\n",
      "$ phys_activity          \u001b[3m\u001b[90m<fct>\u001b[39m\u001b[23m 1, 1, 0, 1, 1, 1, 1, 1, 1, 1, 0, 1, 0, 1, 1, 1,~\n",
      "$ fruits                 \u001b[3m\u001b[90m<fct>\u001b[39m\u001b[23m 0, 1, 1, 1, 1, 1, 1, 0, 1, 1, 1, 1, 0, 1, 1, 0,~\n",
      "$ veggies                \u001b[3m\u001b[90m<fct>\u001b[39m\u001b[23m 1, 1, 1, 0, 1, 1, 0, 0, 1, 1, 1, 1, 0, 1, 0, 0,~\n",
      "$ hvy_alcohol_consump    \u001b[3m\u001b[90m<fct>\u001b[39m\u001b[23m 1, 0, 0, 0, 0, 0, 0, 0, 0, 0, 0, 0, 0, 0, 0, 0,~\n",
      "$ any_healthcare         \u001b[3m\u001b[90m<fct>\u001b[39m\u001b[23m 1, 1, 1, 1, 1, 1, 1, 1, 1, 1, 0, 1, 1, 1, 1, 1,~\n",
      "$ no_docbc_cost          \u001b[3m\u001b[90m<fct>\u001b[39m\u001b[23m 0, 0, 1, 1, 0, 0, 0, 1, 0, 0, 1, 0, 1, 0, 0, 0,~\n",
      "$ gen_hlth               \u001b[3m\u001b[90m<fct>\u001b[39m\u001b[23m 1, 2, 1, 4, 3, 2, 1, 3, 5, 2, 5, 1, 5, 2, 3, 3,~\n",
      "$ diff_walk              \u001b[3m\u001b[90m<fct>\u001b[39m\u001b[23m 0, 0, 0, 1, 1, 0, 0, 0, 1, 0, 1, 0, 1, 0, 0, 0,~\n",
      "$ sex                    \u001b[3m\u001b[90m<fct>\u001b[39m\u001b[23m 0, 0, 0, 0, 0, 0, 1, 0, 1, 0, 0, 0, 1, 1, 1, 0,~\n",
      "$ age                    \u001b[3m\u001b[90m<fct>\u001b[39m\u001b[23m 12, 12, 7, 10, 11, 12, 7, 11, 6, 9, 8, 8, 10, 8~\n",
      "$ education              \u001b[3m\u001b[90m<fct>\u001b[39m\u001b[23m 6, 6, 5, 4, 5, 6, 6, 2, 4, 5, 4, 6, 5, 6, 4, 4,~\n",
      "$ income                 \u001b[3m\u001b[90m<fct>\u001b[39m\u001b[23m 8, 6, 5, 5, 4, 8, 7, 2, 1, 6, 2, 7, 3, 8, 5, 1,~\n",
      "$ bmi_category           \u001b[3m\u001b[90m<fct>\u001b[39m\u001b[23m 1, 4, 1, 2, 2, 1, 2, 1, 1, 3, 5, 1, 2, 1, 4, 3,~\n",
      "$ phys_category          \u001b[3m\u001b[90m<fct>\u001b[39m\u001b[23m 0, 1, 0, 2, 0, 0, 0, 0, 2, 0, 0, 0, 2, 0, 1, 1,~\n"
     ]
    }
   ],
   "source": [
    "glimpse(train_data)"
   ]
  },
  {
   "cell_type": "code",
   "execution_count": 39,
   "metadata": {
    "vscode": {
     "languageId": "r"
    }
   },
   "outputs": [
    {
     "name": "stdout",
     "output_type": "stream",
     "text": [
      "\n",
      "     0      1      2 \n",
      "170989   3676  28279 \n",
      "\n",
      "    0     1     2 \n",
      "42714   955  7067 \n"
     ]
    }
   ],
   "source": [
    "print(table(train_data$diabetes_012))\n",
    "print(table(test_data$diabetes_012))"
   ]
  },
  {
   "cell_type": "markdown",
   "metadata": {},
   "source": [
    "## Modeling"
   ]
  },
  {
   "cell_type": "markdown",
   "metadata": {},
   "source": [
    "Hàm Cross Validation với K Folds = 5 cho LDA và QDA"
   ]
  },
  {
   "cell_type": "markdown",
   "metadata": {},
   "source": [
    "### Thử trên data gốc"
   ]
  },
  {
   "cell_type": "code",
   "execution_count": 79,
   "metadata": {
    "vscode": {
     "languageId": "r"
    }
   },
   "outputs": [
    {
     "name": "stdout",
     "output_type": "stream",
     "text": [
      "             Metric       LDA.1       LDA.2       LDA.3       LDA.4       LDA.5\n",
      "accuracy   Accuracy  0.84495799  0.84712607  0.84303629  0.84633768  0.84446142\n",
      "precision Precision  0.45549125  0.46067685  0.45302742  0.46273847  0.45650112\n",
      "recall       Recall  0.40552203  0.40507449  0.40300278  0.40781005  0.40665185\n",
      "f1               F1  0.41731344  0.41760862  0.41426471  0.42060166  0.41849043\n",
      "kappa         Kappa -0.06930693 -0.06930693 -0.06930693 -0.06930693 -0.06930693\n",
      "                QDA.1       QDA.2       QDA.3       QDA.4       QDA.5\n",
      "accuracy   0.66444110  0.66441647  0.66461357  0.67143807  0.66867054\n",
      "precision  0.41995178  0.41738759  0.42015019  0.41827839  0.42157469\n",
      "recall     0.49421047  0.49036649  0.49323493  0.49208998  0.49568756\n",
      "f1         0.40806339  0.40724510  0.40860701  0.40768004  0.41112870\n",
      "kappa     -0.05882353 -0.05882353 -0.05882353 -0.05882353 -0.05882353\n"
     ]
    },
    {
     "name": "stderr",
     "output_type": "stream",
     "text": [
      "Warning message in cc * sc:\n",
      "\"NAs produced by integer overflow\"\n"
     ]
    }
   ],
   "source": [
    "results = evaluate_models(train_data, test_data)"
   ]
  },
  {
   "cell_type": "code",
   "execution_count": 81,
   "metadata": {
    "vscode": {
     "languageId": "r"
    }
   },
   "outputs": [
    {
     "data": {
      "text/plain": [
       "   \n",
       "        0     1     2\n",
       "  0 41160     0  1554\n",
       "  1   828     0   127\n",
       "  2  5278     0  1789"
      ]
     },
     "metadata": {},
     "output_type": "display_data"
    },
    {
     "name": "stderr",
     "output_type": "stream",
     "text": [
      "Warning message in cc * sc:\n",
      "\"NAs produced by integer overflow\"\n"
     ]
    },
    {
     "data": {
      "text/html": [
       "<dl>\n",
       "\t<dt>$Precision</dt>\n",
       "\t\t<dd><style>\n",
       ".dl-inline {width: auto; margin:0; padding: 0}\n",
       ".dl-inline>dt, .dl-inline>dd {float: none; width: auto; display: inline-block}\n",
       ".dl-inline>dt::after {content: \":\\0020\"; padding-right: .5ex}\n",
       ".dl-inline>dt:not(:first-of-type) {padding-left: .5ex}\n",
       "</style><dl class=dl-inline><dt>0</dt><dd>0.870816231540642</dd><dt>1</dt><dd>NaN</dd><dt>2</dt><dd>0.515561959654179</dd></dl>\n",
       "</dd>\n",
       "\t<dt>$Recall</dt>\n",
       "\t\t<dd><style>\n",
       ".dl-inline {width: auto; margin:0; padding: 0}\n",
       ".dl-inline>dt, .dl-inline>dd {float: none; width: auto; display: inline-block}\n",
       ".dl-inline>dt::after {content: \":\\0020\"; padding-right: .5ex}\n",
       ".dl-inline>dt:not(:first-of-type) {padding-left: .5ex}\n",
       "</style><dl class=dl-inline><dt>0</dt><dd>0.96361848574238</dd><dt>1</dt><dd>0</dd><dt>2</dt><dd>0.25314843639451</dd></dl>\n",
       "</dd>\n",
       "\t<dt>$Accuracy</dt>\n",
       "\t\t<dd>0.846519236833806</dd>\n",
       "\t<dt>$Kappa</dt>\n",
       "\t\t<dd>&lt;NA&gt;</dd>\n",
       "\t<dt>$Macro_F1</dt>\n",
       "\t\t<dd>NaN</dd>\n",
       "</dl>\n"
      ],
      "text/latex": [
       "\\begin{description}\n",
       "\\item[\\$Precision] \\begin{description*}\n",
       "\\item[0] 0.870816231540642\n",
       "\\item[1] NaN\n",
       "\\item[2] 0.515561959654179\n",
       "\\end{description*}\n",
       "\n",
       "\\item[\\$Recall] \\begin{description*}\n",
       "\\item[0] 0.96361848574238\n",
       "\\item[1] 0\n",
       "\\item[2] 0.25314843639451\n",
       "\\end{description*}\n",
       "\n",
       "\\item[\\$Accuracy] 0.846519236833806\n",
       "\\item[\\$Kappa] <NA>\n",
       "\\item[\\$Macro\\_F1] NaN\n",
       "\\end{description}\n"
      ],
      "text/markdown": [
       "$Precision\n",
       ":   0\n",
       ":   0.8708162315406421\n",
       ":   NaN2\n",
       ":   0.515561959654179\n",
       "\n",
       "\n",
       "$Recall\n",
       ":   0\n",
       ":   0.963618485742381\n",
       ":   02\n",
       ":   0.25314843639451\n",
       "\n",
       "\n",
       "$Accuracy\n",
       ":   0.846519236833806\n",
       "$Kappa\n",
       ":   &lt;NA&gt;\n",
       "$Macro_F1\n",
       ":   NaN\n",
       "\n",
       "\n"
      ],
      "text/plain": [
       "$Precision\n",
       "        0         1         2 \n",
       "0.8708162       NaN 0.5155620 \n",
       "\n",
       "$Recall\n",
       "        0         1         2 \n",
       "0.9636185 0.0000000 0.2531484 \n",
       "\n",
       "$Accuracy\n",
       "[1] 0.8465192\n",
       "\n",
       "$Kappa\n",
       "[1] NA\n",
       "\n",
       "$Macro_F1\n",
       "[1] NaN\n"
      ]
     },
     "metadata": {},
     "output_type": "display_data"
    },
    {
     "data": {
      "image/png": "[encoded data removed]",
      "text/plain": [
       "plot without title"
      ]
     },
     "metadata": {
      "image/png": {
       "height": 420,
       "width": 420
      }
     },
     "output_type": "display_data"
    }
   ],
   "source": [
    "conf_matrix <- table(test_data$diabetes_012, results$lda_predictions)\n",
    "conf_matrix\n",
    "\n",
    "eval_multi_class(conf_matrix)\n",
    "\n",
    "plot_confusion_matrix(conf_matrix, \"LDA\")"
   ]
  },
  {
   "cell_type": "code",
   "execution_count": 82,
   "metadata": {
    "vscode": {
     "languageId": "r"
    }
   },
   "outputs": [
    {
     "data": {
      "text/plain": [
       "   \n",
       "        0     1     2\n",
       "  0 28225   760 13729\n",
       "  1   322    26   607\n",
       "  2  1418   164  5485"
      ]
     },
     "metadata": {},
     "output_type": "display_data"
    },
    {
     "data": {
      "text/html": [
       "<dl>\n",
       "\t<dt>$Precision</dt>\n",
       "\t\t<dd><style>\n",
       ".dl-inline {width: auto; margin:0; padding: 0}\n",
       ".dl-inline>dt, .dl-inline>dd {float: none; width: auto; display: inline-block}\n",
       ".dl-inline>dt::after {content: \":\\0020\"; padding-right: .5ex}\n",
       ".dl-inline>dt:not(:first-of-type) {padding-left: .5ex}\n",
       "</style><dl class=dl-inline><dt>0</dt><dd>0.941932254296679</dd><dt>1</dt><dd>0.0273684210526316</dd><dt>2</dt><dd>0.276726704000807</dd></dl>\n",
       "</dd>\n",
       "\t<dt>$Recall</dt>\n",
       "\t\t<dd><style>\n",
       ".dl-inline {width: auto; margin:0; padding: 0}\n",
       ".dl-inline>dt, .dl-inline>dd {float: none; width: auto; display: inline-block}\n",
       ".dl-inline>dt::after {content: \":\\0020\"; padding-right: .5ex}\n",
       ".dl-inline>dt:not(:first-of-type) {padding-left: .5ex}\n",
       "</style><dl class=dl-inline><dt>0</dt><dd>0.660790373179754</dd><dt>1</dt><dd>0.0272251308900524</dd><dt>2</dt><dd>0.776142634781378</dd></dl>\n",
       "</dd>\n",
       "\t<dt>$Accuracy</dt>\n",
       "\t\t<dd>0.664932198044781</dd>\n",
       "\t<dt>$Kappa</dt>\n",
       "\t\t<dd>0.252093088525022</dd>\n",
       "\t<dt>$Macro_F1</dt>\n",
       "\t\t<dd>0.090970033312094</dd>\n",
       "</dl>\n"
      ],
      "text/latex": [
       "\\begin{description}\n",
       "\\item[\\$Precision] \\begin{description*}\n",
       "\\item[0] 0.941932254296679\n",
       "\\item[1] 0.0273684210526316\n",
       "\\item[2] 0.276726704000807\n",
       "\\end{description*}\n",
       "\n",
       "\\item[\\$Recall] \\begin{description*}\n",
       "\\item[0] 0.660790373179754\n",
       "\\item[1] 0.0272251308900524\n",
       "\\item[2] 0.776142634781378\n",
       "\\end{description*}\n",
       "\n",
       "\\item[\\$Accuracy] 0.664932198044781\n",
       "\\item[\\$Kappa] 0.252093088525022\n",
       "\\item[\\$Macro\\_F1] 0.090970033312094\n",
       "\\end{description}\n"
      ],
      "text/markdown": [
       "$Precision\n",
       ":   0\n",
       ":   0.9419322542966791\n",
       ":   0.02736842105263162\n",
       ":   0.276726704000807\n",
       "\n",
       "\n",
       "$Recall\n",
       ":   0\n",
       ":   0.6607903731797541\n",
       ":   0.02722513089005242\n",
       ":   0.776142634781378\n",
       "\n",
       "\n",
       "$Accuracy\n",
       ":   0.664932198044781\n",
       "$Kappa\n",
       ":   0.252093088525022\n",
       "$Macro_F1\n",
       ":   0.090970033312094\n",
       "\n",
       "\n"
      ],
      "text/plain": [
       "$Precision\n",
       "         0          1          2 \n",
       "0.94193225 0.02736842 0.27672670 \n",
       "\n",
       "$Recall\n",
       "         0          1          2 \n",
       "0.66079037 0.02722513 0.77614263 \n",
       "\n",
       "$Accuracy\n",
       "[1] 0.6649322\n",
       "\n",
       "$Kappa\n",
       "[1] 0.2520931\n",
       "\n",
       "$Macro_F1\n",
       "[1] 0.09097003\n"
      ]
     },
     "metadata": {},
     "output_type": "display_data"
    },
    {
     "data": {
      "image/png": "[encoded data removed]",
      "text/plain": [
       "plot without title"
      ]
     },
     "metadata": {
      "image/png": {
       "height": 420,
       "width": 420
      }
     },
     "output_type": "display_data"
    }
   ],
   "source": [
    "conf_matrix <- table(test_data$diabetes_012, results$qda_predictions)\n",
    "conf_matrix\n",
    "\n",
    "eval_multi_class(conf_matrix)\n",
    "plot_confusion_matrix(conf_matrix, \"QDA\")"
   ]
  },
  {
   "cell_type": "markdown",
   "metadata": {},
   "source": [
    "### Thử trên Data Oversampling"
   ]
  },
  {
   "cell_type": "code",
   "execution_count": 9,
   "metadata": {
    "vscode": {
     "languageId": "r"
    }
   },
   "outputs": [
    {
     "name": "stdout",
     "output_type": "stream",
     "text": [
      "Rows: 444,571\n",
      "Columns: 21\n",
      "$ diabetes_012           \u001b[3m\u001b[90m<fct>\u001b[39m\u001b[23m 0, 0, 0, 0, 0, 0, 0, 0, 0, 0, 0, 0, 0, 0, 0, 0,~\n",
      "$ high_bp                \u001b[3m\u001b[90m<fct>\u001b[39m\u001b[23m 0, 1, 0, 1, 0, 0, 1, 0, 0, 0, 1, 1, 0, 1, 0, 0,~\n",
      "$ high_chol              \u001b[3m\u001b[90m<fct>\u001b[39m\u001b[23m 0, 0, 0, 0, 1, 0, 0, 0, 0, 0, 1, 1, 0, 1, 0, 0,~\n",
      "$ chol_check             \u001b[3m\u001b[90m<fct>\u001b[39m\u001b[23m 1, 1, 1, 1, 1, 1, 1, 1, 1, 1, 1, 1, 1, 1, 1, 1,~\n",
      "$ smoker                 \u001b[3m\u001b[90m<fct>\u001b[39m\u001b[23m 1, 1, 0, 0, 1, 0, 0, 1, 0, 0, 1, 1, 0, 1, 0, 0,~\n",
      "$ stroke                 \u001b[3m\u001b[90m<fct>\u001b[39m\u001b[23m 0, 0, 0, 0, 0, 0, 0, 0, 0, 0, 0, 0, 0, 0, 0, 0,~\n",
      "$ heart_diseaseor_attack \u001b[3m\u001b[90m<fct>\u001b[39m\u001b[23m 0, 0, 0, 0, 1, 0, 0, 0, 0, 0, 1, 1, 0, 0, 0, 0,~\n",
      "$ phys_activity          \u001b[3m\u001b[90m<fct>\u001b[39m\u001b[23m 1, 1, 0, 1, 1, 1, 1, 1, 1, 1, 0, 1, 1, 1, 1, 1,~\n",
      "$ fruits                 \u001b[3m\u001b[90m<fct>\u001b[39m\u001b[23m 0, 1, 1, 1, 1, 1, 0, 1, 1, 1, 0, 1, 1, 0, 1, 1,~\n",
      "$ veggies                \u001b[3m\u001b[90m<fct>\u001b[39m\u001b[23m 1, 1, 1, 1, 1, 0, 0, 1, 1, 1, 0, 0, 1, 1, 1, 1,~\n",
      "$ hvy_alcohol_consump    \u001b[3m\u001b[90m<fct>\u001b[39m\u001b[23m 1, 0, 0, 0, 0, 0, 0, 0, 0, 0, 0, 0, 0, 0, 0, 0,~\n",
      "$ any_healthcare         \u001b[3m\u001b[90m<fct>\u001b[39m\u001b[23m 1, 1, 1, 1, 1, 1, 1, 1, 1, 1, 1, 1, 1, 1, 1, 1,~\n",
      "$ no_docbc_cost          \u001b[3m\u001b[90m<fct>\u001b[39m\u001b[23m 0, 0, 1, 0, 0, 0, 1, 0, 0, 0, 1, 0, 0, 0, 0, 0,~\n",
      "$ gen_hlth               \u001b[3m\u001b[90m<fct>\u001b[39m\u001b[23m 1, 2, 1, 3, 2, 1, 3, 5, 2, 1, 5, 3, 3, 2, 2, 1,~\n",
      "$ diff_walk              \u001b[3m\u001b[90m<fct>\u001b[39m\u001b[23m 0, 0, 0, 1, 0, 0, 0, 1, 0, 0, 1, 0, 0, 0, 0, 0,~\n",
      "$ sex                    \u001b[3m\u001b[90m<fct>\u001b[39m\u001b[23m 0, 0, 0, 0, 0, 1, 0, 1, 0, 0, 1, 1, 0, 0, 0, 0,~\n",
      "$ age                    \u001b[3m\u001b[90m<fct>\u001b[39m\u001b[23m 12, 12, 7, 11, 12, 7, 11, 6, 9, 8, 10, 11, 6, 1~\n",
      "$ education              \u001b[3m\u001b[90m<fct>\u001b[39m\u001b[23m 6, 6, 5, 5, 6, 6, 2, 4, 5, 6, 5, 4, 6, 4, 6, 6,~\n",
      "$ income                 \u001b[3m\u001b[90m<fct>\u001b[39m\u001b[23m 8, 6, 5, 4, 8, 7, 2, 1, 6, 7, 3, 5, 3, 3, 7, 7,~\n",
      "$ bmi_category           \u001b[3m\u001b[90m<fct>\u001b[39m\u001b[23m 1, 4, 1, 2, 1, 2, 1, 1, 3, 1, 2, 4, 3, 2, 2, 1,~\n",
      "$ phys_category          \u001b[3m\u001b[90m<fct>\u001b[39m\u001b[23m 0, 1, 0, 0, 0, 0, 0, 2, 0, 0, 2, 1, 1, 0, 0, 1,~\n"
     ]
    }
   ],
   "source": [
    "oversampling_data <- read.csv(\"../data/oversampled_data.csv\")\n",
    "oversampling_data <- oversampling_data |> mutate(across(everything(), as.factor))\n",
    "\n",
    "glimpse(oversampling_data)"
   ]
  },
  {
   "cell_type": "code",
   "execution_count": 48,
   "metadata": {
    "vscode": {
     "languageId": "r"
    }
   },
   "outputs": [
    {
     "data": {
      "text/plain": [
       "\n",
       "     0      1      2 \n",
       "170989 136791 136791 "
      ]
     },
     "metadata": {},
     "output_type": "display_data"
    }
   ],
   "source": [
    "table(oversampling_data$diabetes_012)"
   ]
  },
  {
   "cell_type": "markdown",
   "metadata": {},
   "source": [
    "#### Train với thông số cơ bản"
   ]
  },
  {
   "cell_type": "code",
   "execution_count": 83,
   "metadata": {
    "vscode": {
     "languageId": "r"
    }
   },
   "outputs": [
    {
     "name": "stdout",
     "output_type": "stream",
     "text": [
      "             Metric       LDA.1       LDA.2       LDA.3       LDA.4       LDA.5\n",
      "accuracy   Accuracy  0.53327335  0.53591111  0.53384169  0.53306566  0.53167105\n",
      "precision Precision  0.51347902  0.51544370  0.51391501  0.51282463  0.51228970\n",
      "recall       Recall  0.51937862  0.52177898  0.52027092  0.51940998  0.51875936\n",
      "f1               F1  0.51358813  0.51575176  0.51439710  0.51322307  0.51278912\n",
      "kappa         Kappa -0.05882353 -0.05882353 -0.05882353 -0.05882353 -0.05882353\n",
      "                QDA.1       QDA.2       QDA.3       QDA.4       QDA.5\n",
      "accuracy   0.51117359  0.50835639  0.51120184  0.51035832  0.50818769\n",
      "precision  0.51922641  0.51505419  0.51983123  0.51713869  0.51665277\n",
      "recall     0.50445183  0.50230637  0.50549365  0.50442332  0.50223266\n",
      "f1         0.46259383  0.46095814  0.46502782  0.46337070  0.45969056\n",
      "kappa     -0.05882353 -0.05882353 -0.05882353 -0.05882353 -0.05882353\n"
     ]
    }
   ],
   "source": [
    "oversampling_results <- evaluate_models(oversampling_data, test_data)"
   ]
  },
  {
   "cell_type": "code",
   "execution_count": 84,
   "metadata": {
    "vscode": {
     "languageId": "r"
    }
   },
   "outputs": [
    {
     "data": {
      "text/plain": [
       "   \n",
       "        0     1     2\n",
       "  0 29819  6663  6232\n",
       "  1   330   293   332\n",
       "  2  1446  1879  3742"
      ]
     },
     "metadata": {},
     "output_type": "display_data"
    },
    {
     "data": {
      "text/html": [
       "<dl>\n",
       "\t<dt>$Precision</dt>\n",
       "\t\t<dd><style>\n",
       ".dl-inline {width: auto; margin:0; padding: 0}\n",
       ".dl-inline>dt, .dl-inline>dd {float: none; width: auto; display: inline-block}\n",
       ".dl-inline>dt::after {content: \":\\0020\"; padding-right: .5ex}\n",
       ".dl-inline>dt:not(:first-of-type) {padding-left: .5ex}\n",
       "</style><dl class=dl-inline><dt>0</dt><dd>0.943788574141478</dd><dt>1</dt><dd>0.0331635540464063</dd><dt>2</dt><dd>0.363089462449059</dd></dl>\n",
       "</dd>\n",
       "\t<dt>$Recall</dt>\n",
       "\t\t<dd><style>\n",
       ".dl-inline {width: auto; margin:0; padding: 0}\n",
       ".dl-inline>dt, .dl-inline>dd {float: none; width: auto; display: inline-block}\n",
       ".dl-inline>dt::after {content: \":\\0020\"; padding-right: .5ex}\n",
       ".dl-inline>dt:not(:first-of-type) {padding-left: .5ex}\n",
       "</style><dl class=dl-inline><dt>0</dt><dd>0.698108348550826</dd><dt>1</dt><dd>0.306806282722513</dd><dt>2</dt><dd>0.529503325314844</dd></dl>\n",
       "</dd>\n",
       "\t<dt>$Accuracy</dt>\n",
       "\t\t<dd>0.667257962787764</dd>\n",
       "\t<dt>$Kappa</dt>\n",
       "\t\t<dd>0.250845825984079</dd>\n",
       "\t<dt>$Macro_F1</dt>\n",
       "\t\t<dd>0.108951679716294</dd>\n",
       "</dl>\n"
      ],
      "text/latex": [
       "\\begin{description}\n",
       "\\item[\\$Precision] \\begin{description*}\n",
       "\\item[0] 0.943788574141478\n",
       "\\item[1] 0.0331635540464063\n",
       "\\item[2] 0.363089462449059\n",
       "\\end{description*}\n",
       "\n",
       "\\item[\\$Recall] \\begin{description*}\n",
       "\\item[0] 0.698108348550826\n",
       "\\item[1] 0.306806282722513\n",
       "\\item[2] 0.529503325314844\n",
       "\\end{description*}\n",
       "\n",
       "\\item[\\$Accuracy] 0.667257962787764\n",
       "\\item[\\$Kappa] 0.250845825984079\n",
       "\\item[\\$Macro\\_F1] 0.108951679716294\n",
       "\\end{description}\n"
      ],
      "text/markdown": [
       "$Precision\n",
       ":   0\n",
       ":   0.9437885741414781\n",
       ":   0.03316355404640632\n",
       ":   0.363089462449059\n",
       "\n",
       "\n",
       "$Recall\n",
       ":   0\n",
       ":   0.6981083485508261\n",
       ":   0.3068062827225132\n",
       ":   0.529503325314844\n",
       "\n",
       "\n",
       "$Accuracy\n",
       ":   0.667257962787764\n",
       "$Kappa\n",
       ":   0.250845825984079\n",
       "$Macro_F1\n",
       ":   0.108951679716294\n",
       "\n",
       "\n"
      ],
      "text/plain": [
       "$Precision\n",
       "         0          1          2 \n",
       "0.94378857 0.03316355 0.36308946 \n",
       "\n",
       "$Recall\n",
       "        0         1         2 \n",
       "0.6981083 0.3068063 0.5295033 \n",
       "\n",
       "$Accuracy\n",
       "[1] 0.667258\n",
       "\n",
       "$Kappa\n",
       "[1] 0.2508458\n",
       "\n",
       "$Macro_F1\n",
       "[1] 0.1089517\n"
      ]
     },
     "metadata": {},
     "output_type": "display_data"
    },
    {
     "data": {
      "image/png": "[encoded data removed]",
      "text/plain": [
       "plot without title"
      ]
     },
     "metadata": {
      "image/png": {
       "height": 420,
       "width": 420
      }
     },
     "output_type": "display_data"
    }
   ],
   "source": [
    "conf_matrix <- table(test_data$diabetes_012, oversampling_results$lda_predictions)\n",
    "conf_matrix\n",
    "\n",
    "eval_multi_class(conf_matrix)\n",
    "\n",
    "# Plot confusion matrix using the function\n",
    "plot_confusion_matrix(conf_matrix, \"LDA\")"
   ]
  },
  {
   "cell_type": "code",
   "execution_count": 85,
   "metadata": {
    "vscode": {
     "languageId": "r"
    }
   },
   "outputs": [
    {
     "data": {
      "text/plain": [
       "   \n",
       "        0     1     2\n",
       "  0 24872  2986 14856\n",
       "  1   228   105   622\n",
       "  2   934   538  5595"
      ]
     },
     "metadata": {},
     "output_type": "display_data"
    },
    {
     "data": {
      "text/html": [
       "<dl>\n",
       "\t<dt>$Precision</dt>\n",
       "\t\t<dd><style>\n",
       ".dl-inline {width: auto; margin:0; padding: 0}\n",
       ".dl-inline>dt, .dl-inline>dd {float: none; width: auto; display: inline-block}\n",
       ".dl-inline>dt::after {content: \":\\0020\"; padding-right: .5ex}\n",
       ".dl-inline>dt:not(:first-of-type) {padding-left: .5ex}\n",
       "</style><dl class=dl-inline><dt>0</dt><dd>0.955366059767996</dd><dt>1</dt><dd>0.0289335905208046</dd><dt>2</dt><dd>0.265505623309448</dd></dl>\n",
       "</dd>\n",
       "\t<dt>$Recall</dt>\n",
       "\t\t<dd><style>\n",
       ".dl-inline {width: auto; margin:0; padding: 0}\n",
       ".dl-inline>dt, .dl-inline>dd {float: none; width: auto; display: inline-block}\n",
       ".dl-inline>dt::after {content: \":\\0020\"; padding-right: .5ex}\n",
       ".dl-inline>dt:not(:first-of-type) {padding-left: .5ex}\n",
       "</style><dl class=dl-inline><dt>0</dt><dd>0.582291520344618</dd><dt>1</dt><dd>0.109947643979058</dd><dt>2</dt><dd>0.791707938304797</dd></dl>\n",
       "</dd>\n",
       "\t<dt>$Accuracy</dt>\n",
       "\t\t<dd>0.602570167139704</dd>\n",
       "\t<dt>$Kappa</dt>\n",
       "\t\t<dd>0.218895981664054</dd>\n",
       "\t<dt>$Macro_F1</dt>\n",
       "\t\t<dd>0.0932027236882647</dd>\n",
       "</dl>\n"
      ],
      "text/latex": [
       "\\begin{description}\n",
       "\\item[\\$Precision] \\begin{description*}\n",
       "\\item[0] 0.955366059767996\n",
       "\\item[1] 0.0289335905208046\n",
       "\\item[2] 0.265505623309448\n",
       "\\end{description*}\n",
       "\n",
       "\\item[\\$Recall] \\begin{description*}\n",
       "\\item[0] 0.582291520344618\n",
       "\\item[1] 0.109947643979058\n",
       "\\item[2] 0.791707938304797\n",
       "\\end{description*}\n",
       "\n",
       "\\item[\\$Accuracy] 0.602570167139704\n",
       "\\item[\\$Kappa] 0.218895981664054\n",
       "\\item[\\$Macro\\_F1] 0.0932027236882647\n",
       "\\end{description}\n"
      ],
      "text/markdown": [
       "$Precision\n",
       ":   0\n",
       ":   0.9553660597679961\n",
       ":   0.02893359052080462\n",
       ":   0.265505623309448\n",
       "\n",
       "\n",
       "$Recall\n",
       ":   0\n",
       ":   0.5822915203446181\n",
       ":   0.1099476439790582\n",
       ":   0.791707938304797\n",
       "\n",
       "\n",
       "$Accuracy\n",
       ":   0.602570167139704\n",
       "$Kappa\n",
       ":   0.218895981664054\n",
       "$Macro_F1\n",
       ":   0.0932027236882647\n",
       "\n",
       "\n"
      ],
      "text/plain": [
       "$Precision\n",
       "         0          1          2 \n",
       "0.95536606 0.02893359 0.26550562 \n",
       "\n",
       "$Recall\n",
       "        0         1         2 \n",
       "0.5822915 0.1099476 0.7917079 \n",
       "\n",
       "$Accuracy\n",
       "[1] 0.6025702\n",
       "\n",
       "$Kappa\n",
       "[1] 0.218896\n",
       "\n",
       "$Macro_F1\n",
       "[1] 0.09320272\n"
      ]
     },
     "metadata": {},
     "output_type": "display_data"
    },
    {
     "data": {
      "image/png": "[encoded data removed]",
      "text/plain": [
       "plot without title"
      ]
     },
     "metadata": {
      "image/png": {
       "height": 420,
       "width": 420
      }
     },
     "output_type": "display_data"
    }
   ],
   "source": [
    "conf_matrix <- table(test_data$diabetes_012, oversampling_results$qda_predictions)\n",
    "conf_matrix\n",
    "\n",
    "eval_multi_class(conf_matrix)\n",
    "# Plot confusion matrix using the function\n",
    "plot_confusion_matrix(conf_matrix, \"QDA\")"
   ]
  },
  {
   "cell_type": "markdown",
   "metadata": {},
   "source": [
    "#### Tăng Recall cho class 1 và class 2"
   ]
  },
  {
   "cell_type": "code",
   "execution_count": 10,
   "metadata": {
    "vscode": {
     "languageId": "r"
    }
   },
   "outputs": [
    {
     "name": "stderr",
     "output_type": "stream",
     "text": [
      "Your code contains a unicode char which cannot be displayed in your\n",
      "current locale and R will silently convert it to an escaped form when the\n",
      "R kernel executes this code. This can lead to subtle errors if you use\n",
      "such chars to do comparisons. For more information, please see\n",
      "https://github.com/IRkernel/repr/wiki/Problems-with-unicode-on-windows"
     ]
    }
   ],
   "source": [
    "calculate_optimal_thresholds <- function(probs, test_data) {\n",
    "    # Tính PR Curve cho từng lớp (One-vs-Rest)\n",
    "    pr_class0 <- pr.curve(scores.class0 = probs[, 1], weights.class0 = (test_data$diabetes_012 == 0), curve = TRUE)\n",
    "    pr_class1 <- pr.curve(scores.class0 = probs[, 2], weights.class0 = (test_data$diabetes_012 == 1), curve = TRUE)\n",
    "    pr_class2 <- pr.curve(scores.class0 = probs[, 3], weights.class0 = (test_data$diabetes_012 == 2), curve = TRUE)\n",
    "\n",
    "    # Vẽ đồ thị Precision-Recall\n",
    "    plot(pr_class0, col = \"blue\", main = \"PR Curve - Class 0\")\n",
    "    plot(pr_class1, col = \"red\", add = TRUE)\n",
    "    plot(pr_class2, col = \"green\", add = TRUE)\n",
    "    legend(\"bottomleft\", legend = c(\"Class 0\", \"Class 1\", \"Class 2\"), col = c(\"blue\", \"red\", \"green\"), lty = 1)\n",
    "\n",
    "    # Tính F1-Score cho từng lớp\n",
    "    precision0 <- pr_class0$curve[, 1]\n",
    "    recall0 <- pr_class0$curve[, 2]\n",
    "    f1_class0 <- 2 * (precision0 * recall0) / (precision0 + recall0)\n",
    "    optimal_threshold0 <- pr_class0$curve[which.max(f1_class0), 3]\n",
    "\n",
    "    precision1 <- pr_class1$curve[, 1]\n",
    "    recall1 <- pr_class1$curve[, 2]\n",
    "    f1_class1 <- 2 * (precision1 * recall1) / (precision1 + recall1)\n",
    "    optimal_threshold1 <- pr_class1$curve[which.max(f1_class1), 3]\n",
    "\n",
    "    precision2 <- pr_class2$curve[, 1]\n",
    "    recall2 <- pr_class2$curve[, 2]\n",
    "    f1_class2 <- 2 * (precision2 * recall2) / (precision2 + recall2)\n",
    "    optimal_threshold2 <- pr_class2$curve[which.max(f1_class2), 3]\n",
    "\n",
    "    # In ngưỡng tối ưu\n",
    "    optimal_threshold0\n",
    "    optimal_threshold1\n",
    "    optimal_threshold2\n",
    "\n",
    "    # Đặt ngưỡng tối ưu\n",
    "    thresholds <- c(optimal_threshold0, optimal_threshold1, optimal_threshold2)\n",
    "\n",
    "    # Điều chỉnh xác suất dự đoán\n",
    "    adjusted_probs <- probs\n",
    "    adjusted_probs[, 1] <- ifelse(probs[, 1] > thresholds[1], probs[, 1], 0)\n",
    "    adjusted_probs[, 2] <- ifelse(probs[, 2] > thresholds[2], probs[, 2], 0)\n",
    "    adjusted_probs[, 3] <- ifelse(probs[, 3] > thresholds[3], probs[, 3], 0)\n",
    "\n",
    "    # Phân loại dựa trên xác suất cao nhất\n",
    "    predicted_class <- apply(adjusted_probs, 1, which.max) - 1\n",
    "\n",
    "    return(list(optimal_thresholds = thresholds, predicted_class = predicted_class))\n",
    "}"
   ]
  },
  {
   "cell_type": "code",
   "execution_count": 87,
   "metadata": {
    "vscode": {
     "languageId": "r"
    }
   },
   "outputs": [],
   "source": [
    "lda_probs <- probs$lda_pred_probs\n",
    "qda_probs <- probs$qda_pred_probs"
   ]
  },
  {
   "cell_type": "markdown",
   "metadata": {},
   "source": [
    "Cho LDA"
   ]
  },
  {
   "cell_type": "code",
   "execution_count": 88,
   "metadata": {
    "vscode": {
     "languageId": "r"
    }
   },
   "outputs": [
    {
     "data": {
      "text/plain": [
       "   predicted_class\n",
       "        0     1     2\n",
       "  0 34396  1451  6867\n",
       "  1   477   106   372\n",
       "  2  2432   562  4073"
      ]
     },
     "metadata": {},
     "output_type": "display_data"
    },
    {
     "data": {
      "text/html": [
       "<dl>\n",
       "\t<dt>$Precision</dt>\n",
       "\t\t<dd><style>\n",
       ".dl-inline {width: auto; margin:0; padding: 0}\n",
       ".dl-inline>dt, .dl-inline>dd {float: none; width: auto; display: inline-block}\n",
       ".dl-inline>dt::after {content: \":\\0020\"; padding-right: .5ex}\n",
       ".dl-inline>dt:not(:first-of-type) {padding-left: .5ex}\n",
       "</style><dl class=dl-inline><dt>0</dt><dd>0.922021176785954</dd><dt>1</dt><dd>0.050023596035866</dd><dt>2</dt><dd>0.360060113154173</dd></dl>\n",
       "</dd>\n",
       "\t<dt>$Recall</dt>\n",
       "\t\t<dd><style>\n",
       ".dl-inline {width: auto; margin:0; padding: 0}\n",
       ".dl-inline>dt, .dl-inline>dd {float: none; width: auto; display: inline-block}\n",
       ".dl-inline>dt::after {content: \":\\0020\"; padding-right: .5ex}\n",
       ".dl-inline>dt:not(:first-of-type) {padding-left: .5ex}\n",
       "</style><dl class=dl-inline><dt>0</dt><dd>0.805262911457602</dd><dt>1</dt><dd>0.110994764397906</dd><dt>2</dt><dd>0.576340738644404</dd></dl>\n",
       "</dd>\n",
       "\t<dt>$Accuracy</dt>\n",
       "\t\t<dd>0.760308262377799</dd>\n",
       "\t<dt>$Kappa</dt>\n",
       "\t\t<dd>0.31347541844577</dd>\n",
       "\t<dt>$Macro_F1</dt>\n",
       "\t\t<dd>0.10367073760795</dd>\n",
       "</dl>\n"
      ],
      "text/latex": [
       "\\begin{description}\n",
       "\\item[\\$Precision] \\begin{description*}\n",
       "\\item[0] 0.922021176785954\n",
       "\\item[1] 0.050023596035866\n",
       "\\item[2] 0.360060113154173\n",
       "\\end{description*}\n",
       "\n",
       "\\item[\\$Recall] \\begin{description*}\n",
       "\\item[0] 0.805262911457602\n",
       "\\item[1] 0.110994764397906\n",
       "\\item[2] 0.576340738644404\n",
       "\\end{description*}\n",
       "\n",
       "\\item[\\$Accuracy] 0.760308262377799\n",
       "\\item[\\$Kappa] 0.31347541844577\n",
       "\\item[\\$Macro\\_F1] 0.10367073760795\n",
       "\\end{description}\n"
      ],
      "text/markdown": [
       "$Precision\n",
       ":   0\n",
       ":   0.9220211767859541\n",
       ":   0.0500235960358662\n",
       ":   0.360060113154173\n",
       "\n",
       "\n",
       "$Recall\n",
       ":   0\n",
       ":   0.8052629114576021\n",
       ":   0.1109947643979062\n",
       ":   0.576340738644404\n",
       "\n",
       "\n",
       "$Accuracy\n",
       ":   0.760308262377799\n",
       "$Kappa\n",
       ":   0.31347541844577\n",
       "$Macro_F1\n",
       ":   0.10367073760795\n",
       "\n",
       "\n"
      ],
      "text/plain": [
       "$Precision\n",
       "        0         1         2 \n",
       "0.9220212 0.0500236 0.3600601 \n",
       "\n",
       "$Recall\n",
       "        0         1         2 \n",
       "0.8052629 0.1109948 0.5763407 \n",
       "\n",
       "$Accuracy\n",
       "[1] 0.7603083\n",
       "\n",
       "$Kappa\n",
       "[1] 0.3134754\n",
       "\n",
       "$Macro_F1\n",
       "[1] 0.1036707\n"
      ]
     },
     "metadata": {},
     "output_type": "display_data"
    },
    {
     "data": {
      "image/png": "[encoded data removed]",
      "text/plain": [
       "Plot with title \"PR Curve - Class 0\n",
       "AUC = 0.9580301\""
      ]
     },
     "metadata": {
      "image/png": {
       "height": 420,
       "width": 420
      }
     },
     "output_type": "display_data"
    },
    {
     "data": {
      "image/png": "[encoded data removed]",
      "text/plain": [
       "plot without title"
      ]
     },
     "metadata": {
      "image/png": {
       "height": 420,
       "width": 420
      }
     },
     "output_type": "display_data"
    }
   ],
   "source": [
    "result <- calculate_optimal_thresholds(lda_probs, test_data)\n",
    "predicted_class <- result$predicted_class\n",
    "optimal_thresholds <- result$optimal_thresholds\n",
    "\n",
    "conf_matrix <- table(test_data$diabetes_012, predicted_class)\n",
    "conf_matrix\n",
    "\n",
    "eval_multi_class(conf_matrix)\n",
    "# Plot confusion matrix using the function\n",
    "plot_confusion_matrix(conf_matrix, \"LDA-Threshold\")"
   ]
  },
  {
   "cell_type": "markdown",
   "metadata": {},
   "source": [
    "Cho QDA"
   ]
  },
  {
   "cell_type": "code",
   "execution_count": 89,
   "metadata": {
    "vscode": {
     "languageId": "r"
    }
   },
   "outputs": [
    {
     "data": {
      "text/plain": [
       "   predicted_class\n",
       "        0     1     2\n",
       "  0 26870  6862  8982\n",
       "  1   282   244   429\n",
       "  2  1272  1337  4458"
      ]
     },
     "metadata": {},
     "output_type": "display_data"
    },
    {
     "data": {
      "text/html": [
       "<dl>\n",
       "\t<dt>$Precision</dt>\n",
       "\t\t<dd><style>\n",
       ".dl-inline {width: auto; margin:0; padding: 0}\n",
       ".dl-inline>dt, .dl-inline>dd {float: none; width: auto; display: inline-block}\n",
       ".dl-inline>dt::after {content: \":\\0020\"; padding-right: .5ex}\n",
       ".dl-inline>dt:not(:first-of-type) {padding-left: .5ex}\n",
       "</style><dl class=dl-inline><dt>0</dt><dd>0.945327891922319</dd><dt>1</dt><dd>0.0288996802084567</dd><dt>2</dt><dd>0.321436296776985</dd></dl>\n",
       "</dd>\n",
       "\t<dt>$Recall</dt>\n",
       "\t\t<dd><style>\n",
       ".dl-inline {width: auto; margin:0; padding: 0}\n",
       ".dl-inline>dt, .dl-inline>dd {float: none; width: auto; display: inline-block}\n",
       ".dl-inline>dt::after {content: \":\\0020\"; padding-right: .5ex}\n",
       ".dl-inline>dt:not(:first-of-type) {padding-left: .5ex}\n",
       "</style><dl class=dl-inline><dt>0</dt><dd>0.629067752961558</dd><dt>1</dt><dd>0.255497382198953</dd><dt>2</dt><dd>0.630819300976369</dd></dl>\n",
       "</dd>\n",
       "\t<dt>$Accuracy</dt>\n",
       "\t\t<dd>0.622280037842952</dd>\n",
       "\t<dt>$Kappa</dt>\n",
       "\t\t<dd>0.224614934458803</dd>\n",
       "\t<dt>$Macro_F1</dt>\n",
       "\t\t<dd>0.101584691057428</dd>\n",
       "</dl>\n"
      ],
      "text/latex": [
       "\\begin{description}\n",
       "\\item[\\$Precision] \\begin{description*}\n",
       "\\item[0] 0.945327891922319\n",
       "\\item[1] 0.0288996802084567\n",
       "\\item[2] 0.321436296776985\n",
       "\\end{description*}\n",
       "\n",
       "\\item[\\$Recall] \\begin{description*}\n",
       "\\item[0] 0.629067752961558\n",
       "\\item[1] 0.255497382198953\n",
       "\\item[2] 0.630819300976369\n",
       "\\end{description*}\n",
       "\n",
       "\\item[\\$Accuracy] 0.622280037842952\n",
       "\\item[\\$Kappa] 0.224614934458803\n",
       "\\item[\\$Macro\\_F1] 0.101584691057428\n",
       "\\end{description}\n"
      ],
      "text/markdown": [
       "$Precision\n",
       ":   0\n",
       ":   0.9453278919223191\n",
       ":   0.02889968020845672\n",
       ":   0.321436296776985\n",
       "\n",
       "\n",
       "$Recall\n",
       ":   0\n",
       ":   0.6290677529615581\n",
       ":   0.2554973821989532\n",
       ":   0.630819300976369\n",
       "\n",
       "\n",
       "$Accuracy\n",
       ":   0.622280037842952\n",
       "$Kappa\n",
       ":   0.224614934458803\n",
       "$Macro_F1\n",
       ":   0.101584691057428\n",
       "\n",
       "\n"
      ],
      "text/plain": [
       "$Precision\n",
       "         0          1          2 \n",
       "0.94532789 0.02889968 0.32143630 \n",
       "\n",
       "$Recall\n",
       "        0         1         2 \n",
       "0.6290678 0.2554974 0.6308193 \n",
       "\n",
       "$Accuracy\n",
       "[1] 0.62228\n",
       "\n",
       "$Kappa\n",
       "[1] 0.2246149\n",
       "\n",
       "$Macro_F1\n",
       "[1] 0.1015847\n"
      ]
     },
     "metadata": {},
     "output_type": "display_data"
    },
    {
     "data": {
      "image/png": "[encoded data removed]",
      "text/plain": [
       "Plot with title \"PR Curve - Class 0\n",
       "AUC = 0.9465358\""
      ]
     },
     "metadata": {
      "image/png": {
       "height": 420,
       "width": 420
      }
     },
     "output_type": "display_data"
    },
    {
     "data": {
      "image/png": "[encoded data removed]",
      "text/plain": [
       "plot without title"
      ]
     },
     "metadata": {
      "image/png": {
       "height": 420,
       "width": 420
      }
     },
     "output_type": "display_data"
    }
   ],
   "source": [
    "result <- calculate_optimal_thresholds(qda_probs, test_data)\n",
    "predicted_class <- result$predicted_class\n",
    "optimal_thresholds <- result$optimal_thresholds\n",
    "\n",
    "conf_matrix <- table(test_data$diabetes_012, predicted_class)\n",
    "conf_matrix\n",
    "\n",
    "eval_multi_class(conf_matrix)\n",
    "# Plot confusion matrix using the function\n",
    "plot_confusion_matrix(conf_matrix, \"QDA-Threshold\")"
   ]
  },
  {
   "cell_type": "markdown",
   "metadata": {},
   "source": [
    "### Thử trên Data Undersampling"
   ]
  },
  {
   "cell_type": "code",
   "execution_count": 6,
   "metadata": {
    "vscode": {
     "languageId": "r"
    }
   },
   "outputs": [
    {
     "name": "stdout",
     "output_type": "stream",
     "text": [
      "Rows: 11,028\n",
      "Columns: 21\n",
      "$ diabetes_012           \u001b[3m\u001b[90m<fct>\u001b[39m\u001b[23m 0, 0, 0, 0, 0, 0, 0, 0, 0, 0, 0, 0, 0, 0, 0, 0,~\n",
      "$ high_bp                \u001b[3m\u001b[90m<fct>\u001b[39m\u001b[23m 0, 0, 0, 0, 0, 1, 1, 0, 0, 0, 0, 0, 1, 0, 0, 0,~\n",
      "$ high_chol              \u001b[3m\u001b[90m<fct>\u001b[39m\u001b[23m 0, 1, 0, 1, 0, 0, 0, 0, 1, 0, 1, 0, 1, 0, 0, 0,~\n",
      "$ chol_check             \u001b[3m\u001b[90m<fct>\u001b[39m\u001b[23m 1, 1, 1, 1, 1, 1, 1, 1, 1, 1, 1, 1, 1, 1, 1, 1,~\n",
      "$ smoker                 \u001b[3m\u001b[90m<fct>\u001b[39m\u001b[23m 1, 0, 0, 1, 0, 1, 1, 1, 0, 0, 0, 0, 0, 0, 0, 0,~\n",
      "$ stroke                 \u001b[3m\u001b[90m<fct>\u001b[39m\u001b[23m 0, 0, 0, 0, 0, 0, 1, 0, 0, 0, 0, 0, 0, 0, 0, 0,~\n",
      "$ heart_diseaseor_attack \u001b[3m\u001b[90m<fct>\u001b[39m\u001b[23m 0, 0, 0, 0, 0, 0, 1, 0, 0, 0, 0, 0, 1, 0, 0, 0,~\n",
      "$ phys_activity          \u001b[3m\u001b[90m<fct>\u001b[39m\u001b[23m 1, 1, 1, 0, 1, 0, 1, 1, 1, 1, 1, 1, 1, 1, 1, 0,~\n",
      "$ fruits                 \u001b[3m\u001b[90m<fct>\u001b[39m\u001b[23m 0, 1, 1, 1, 1, 1, 1, 1, 0, 1, 0, 1, 1, 1, 1, 0,~\n",
      "$ veggies                \u001b[3m\u001b[90m<fct>\u001b[39m\u001b[23m 1, 1, 1, 1, 1, 1, 1, 1, 1, 1, 1, 0, 1, 1, 1, 1,~\n",
      "$ hvy_alcohol_consump    \u001b[3m\u001b[90m<fct>\u001b[39m\u001b[23m 0, 0, 0, 0, 0, 0, 0, 0, 0, 0, 0, 0, 0, 0, 0, 0,~\n",
      "$ any_healthcare         \u001b[3m\u001b[90m<fct>\u001b[39m\u001b[23m 1, 1, 1, 1, 1, 1, 1, 1, 1, 1, 1, 1, 1, 1, 1, 0,~\n",
      "$ no_docbc_cost          \u001b[3m\u001b[90m<fct>\u001b[39m\u001b[23m 0, 0, 0, 1, 0, 0, 0, 0, 0, 0, 0, 0, 0, 0, 0, 1,~\n",
      "$ gen_hlth               \u001b[3m\u001b[90m<fct>\u001b[39m\u001b[23m 1, 2, 1, 1, 1, 5, 3, 2, 2, 2, 1, 2, 2, 2, 1, 4,~\n",
      "$ diff_walk              \u001b[3m\u001b[90m<fct>\u001b[39m\u001b[23m 0, 0, 0, 0, 0, 0, 1, 0, 0, 0, 0, 0, 0, 0, 0, 1,~\n",
      "$ sex                    \u001b[3m\u001b[90m<fct>\u001b[39m\u001b[23m 1, 1, 0, 1, 1, 1, 1, 1, 1, 1, 1, 1, 0, 1, 0, 0,~\n",
      "$ age                    \u001b[3m\u001b[90m<fct>\u001b[39m\u001b[23m 10, 5, 2, 6, 8, 12, 12, 5, 10, 5, 5, 10, 13, 10~\n",
      "$ education              \u001b[3m\u001b[90m<fct>\u001b[39m\u001b[23m 6, 5, 6, 5, 6, 3, 6, 6, 5, 4, 6, 6, 4, 4, 5, 5,~\n",
      "$ income                 \u001b[3m\u001b[90m<fct>\u001b[39m\u001b[23m 8, 8, 4, 7, 8, 5, 8, 8, 6, 8, 8, 7, 3, 5, 7, 4,~\n",
      "$ bmi_category           \u001b[3m\u001b[90m<fct>\u001b[39m\u001b[23m 2, 1, 1, 3, 1, 1, 3, 2, 2, 3, 3, 1, 2, 1, 3, 2,~\n",
      "$ phys_category          \u001b[3m\u001b[90m<fct>\u001b[39m\u001b[23m 0, 0, 0, 0, 1, 1, 1, 0, 1, 1, 0, 2, 0, 0, 0, 2,~\n"
     ]
    },
    {
     "data": {
      "text/plain": [
       "\n",
       "   0    1    2 \n",
       "3676 3676 3676 "
      ]
     },
     "metadata": {},
     "output_type": "display_data"
    }
   ],
   "source": [
    "undersampling_data <- read.csv(\"../data/undersampled_data.csv\")\n",
    "undersampling_data <- undersampling_data |> mutate(across(everything(), as.factor))\n",
    "\n",
    "glimpse(undersampling_data)\n",
    "\n",
    "table(undersampling_data$diabetes_012)"
   ]
  },
  {
   "cell_type": "markdown",
   "metadata": {},
   "source": [
    "#### Train với thông số cơ bản"
   ]
  },
  {
   "cell_type": "code",
   "execution_count": 7,
   "metadata": {
    "vscode": {
     "languageId": "r"
    }
   },
   "outputs": [
    {
     "name": "stdout",
     "output_type": "stream",
     "text": [
      "LDA Training Metrics:\n",
      "$Precision\n",
      "        0         1         2 \n",
      "0.6191983 0.4317751 0.5103194 \n",
      "\n",
      "$Recall\n",
      "        0         1         2 \n",
      "0.6387378 0.3718716 0.5650163 \n",
      "\n",
      "$Accuracy\n",
      "[1] 0.5252086\n",
      "\n",
      "$Kappa\n",
      "[1] 0.2878128\n",
      "\n",
      "$Macro_F1\n",
      "[1] 0.1429018\n",
      "\n",
      "QDA Training Metrics:\n",
      "$Precision\n",
      "        0         1         2 \n",
      "0.6395955 0.5007485 0.4521699 \n",
      "\n",
      "$Recall\n",
      "        0         1         2 \n",
      "0.5677367 0.1819913 0.7908052 \n",
      "\n",
      "$Accuracy\n",
      "[1] 0.5135111\n",
      "\n",
      "$Kappa\n",
      "[1] 0.2702666\n",
      "\n",
      "$Macro_F1\n",
      "[1] 0.142301\n",
      "\n"
     ]
    }
   ],
   "source": [
    "# Train LDA model on undersampling_data\n",
    "lda_model <- lda(diabetes_012 ~ ., data = undersampling_data)\n",
    "\n",
    "# Predict on undersampling_data\n",
    "lda_predictions_train <- predict(lda_model, undersampling_data)$class\n",
    "lda_pred_probs_train <- predict(lda_model, undersampling_data)$posterior\n",
    "\n",
    "# Calculate confusion matrix and metrics for training data\n",
    "lda_conf_matrix_train <- table(undersampling_data$diabetes_012, lda_predictions_train)\n",
    "lda_metrics_train <- eval_multi_class(lda_conf_matrix_train)\n",
    "\n",
    "# Print metrics for training data\n",
    "cat(\"LDA Training Metrics:\\n\")\n",
    "print(lda_metrics_train)\n",
    "\n",
    "# Predict on test_data\n",
    "lda_predictions <- predict(lda_model, test_data)$class\n",
    "lda_pred_probs <- predict(lda_model, test_data)$posterior\n",
    "\n",
    "# Train QDA model on undersampling_data\n",
    "qda_model <- qda(diabetes_012 ~ ., data = undersampling_data)\n",
    "\n",
    "# Predict on undersampling_data\n",
    "qda_predictions_train <- predict(qda_model, undersampling_data)$class\n",
    "qda_pred_probs_train <- predict(qda_model, undersampling_data)$posterior\n",
    "\n",
    "# Calculate confusion matrix and metrics for training data\n",
    "qda_conf_matrix_train <- table(undersampling_data$diabetes_012, qda_predictions_train)\n",
    "qda_metrics_train <- eval_multi_class(qda_conf_matrix_train)\n",
    "\n",
    "# Print metrics for training data\n",
    "cat(\"QDA Training Metrics:\\n\")\n",
    "print(qda_metrics_train)\n",
    "\n",
    "# Predict on test_data\n",
    "qda_predictions <- predict(qda_model, test_data)$class\n",
    "qda_pred_probs <- predict(qda_model, test_data)$posterior\n",
    "\n",
    "# Return predictions and probabilities for both models\n",
    "undersampling_results <- list(\n",
    "    lda_predictions = lda_predictions,\n",
    "    lda_pred_probs = lda_pred_probs,\n",
    "    qda_predictions = qda_predictions,\n",
    "    qda_pred_probs = qda_pred_probs\n",
    ")\n",
    "train_and_evaluate_models <- function(train_data, test_data) {\n",
    "    # Train LDA model on train_data\n",
    "    lda_model <- lda(diabetes_012 ~ ., data = train_data)\n",
    "    \n",
    "    # Predict on train_data\n",
    "    lda_predictions_train <- predict(lda_model, train_data)$class\n",
    "    lda_pred_probs_train <- predict(lda_model, train_data)$posterior\n",
    "    \n",
    "    # Calculate confusion matrix and metrics for training data\n",
    "    lda_conf_matrix_train <- table(train_data$diabetes_012, lda_predictions_train)\n",
    "    lda_metrics_train <- eval_multi_class(lda_conf_matrix_train)\n",
    "    \n",
    "    # Print metrics for training data\n",
    "    cat(\"LDA Training Metrics:\\n\")\n",
    "    print(lda_metrics_train)\n",
    "    \n",
    "    # Predict on test_data\n",
    "    lda_predictions <- predict(lda_model, test_data)$class\n",
    "    lda_pred_probs <- predict(lda_model, test_data)$posterior\n",
    "    \n",
    "    # Train QDA model on train_data\n",
    "    qda_model <- qda(diabetes_012 ~ ., data = train_data)\n",
    "    \n",
    "    # Predict on train_data\n",
    "    qda_predictions_train <- predict(qda_model, train_data)$class\n",
    "    qda_pred_probs_train <- predict(qda_model, train_data)$posterior\n",
    "    \n",
    "    # Calculate confusion matrix and metrics for training data\n",
    "    qda_conf_matrix_train <- table(train_data$diabetes_012, qda_predictions_train)\n",
    "    qda_metrics_train <- eval_multi_class(qda_conf_matrix_train)\n",
    "    \n",
    "    # Print metrics for training data\n",
    "    cat(\"QDA Training Metrics:\\n\")\n",
    "    print(qda_metrics_train)\n",
    "    \n",
    "    # Predict on test_data\n",
    "    qda_predictions <- predict(qda_model, test_data)$class\n",
    "    qda_pred_probs <- predict(qda_model, test_data)$posterior\n",
    "    \n",
    "    # Return predictions and probabilities for both models\n",
    "    return(list(\n",
    "        lda_predictions = lda_predictions,\n",
    "        lda_pred_probs = lda_pred_probs,\n",
    "        qda_predictions = qda_predictions,\n",
    "        qda_pred_probs = qda_pred_probs\n",
    "    ))\n",
    "}"
   ]
  },
  {
   "cell_type": "markdown",
   "metadata": {},
   "source": [
    "Cho LDA"
   ]
  },
  {
   "cell_type": "code",
   "execution_count": 105,
   "metadata": {
    "vscode": {
     "languageId": "r"
    }
   },
   "outputs": [
    {
     "data": {
      "text/plain": [
       "   \n",
       "        0     1     2\n",
       "  0 26875  8942  6897\n",
       "  1   261   345   349\n",
       "  2  1024  2149  3894"
      ]
     },
     "metadata": {},
     "output_type": "display_data"
    },
    {
     "data": {
      "text/html": [
       "<dl>\n",
       "\t<dt>$Precision</dt>\n",
       "\t\t<dd><style>\n",
       ".dl-inline {width: auto; margin:0; padding: 0}\n",
       ".dl-inline>dt, .dl-inline>dd {float: none; width: auto; display: inline-block}\n",
       ".dl-inline>dt::after {content: \":\\0020\"; padding-right: .5ex}\n",
       ".dl-inline>dt:not(:first-of-type) {padding-left: .5ex}\n",
       "</style><dl class=dl-inline><dt>0</dt><dd>0.954367897727273</dd><dt>1</dt><dd>0.0301678908709339</dd><dt>2</dt><dd>0.349551166965889</dd></dl>\n",
       "</dd>\n",
       "\t<dt>$Recall</dt>\n",
       "\t\t<dd><style>\n",
       ".dl-inline {width: auto; margin:0; padding: 0}\n",
       ".dl-inline>dt, .dl-inline>dd {float: none; width: auto; display: inline-block}\n",
       ".dl-inline>dt::after {content: \":\\0020\"; padding-right: .5ex}\n",
       ".dl-inline>dt:not(:first-of-type) {padding-left: .5ex}\n",
       "</style><dl class=dl-inline><dt>0</dt><dd>0.62918481060074</dd><dt>1</dt><dd>0.361256544502618</dd><dt>2</dt><dd>0.551011744729022</dd></dl>\n",
       "</dd>\n",
       "\t<dt>$Accuracy</dt>\n",
       "\t\t<dd>0.613252917060864</dd>\n",
       "\t<dt>$Kappa</dt>\n",
       "\t\t<dd>0.223244999380869</dd>\n",
       "\t<dt>$Macro_F1</dt>\n",
       "\t\t<dd>0.108937076551734</dd>\n",
       "</dl>\n"
      ],
      "text/latex": [
       "\\begin{description}\n",
       "\\item[\\$Precision] \\begin{description*}\n",
       "\\item[0] 0.954367897727273\n",
       "\\item[1] 0.0301678908709339\n",
       "\\item[2] 0.349551166965889\n",
       "\\end{description*}\n",
       "\n",
       "\\item[\\$Recall] \\begin{description*}\n",
       "\\item[0] 0.62918481060074\n",
       "\\item[1] 0.361256544502618\n",
       "\\item[2] 0.551011744729022\n",
       "\\end{description*}\n",
       "\n",
       "\\item[\\$Accuracy] 0.613252917060864\n",
       "\\item[\\$Kappa] 0.223244999380869\n",
       "\\item[\\$Macro\\_F1] 0.108937076551734\n",
       "\\end{description}\n"
      ],
      "text/markdown": [
       "$Precision\n",
       ":   0\n",
       ":   0.9543678977272731\n",
       ":   0.03016789087093392\n",
       ":   0.349551166965889\n",
       "\n",
       "\n",
       "$Recall\n",
       ":   0\n",
       ":   0.629184810600741\n",
       ":   0.3612565445026182\n",
       ":   0.551011744729022\n",
       "\n",
       "\n",
       "$Accuracy\n",
       ":   0.613252917060864\n",
       "$Kappa\n",
       ":   0.223244999380869\n",
       "$Macro_F1\n",
       ":   0.108937076551734\n",
       "\n",
       "\n"
      ],
      "text/plain": [
       "$Precision\n",
       "         0          1          2 \n",
       "0.95436790 0.03016789 0.34955117 \n",
       "\n",
       "$Recall\n",
       "        0         1         2 \n",
       "0.6291848 0.3612565 0.5510117 \n",
       "\n",
       "$Accuracy\n",
       "[1] 0.6132529\n",
       "\n",
       "$Kappa\n",
       "[1] 0.223245\n",
       "\n",
       "$Macro_F1\n",
       "[1] 0.1089371\n"
      ]
     },
     "metadata": {},
     "output_type": "display_data"
    },
    {
     "data": {
      "image/png": "[encoded data removed]",
      "text/plain": [
       "plot without title"
      ]
     },
     "metadata": {
      "image/png": {
       "height": 420,
       "width": 420
      }
     },
     "output_type": "display_data"
    }
   ],
   "source": [
    "conf_matrix <- table(test_data$diabetes_012, undersampling_results$lda_predictions)\n",
    "conf_matrix\n",
    "\n",
    "eval_multi_class(conf_matrix)\n",
    "\n",
    "# Plot confusion matrix using the function\n",
    "plot_confusion_matrix(conf_matrix, \"LDA\")"
   ]
  },
  {
   "cell_type": "markdown",
   "metadata": {},
   "source": [
    "Cho QDA"
   ]
  },
  {
   "cell_type": "code",
   "execution_count": 106,
   "metadata": {
    "vscode": {
     "languageId": "r"
    }
   },
   "outputs": [
    {
     "data": {
      "text/plain": [
       "   \n",
       "        0     1     2\n",
       "  0 23879  4223 14612\n",
       "  1   208   133   614\n",
       "  2   846   740  5481"
      ]
     },
     "metadata": {},
     "output_type": "display_data"
    },
    {
     "data": {
      "text/html": [
       "<dl>\n",
       "\t<dt>$Precision</dt>\n",
       "\t\t<dd><style>\n",
       ".dl-inline {width: auto; margin:0; padding: 0}\n",
       ".dl-inline>dt, .dl-inline>dd {float: none; width: auto; display: inline-block}\n",
       ".dl-inline>dt::after {content: \":\\0020\"; padding-right: .5ex}\n",
       ".dl-inline>dt:not(:first-of-type) {padding-left: .5ex}\n",
       "</style><dl class=dl-inline><dt>0</dt><dd>0.957726707576305</dd><dt>1</dt><dd>0.0260989010989011</dd><dt>2</dt><dd>0.264693098952045</dd></dl>\n",
       "</dd>\n",
       "\t<dt>$Recall</dt>\n",
       "\t\t<dd><style>\n",
       ".dl-inline {width: auto; margin:0; padding: 0}\n",
       ".dl-inline>dt, .dl-inline>dd {float: none; width: auto; display: inline-block}\n",
       ".dl-inline>dt::after {content: \":\\0020\"; padding-right: .5ex}\n",
       ".dl-inline>dt:not(:first-of-type) {padding-left: .5ex}\n",
       "</style><dl class=dl-inline><dt>0</dt><dd>0.559043873203165</dd><dt>1</dt><dd>0.139267015706806</dd><dt>2</dt><dd>0.775576623744163</dd></dl>\n",
       "</dd>\n",
       "\t<dt>$Accuracy</dt>\n",
       "\t\t<dd>0.581303216650899</dd>\n",
       "\t<dt>$Kappa</dt>\n",
       "\t\t<dd>0.206315060891193</dd>\n",
       "\t<dt>$Macro_F1</dt>\n",
       "\t\t<dd>0.0921365805094557</dd>\n",
       "</dl>\n"
      ],
      "text/latex": [
       "\\begin{description}\n",
       "\\item[\\$Precision] \\begin{description*}\n",
       "\\item[0] 0.957726707576305\n",
       "\\item[1] 0.0260989010989011\n",
       "\\item[2] 0.264693098952045\n",
       "\\end{description*}\n",
       "\n",
       "\\item[\\$Recall] \\begin{description*}\n",
       "\\item[0] 0.559043873203165\n",
       "\\item[1] 0.139267015706806\n",
       "\\item[2] 0.775576623744163\n",
       "\\end{description*}\n",
       "\n",
       "\\item[\\$Accuracy] 0.581303216650899\n",
       "\\item[\\$Kappa] 0.206315060891193\n",
       "\\item[\\$Macro\\_F1] 0.0921365805094557\n",
       "\\end{description}\n"
      ],
      "text/markdown": [
       "$Precision\n",
       ":   0\n",
       ":   0.9577267075763051\n",
       ":   0.02609890109890112\n",
       ":   0.264693098952045\n",
       "\n",
       "\n",
       "$Recall\n",
       ":   0\n",
       ":   0.5590438732031651\n",
       ":   0.1392670157068062\n",
       ":   0.775576623744163\n",
       "\n",
       "\n",
       "$Accuracy\n",
       ":   0.581303216650899\n",
       "$Kappa\n",
       ":   0.206315060891193\n",
       "$Macro_F1\n",
       ":   0.0921365805094557\n",
       "\n",
       "\n"
      ],
      "text/plain": [
       "$Precision\n",
       "        0         1         2 \n",
       "0.9577267 0.0260989 0.2646931 \n",
       "\n",
       "$Recall\n",
       "        0         1         2 \n",
       "0.5590439 0.1392670 0.7755766 \n",
       "\n",
       "$Accuracy\n",
       "[1] 0.5813032\n",
       "\n",
       "$Kappa\n",
       "[1] 0.2063151\n",
       "\n",
       "$Macro_F1\n",
       "[1] 0.09213658\n"
      ]
     },
     "metadata": {},
     "output_type": "display_data"
    },
    {
     "data": {
      "image/png": "[encoded data removed]",
      "text/plain": [
       "plot without title"
      ]
     },
     "metadata": {
      "image/png": {
       "height": 420,
       "width": 420
      }
     },
     "output_type": "display_data"
    }
   ],
   "source": [
    "conf_matrix <- table(test_data$diabetes_012, undersampling_results$qda_predictions)\n",
    "conf_matrix\n",
    "\n",
    "eval_multi_class(conf_matrix)\n",
    "\n",
    "# Plot confusion matrix using the function\n",
    "plot_confusion_matrix(conf_matrix, \"QDA\")"
   ]
  },
  {
   "cell_type": "markdown",
   "metadata": {},
   "source": [
    "### Thử trên Data SMOTE Sampling"
   ]
  },
  {
   "cell_type": "code",
   "execution_count": 12,
   "metadata": {
    "vscode": {
     "languageId": "r"
    }
   },
   "outputs": [
    {
     "name": "stdout",
     "output_type": "stream",
     "text": [
      "Rows: 444,571\n",
      "Columns: 21\n",
      "$ diabetes_012           \u001b[3m\u001b[90m<fct>\u001b[39m\u001b[23m 0, 0, 0, 0, 0, 0, 0, 0, 0, 0, 0, 0, 0, 0, 0, 0,~\n",
      "$ high_bp                \u001b[3m\u001b[90m<fct>\u001b[39m\u001b[23m 0, 1, 0, 1, 0, 0, 1, 0, 0, 0, 1, 1, 0, 1, 0, 0,~\n",
      "$ high_chol              \u001b[3m\u001b[90m<fct>\u001b[39m\u001b[23m 0, 0, 0, 0, 1, 0, 0, 0, 0, 0, 1, 1, 0, 1, 0, 0,~\n",
      "$ chol_check             \u001b[3m\u001b[90m<fct>\u001b[39m\u001b[23m 1, 1, 1, 1, 1, 1, 1, 1, 1, 1, 1, 1, 1, 1, 1, 1,~\n",
      "$ smoker                 \u001b[3m\u001b[90m<fct>\u001b[39m\u001b[23m 1, 1, 0, 0, 1, 0, 0, 1, 0, 0, 1, 1, 0, 1, 0, 0,~\n",
      "$ stroke                 \u001b[3m\u001b[90m<fct>\u001b[39m\u001b[23m 0, 0, 0, 0, 0, 0, 0, 0, 0, 0, 0, 0, 0, 0, 0, 0,~\n",
      "$ heart_diseaseor_attack \u001b[3m\u001b[90m<fct>\u001b[39m\u001b[23m 0, 0, 0, 0, 1, 0, 0, 0, 0, 0, 1, 1, 0, 0, 0, 0,~\n",
      "$ phys_activity          \u001b[3m\u001b[90m<fct>\u001b[39m\u001b[23m 1, 1, 0, 1, 1, 1, 1, 1, 1, 1, 0, 1, 1, 1, 1, 1,~\n",
      "$ fruits                 \u001b[3m\u001b[90m<fct>\u001b[39m\u001b[23m 0, 1, 1, 1, 1, 1, 0, 1, 1, 1, 0, 1, 1, 0, 1, 1,~\n",
      "$ veggies                \u001b[3m\u001b[90m<fct>\u001b[39m\u001b[23m 1, 1, 1, 1, 1, 0, 0, 1, 1, 1, 0, 0, 1, 1, 1, 1,~\n",
      "$ hvy_alcohol_consump    \u001b[3m\u001b[90m<fct>\u001b[39m\u001b[23m 1, 0, 0, 0, 0, 0, 0, 0, 0, 0, 0, 0, 0, 0, 0, 0,~\n",
      "$ any_healthcare         \u001b[3m\u001b[90m<fct>\u001b[39m\u001b[23m 1, 1, 1, 1, 1, 1, 1, 1, 1, 1, 1, 1, 1, 1, 1, 1,~\n",
      "$ no_docbc_cost          \u001b[3m\u001b[90m<fct>\u001b[39m\u001b[23m 0, 0, 1, 0, 0, 0, 1, 0, 0, 0, 1, 0, 0, 0, 0, 0,~\n",
      "$ gen_hlth               \u001b[3m\u001b[90m<fct>\u001b[39m\u001b[23m 1, 2, 1, 3, 2, 1, 3, 5, 2, 1, 5, 3, 3, 2, 2, 1,~\n",
      "$ diff_walk              \u001b[3m\u001b[90m<fct>\u001b[39m\u001b[23m 0, 0, 0, 1, 0, 0, 0, 1, 0, 0, 1, 0, 0, 0, 0, 0,~\n",
      "$ sex                    \u001b[3m\u001b[90m<fct>\u001b[39m\u001b[23m 0, 0, 0, 0, 0, 1, 0, 1, 0, 0, 1, 1, 0, 0, 0, 0,~\n",
      "$ age                    \u001b[3m\u001b[90m<fct>\u001b[39m\u001b[23m 12, 12, 7, 11, 12, 7, 11, 6, 9, 8, 10, 11, 6, 1~\n",
      "$ education              \u001b[3m\u001b[90m<fct>\u001b[39m\u001b[23m 6, 6, 5, 5, 6, 6, 2, 4, 5, 6, 5, 4, 6, 4, 6, 6,~\n",
      "$ income                 \u001b[3m\u001b[90m<fct>\u001b[39m\u001b[23m 8, 6, 5, 4, 8, 7, 2, 1, 6, 7, 3, 5, 3, 3, 7, 7,~\n",
      "$ bmi_category           \u001b[3m\u001b[90m<fct>\u001b[39m\u001b[23m 1, 4, 1, 2, 1, 2, 1, 1, 3, 1, 2, 4, 3, 2, 2, 1,~\n",
      "$ phys_category          \u001b[3m\u001b[90m<fct>\u001b[39m\u001b[23m 0, 1, 0, 0, 0, 0, 0, 2, 0, 0, 2, 1, 1, 0, 0, 1,~\n"
     ]
    },
    {
     "data": {
      "text/plain": [
       "\n",
       "     0      1      2 \n",
       "170989 136791 136791 "
      ]
     },
     "metadata": {},
     "output_type": "display_data"
    }
   ],
   "source": [
    "smote_data <- read.csv(\"../data/smote_augmented_data_80_percent.csv\")\n",
    "smote_data <- smote_data |> mutate(across(everything(), as.factor))\n",
    "\n",
    "glimpse(smote_data)\n",
    "table(smote_data$diabetes_012)"
   ]
  },
  {
   "cell_type": "markdown",
   "metadata": {},
   "source": [
    "### Train với thông số cơ bản"
   ]
  },
  {
   "cell_type": "code",
   "execution_count": 91,
   "metadata": {
    "vscode": {
     "languageId": "r"
    }
   },
   "outputs": [
    {
     "name": "stdout",
     "output_type": "stream",
     "text": [
      "             Metric       LDA.1       LDA.2       LDA.3       LDA.4       LDA.5\n",
      "accuracy   Accuracy  0.54230445  0.54412129  0.54238928  0.54545966  0.53967879\n",
      "precision Precision  0.52349132  0.52509562  0.52341146  0.52681658  0.52122596\n",
      "recall       Recall  0.52868264  0.53020794  0.52892867  0.53237522  0.52687949\n",
      "f1               F1  0.52330045  0.52507690  0.52361933  0.52689514  0.52138996\n",
      "kappa         Kappa -0.05882353 -0.05882353 -0.05882353 -0.05882353 -0.05882353\n",
      "                QDA.1       QDA.2       QDA.3       QDA.4       QDA.5\n",
      "accuracy   0.54161840  0.53543874  0.53592235  0.53767686  0.53460647\n",
      "precision  0.57659654  0.57256921  0.57019217  0.57311929  0.57158529\n",
      "recall     0.53544489  0.52994456  0.53044196  0.53243052  0.52904085\n",
      "f1         0.49947951  0.49315392  0.49260916  0.49495631  0.49172466\n",
      "kappa     -0.05882353 -0.05882353 -0.05882353 -0.05882353 -0.05882353\n"
     ]
    }
   ],
   "source": [
    "smote_results <- evaluate_models(smote_data, test_data)"
   ]
  },
  {
   "cell_type": "code",
   "execution_count": 92,
   "metadata": {
    "vscode": {
     "languageId": "r"
    }
   },
   "outputs": [
    {
     "data": {
      "text/plain": [
       "   \n",
       "        0     1     2\n",
       "  0 29992  6365  6357\n",
       "  1   332   282   341\n",
       "  2  1506  1810  3751"
      ]
     },
     "metadata": {},
     "output_type": "display_data"
    },
    {
     "data": {
      "text/html": [
       "<dl>\n",
       "\t<dt>$Precision</dt>\n",
       "\t\t<dd><style>\n",
       ".dl-inline {width: auto; margin:0; padding: 0}\n",
       ".dl-inline>dt, .dl-inline>dd {float: none; width: auto; display: inline-block}\n",
       ".dl-inline>dt::after {content: \":\\0020\"; padding-right: .5ex}\n",
       ".dl-inline>dt:not(:first-of-type) {padding-left: .5ex}\n",
       "</style><dl class=dl-inline><dt>0</dt><dd>0.942255733584669</dd><dt>1</dt><dd>0.0333451578573962</dd><dt>2</dt><dd>0.358981720738827</dd></dl>\n",
       "</dd>\n",
       "\t<dt>$Recall</dt>\n",
       "\t\t<dd><style>\n",
       ".dl-inline {width: auto; margin:0; padding: 0}\n",
       ".dl-inline>dt, .dl-inline>dd {float: none; width: auto; display: inline-block}\n",
       ".dl-inline>dt::after {content: \":\\0020\"; padding-right: .5ex}\n",
       ".dl-inline>dt:not(:first-of-type) {padding-left: .5ex}\n",
       "</style><dl class=dl-inline><dt>0</dt><dd>0.702158542866507</dd><dt>1</dt><dd>0.295287958115183</dd><dt>2</dt><dd>0.530776850148578</dd></dl>\n",
       "</dd>\n",
       "\t<dt>$Accuracy</dt>\n",
       "\t\t<dd>0.67062835067802</dd>\n",
       "\t<dt>$Kappa</dt>\n",
       "\t\t<dd>0.251436801527645</dd>\n",
       "\t<dt>$Macro_F1</dt>\n",
       "\t\t<dd>0.107631379256413</dd>\n",
       "</dl>\n"
      ],
      "text/latex": [
       "\\begin{description}\n",
       "\\item[\\$Precision] \\begin{description*}\n",
       "\\item[0] 0.942255733584669\n",
       "\\item[1] 0.0333451578573962\n",
       "\\item[2] 0.358981720738827\n",
       "\\end{description*}\n",
       "\n",
       "\\item[\\$Recall] \\begin{description*}\n",
       "\\item[0] 0.702158542866507\n",
       "\\item[1] 0.295287958115183\n",
       "\\item[2] 0.530776850148578\n",
       "\\end{description*}\n",
       "\n",
       "\\item[\\$Accuracy] 0.67062835067802\n",
       "\\item[\\$Kappa] 0.251436801527645\n",
       "\\item[\\$Macro\\_F1] 0.107631379256413\n",
       "\\end{description}\n"
      ],
      "text/markdown": [
       "$Precision\n",
       ":   0\n",
       ":   0.9422557335846691\n",
       ":   0.03334515785739622\n",
       ":   0.358981720738827\n",
       "\n",
       "\n",
       "$Recall\n",
       ":   0\n",
       ":   0.7021585428665071\n",
       ":   0.2952879581151832\n",
       ":   0.530776850148578\n",
       "\n",
       "\n",
       "$Accuracy\n",
       ":   0.67062835067802\n",
       "$Kappa\n",
       ":   0.251436801527645\n",
       "$Macro_F1\n",
       ":   0.107631379256413\n",
       "\n",
       "\n"
      ],
      "text/plain": [
       "$Precision\n",
       "         0          1          2 \n",
       "0.94225573 0.03334516 0.35898172 \n",
       "\n",
       "$Recall\n",
       "        0         1         2 \n",
       "0.7021585 0.2952880 0.5307769 \n",
       "\n",
       "$Accuracy\n",
       "[1] 0.6706284\n",
       "\n",
       "$Kappa\n",
       "[1] 0.2514368\n",
       "\n",
       "$Macro_F1\n",
       "[1] 0.1076314\n"
      ]
     },
     "metadata": {},
     "output_type": "display_data"
    },
    {
     "data": {
      "image/png": "[encoded data removed]",
      "text/plain": [
       "plot without title"
      ]
     },
     "metadata": {
      "image/png": {
       "height": 420,
       "width": 420
      }
     },
     "output_type": "display_data"
    }
   ],
   "source": [
    "conf_matrix <- table(test_data$diabetes_012, smote_results$lda_predictions)\n",
    "conf_matrix\n",
    "\n",
    "eval_multi_class(conf_matrix)\n",
    "\n",
    "# Plot confusion matrix using the function\n",
    "plot_confusion_matrix(conf_matrix, \"LDA\")"
   ]
  },
  {
   "cell_type": "code",
   "execution_count": 94,
   "metadata": {
    "vscode": {
     "languageId": "r"
    }
   },
   "outputs": [
    {
     "data": {
      "text/plain": [
       "   \n",
       "        0     1     2\n",
       "  0 25790  2274 14650\n",
       "  1   252    81   622\n",
       "  2  1078   392  5597"
      ]
     },
     "metadata": {},
     "output_type": "display_data"
    },
    {
     "data": {
      "text/html": [
       "<dl>\n",
       "\t<dt>$Precision</dt>\n",
       "\t\t<dd><style>\n",
       ".dl-inline {width: auto; margin:0; padding: 0}\n",
       ".dl-inline>dt, .dl-inline>dd {float: none; width: auto; display: inline-block}\n",
       ".dl-inline>dt::after {content: \":\\0020\"; padding-right: .5ex}\n",
       ".dl-inline>dt:not(:first-of-type) {padding-left: .5ex}\n",
       "</style><dl class=dl-inline><dt>0</dt><dd>0.950958702064897</dd><dt>1</dt><dd>0.0294867127775755</dd><dt>2</dt><dd>0.26819684699794</dd></dl>\n",
       "</dd>\n",
       "\t<dt>$Recall</dt>\n",
       "\t\t<dd><style>\n",
       ".dl-inline {width: auto; margin:0; padding: 0}\n",
       ".dl-inline>dt, .dl-inline>dd {float: none; width: auto; display: inline-block}\n",
       ".dl-inline>dt::after {content: \":\\0020\"; padding-right: .5ex}\n",
       ".dl-inline>dt:not(:first-of-type) {padding-left: .5ex}\n",
       "</style><dl class=dl-inline><dt>0</dt><dd>0.603783302898347</dd><dt>1</dt><dd>0.0848167539267016</dd><dt>2</dt><dd>0.791990943823405</dd></dl>\n",
       "</dd>\n",
       "\t<dt>$Accuracy</dt>\n",
       "\t\t<dd>0.620230211289814</dd>\n",
       "\t<dt>$Kappa</dt>\n",
       "\t\t<dd>0.227595256398289</dd>\n",
       "\t<dt>$Macro_F1</dt>\n",
       "\t\t<dd>0.0927623722930877</dd>\n",
       "</dl>\n"
      ],
      "text/latex": [
       "\\begin{description}\n",
       "\\item[\\$Precision] \\begin{description*}\n",
       "\\item[0] 0.950958702064897\n",
       "\\item[1] 0.0294867127775755\n",
       "\\item[2] 0.26819684699794\n",
       "\\end{description*}\n",
       "\n",
       "\\item[\\$Recall] \\begin{description*}\n",
       "\\item[0] 0.603783302898347\n",
       "\\item[1] 0.0848167539267016\n",
       "\\item[2] 0.791990943823405\n",
       "\\end{description*}\n",
       "\n",
       "\\item[\\$Accuracy] 0.620230211289814\n",
       "\\item[\\$Kappa] 0.227595256398289\n",
       "\\item[\\$Macro\\_F1] 0.0927623722930877\n",
       "\\end{description}\n"
      ],
      "text/markdown": [
       "$Precision\n",
       ":   0\n",
       ":   0.9509587020648971\n",
       ":   0.02948671277757552\n",
       ":   0.26819684699794\n",
       "\n",
       "\n",
       "$Recall\n",
       ":   0\n",
       ":   0.6037833028983471\n",
       ":   0.08481675392670162\n",
       ":   0.791990943823405\n",
       "\n",
       "\n",
       "$Accuracy\n",
       ":   0.620230211289814\n",
       "$Kappa\n",
       ":   0.227595256398289\n",
       "$Macro_F1\n",
       ":   0.0927623722930877\n",
       "\n",
       "\n"
      ],
      "text/plain": [
       "$Precision\n",
       "         0          1          2 \n",
       "0.95095870 0.02948671 0.26819685 \n",
       "\n",
       "$Recall\n",
       "         0          1          2 \n",
       "0.60378330 0.08481675 0.79199094 \n",
       "\n",
       "$Accuracy\n",
       "[1] 0.6202302\n",
       "\n",
       "$Kappa\n",
       "[1] 0.2275953\n",
       "\n",
       "$Macro_F1\n",
       "[1] 0.09276237\n"
      ]
     },
     "metadata": {},
     "output_type": "display_data"
    },
    {
     "data": {
      "image/png": "[encoded data removed]",
      "text/plain": [
       "plot without title"
      ]
     },
     "metadata": {
      "image/png": {
       "height": 420,
       "width": 420
      }
     },
     "output_type": "display_data"
    }
   ],
   "source": [
    "conf_matrix <- table(test_data$diabetes_012, smote_results$qda_predictions)\n",
    "conf_matrix\n",
    "\n",
    "eval_multi_class(conf_matrix)\n",
    "\n",
    "# Plot confusion matrix using the function\n",
    "plot_confusion_matrix(conf_matrix, \"QDA\")"
   ]
  },
  {
   "cell_type": "markdown",
   "metadata": {},
   "source": [
    "## Modeling With Binary 0 & {1, 2}"
   ]
  },
  {
   "cell_type": "code",
   "execution_count": 17,
   "metadata": {
    "vscode": {
     "languageId": "r"
    }
   },
   "outputs": [],
   "source": [
    "convert_to_binary <- function(data) {\n",
    "    data |> mutate(diabetes_012 = ifelse(diabetes_012 %in% c(1, 2), 1, ifelse(diabetes_012 == 0, 0, diabetes_012)))\n",
    "}\n",
    "\n",
    "\n",
    "binary_train_data <- convert_to_binary(train_data)\n",
    "binary_oversampling_data <- convert_to_binary(oversampling_data)\n",
    "binary_undersampling_data <- convert_to_binary(undersampling_data)\n",
    "binary_smote_data <- convert_to_binary(smote_data)\n",
    "binary_test_data <- convert_to_binary(test_data)"
   ]
  },
  {
   "cell_type": "code",
   "execution_count": 22,
   "metadata": {
    "vscode": {
     "languageId": "r"
    }
   },
   "outputs": [
    {
     "data": {
      "text/plain": [
       "\n",
       "     0      1 \n",
       "170989  31955 "
      ]
     },
     "metadata": {},
     "output_type": "display_data"
    },
    {
     "data": {
      "text/plain": [
       "\n",
       "    0     1 \n",
       "42714  8022 "
      ]
     },
     "metadata": {},
     "output_type": "display_data"
    }
   ],
   "source": [
    "table(binary_train_data$diabetes_012)\n",
    "table(binary_test_data$diabetes_012)"
   ]
  },
  {
   "cell_type": "markdown",
   "metadata": {},
   "source": [
    "### Train Data"
   ]
  },
  {
   "cell_type": "code",
   "execution_count": 23,
   "metadata": {
    "vscode": {
     "languageId": "r"
    }
   },
   "outputs": [
    {
     "name": "stdout",
     "output_type": "stream",
     "text": [
      "             Metric      LDA.1      LDA.2      LDA.3      LDA.4      LDA.5\n",
      "accuracy   Accuracy  0.8472739  0.8490231  0.8452783  0.8480376  0.8462107\n",
      "precision Precision  0.6993663  0.7058365  0.6973235  0.7074478  0.6993040\n",
      "recall       Recall  0.6080822  0.6090292  0.6057129  0.6107282  0.6096191\n",
      "f1               F1  0.6305286  0.6323068  0.6276369  0.6341451  0.6320218\n",
      "kappa         Kappa -0.1111111 -0.1111111 -0.1111111 -0.1111111 -0.1111111\n",
      "               QDA.1      QDA.2      QDA.3      QDA.4      QDA.5\n",
      "accuracy   0.6875755  0.6866146  0.6866392  0.6946710  0.6912388\n",
      "precision  0.6240902  0.6207991  0.6231624  0.6277634  0.6251736\n",
      "recall     0.7256909  0.7188930  0.7219810  0.7288505  0.7252922\n",
      "f1         0.6112594  0.6084725  0.6106016  0.6179801  0.6142344\n",
      "kappa     -0.1111111 -0.1111111 -0.1111111 -0.1111111 -0.1111111\n"
     ]
    },
    {
     "name": "stderr",
     "output_type": "stream",
     "text": [
      "Warning message in cc * sc:\n",
      "\"NAs produced by integer overflow\"\n"
     ]
    }
   ],
   "source": [
    "binary_results <- evaluate_models(binary_train_data, binary_test_data)"
   ]
  },
  {
   "cell_type": "markdown",
   "metadata": {},
   "source": [
    "Cho LDA"
   ]
  },
  {
   "cell_type": "code",
   "execution_count": 28,
   "metadata": {
    "vscode": {
     "languageId": "r"
    }
   },
   "outputs": [
    {
     "data": {
      "text/plain": [
       "   \n",
       "        0     1\n",
       "  0 40992  1722\n",
       "  1  5981  2041"
      ]
     },
     "metadata": {},
     "output_type": "display_data"
    },
    {
     "name": "stderr",
     "output_type": "stream",
     "text": [
      "Warning message in cc * sc:\n",
      "\"NAs produced by integer overflow\"\n"
     ]
    },
    {
     "data": {
      "text/html": [
       "<dl>\n",
       "\t<dt>$Precision</dt>\n",
       "\t\t<dd><style>\n",
       ".dl-inline {width: auto; margin:0; padding: 0}\n",
       ".dl-inline>dt, .dl-inline>dd {float: none; width: auto; display: inline-block}\n",
       ".dl-inline>dt::after {content: \":\\0020\"; padding-right: .5ex}\n",
       ".dl-inline>dt:not(:first-of-type) {padding-left: .5ex}\n",
       "</style><dl class=dl-inline><dt>0</dt><dd>0.87267153471143</dd><dt>1</dt><dd>0.542386393834706</dd></dl>\n",
       "</dd>\n",
       "\t<dt>$Recall</dt>\n",
       "\t\t<dd><style>\n",
       ".dl-inline {width: auto; margin:0; padding: 0}\n",
       ".dl-inline>dt, .dl-inline>dd {float: none; width: auto; display: inline-block}\n",
       ".dl-inline>dt::after {content: \":\\0020\"; padding-right: .5ex}\n",
       ".dl-inline>dt:not(:first-of-type) {padding-left: .5ex}\n",
       "</style><dl class=dl-inline><dt>0</dt><dd>0.95968534906588</dd><dt>1</dt><dd>0.254425330341561</dd></dl>\n",
       "</dd>\n",
       "\t<dt>$Accuracy</dt>\n",
       "\t\t<dd>0.848174865972879</dd>\n",
       "\t<dt>$Kappa</dt>\n",
       "\t\t<dd>&lt;NA&gt;</dd>\n",
       "\t<dt>$Macro_F1</dt>\n",
       "\t\t<dd>0.28066390727852</dd>\n",
       "</dl>\n"
      ],
      "text/latex": [
       "\\begin{description}\n",
       "\\item[\\$Precision] \\begin{description*}\n",
       "\\item[0] 0.87267153471143\n",
       "\\item[1] 0.542386393834706\n",
       "\\end{description*}\n",
       "\n",
       "\\item[\\$Recall] \\begin{description*}\n",
       "\\item[0] 0.95968534906588\n",
       "\\item[1] 0.254425330341561\n",
       "\\end{description*}\n",
       "\n",
       "\\item[\\$Accuracy] 0.848174865972879\n",
       "\\item[\\$Kappa] <NA>\n",
       "\\item[\\$Macro\\_F1] 0.28066390727852\n",
       "\\end{description}\n"
      ],
      "text/markdown": [
       "$Precision\n",
       ":   0\n",
       ":   0.872671534711431\n",
       ":   0.542386393834706\n",
       "\n",
       "\n",
       "$Recall\n",
       ":   0\n",
       ":   0.959685349065881\n",
       ":   0.254425330341561\n",
       "\n",
       "\n",
       "$Accuracy\n",
       ":   0.848174865972879\n",
       "$Kappa\n",
       ":   &lt;NA&gt;\n",
       "$Macro_F1\n",
       ":   0.28066390727852\n",
       "\n",
       "\n"
      ],
      "text/plain": [
       "$Precision\n",
       "        0         1 \n",
       "0.8726715 0.5423864 \n",
       "\n",
       "$Recall\n",
       "        0         1 \n",
       "0.9596853 0.2544253 \n",
       "\n",
       "$Accuracy\n",
       "[1] 0.8481749\n",
       "\n",
       "$Kappa\n",
       "[1] NA\n",
       "\n",
       "$Macro_F1\n",
       "[1] 0.2806639\n"
      ]
     },
     "metadata": {},
     "output_type": "display_data"
    },
    {
     "data": {
      "image/png": "[encoded data removed]",
      "text/plain": [
       "plot without title"
      ]
     },
     "metadata": {
      "image/png": {
       "height": 420,
       "width": 420
      }
     },
     "output_type": "display_data"
    }
   ],
   "source": [
    "conf_matrix <- table(binary_test_data$diabetes_012, binary_results$lda_predictions)\n",
    "conf_matrix\n",
    "\n",
    "eval_multi_class(conf_matrix)\n",
    "\n",
    "# Plot confusion matrix using the function\n",
    "plot_confusion_matrix(conf_matrix, \"LDA\")"
   ]
  },
  {
   "cell_type": "markdown",
   "metadata": {},
   "source": [
    "Cho QDA"
   ]
  },
  {
   "cell_type": "code",
   "execution_count": 30,
   "metadata": {
    "vscode": {
     "languageId": "r"
    }
   },
   "outputs": [
    {
     "data": {
      "text/plain": [
       "   \n",
       "        0     1\n",
       "  0 28734 13980\n",
       "  1  1840  6182"
      ]
     },
     "metadata": {},
     "output_type": "display_data"
    },
    {
     "data": {
      "text/html": [
       "<dl>\n",
       "\t<dt>$Precision</dt>\n",
       "\t\t<dd><style>\n",
       ".dl-inline {width: auto; margin:0; padding: 0}\n",
       ".dl-inline>dt, .dl-inline>dd {float: none; width: auto; display: inline-block}\n",
       ".dl-inline>dt::after {content: \":\\0020\"; padding-right: .5ex}\n",
       ".dl-inline>dt:not(:first-of-type) {padding-left: .5ex}\n",
       "</style><dl class=dl-inline><dt>0</dt><dd>0.939818146137241</dd><dt>1</dt><dd>0.30661640710247</dd></dl>\n",
       "</dd>\n",
       "\t<dt>$Recall</dt>\n",
       "\t\t<dd><style>\n",
       ".dl-inline {width: auto; margin:0; padding: 0}\n",
       ".dl-inline>dt, .dl-inline>dd {float: none; width: auto; display: inline-block}\n",
       ".dl-inline>dt::after {content: \":\\0020\"; padding-right: .5ex}\n",
       ".dl-inline>dt:not(:first-of-type) {padding-left: .5ex}\n",
       "</style><dl class=dl-inline><dt>0</dt><dd>0.672706840848434</dd><dt>1</dt><dd>0.770630765395163</dd></dl>\n",
       "</dd>\n",
       "\t<dt>$Accuracy</dt>\n",
       "\t\t<dd>0.688189845474614</dd>\n",
       "\t<dt>$Kappa</dt>\n",
       "\t\t<dd>0.274587058162065</dd>\n",
       "\t<dt>$Macro_F1</dt>\n",
       "\t\t<dd>0.30081488960074</dd>\n",
       "</dl>\n"
      ],
      "text/latex": [
       "\\begin{description}\n",
       "\\item[\\$Precision] \\begin{description*}\n",
       "\\item[0] 0.939818146137241\n",
       "\\item[1] 0.30661640710247\n",
       "\\end{description*}\n",
       "\n",
       "\\item[\\$Recall] \\begin{description*}\n",
       "\\item[0] 0.672706840848434\n",
       "\\item[1] 0.770630765395163\n",
       "\\end{description*}\n",
       "\n",
       "\\item[\\$Accuracy] 0.688189845474614\n",
       "\\item[\\$Kappa] 0.274587058162065\n",
       "\\item[\\$Macro\\_F1] 0.30081488960074\n",
       "\\end{description}\n"
      ],
      "text/markdown": [
       "$Precision\n",
       ":   0\n",
       ":   0.9398181461372411\n",
       ":   0.30661640710247\n",
       "\n",
       "\n",
       "$Recall\n",
       ":   0\n",
       ":   0.6727068408484341\n",
       ":   0.770630765395163\n",
       "\n",
       "\n",
       "$Accuracy\n",
       ":   0.688189845474614\n",
       "$Kappa\n",
       ":   0.274587058162065\n",
       "$Macro_F1\n",
       ":   0.30081488960074\n",
       "\n",
       "\n"
      ],
      "text/plain": [
       "$Precision\n",
       "        0         1 \n",
       "0.9398181 0.3066164 \n",
       "\n",
       "$Recall\n",
       "        0         1 \n",
       "0.6727068 0.7706308 \n",
       "\n",
       "$Accuracy\n",
       "[1] 0.6881898\n",
       "\n",
       "$Kappa\n",
       "[1] 0.2745871\n",
       "\n",
       "$Macro_F1\n",
       "[1] 0.3008149\n"
      ]
     },
     "metadata": {},
     "output_type": "display_data"
    },
    {
     "data": {
      "image/png": "[encoded data removed]",
      "text/plain": [
       "plot without title"
      ]
     },
     "metadata": {
      "image/png": {
       "height": 420,
       "width": 420
      }
     },
     "output_type": "display_data"
    }
   ],
   "source": [
    "conf_matrix <- table(binary_test_data$diabetes_012, binary_results$qda_predictions)\n",
    "conf_matrix\n",
    "\n",
    "eval_multi_class(conf_matrix)\n",
    "\n",
    "# Plot confusion matrix using the function\n",
    "plot_confusion_matrix(conf_matrix, \"QDA\")"
   ]
  },
  {
   "cell_type": "markdown",
   "metadata": {},
   "source": [
    "### Oversampling Data"
   ]
  },
  {
   "cell_type": "code",
   "execution_count": 31,
   "metadata": {
    "vscode": {
     "languageId": "r"
    }
   },
   "outputs": [
    {
     "name": "stdout",
     "output_type": "stream",
     "text": [
      "             Metric      LDA.1      LDA.2      LDA.3      LDA.4      LDA.5\n",
      "accuracy   Accuracy  0.7430917  0.7437974  0.7428414  0.7443485  0.7453382\n",
      "precision Precision  0.7342109  0.7358072  0.7337612  0.7343969  0.7353662\n",
      "recall       Recall  0.7092975  0.7103673  0.7088006  0.7106738  0.7100983\n",
      "f1               F1  0.7157816  0.7168622  0.7153038  0.7171473  0.7168903\n",
      "kappa         Kappa -0.1111111 -0.1111111 -0.1111111 -0.1111111 -0.1111111\n",
      "               QDA.1      QDA.2      QDA.3      QDA.4      QDA.5\n",
      "accuracy   0.7256481  0.7265672  0.7267022  0.7277707  0.7273545\n",
      "precision  0.7102217  0.7119921  0.7114207  0.7120222  0.7109124\n",
      "recall     0.7023952  0.7019216  0.7017037  0.7028072  0.7015958\n",
      "f1         0.7053766  0.7054830  0.7052098  0.7062139  0.7050515\n",
      "kappa     -0.1111111 -0.1111111 -0.1111111 -0.1111111 -0.1111111\n"
     ]
    }
   ],
   "source": [
    "oversampling_results_binary <- evaluate_models(binary_oversampling_data, binary_test_data)"
   ]
  },
  {
   "cell_type": "markdown",
   "metadata": {},
   "source": [
    "Cho LDA"
   ]
  },
  {
   "cell_type": "code",
   "execution_count": 32,
   "metadata": {
    "vscode": {
     "languageId": "r"
    }
   },
   "outputs": [
    {
     "data": {
      "text/plain": [
       "   \n",
       "        0     1\n",
       "  0 24082 18632\n",
       "  1   887  7135"
      ]
     },
     "metadata": {},
     "output_type": "display_data"
    },
    {
     "data": {
      "text/html": [
       "<dl>\n",
       "\t<dt>$Precision</dt>\n",
       "\t\t<dd><style>\n",
       ".dl-inline {width: auto; margin:0; padding: 0}\n",
       ".dl-inline>dt, .dl-inline>dd {float: none; width: auto; display: inline-block}\n",
       ".dl-inline>dt::after {content: \":\\0020\"; padding-right: .5ex}\n",
       ".dl-inline>dt:not(:first-of-type) {padding-left: .5ex}\n",
       "</style><dl class=dl-inline><dt>0</dt><dd>0.964475950178221</dd><dt>1</dt><dd>0.276904567858113</dd></dl>\n",
       "</dd>\n",
       "\t<dt>$Recall</dt>\n",
       "\t\t<dd><style>\n",
       ".dl-inline {width: auto; margin:0; padding: 0}\n",
       ".dl-inline>dt, .dl-inline>dd {float: none; width: auto; display: inline-block}\n",
       ".dl-inline>dt::after {content: \":\\0020\"; padding-right: .5ex}\n",
       ".dl-inline>dt:not(:first-of-type) {padding-left: .5ex}\n",
       "</style><dl class=dl-inline><dt>0</dt><dd>0.563796413353935</dd><dt>1</dt><dd>0.889429070057342</dd></dl>\n",
       "</dd>\n",
       "\t<dt>$Accuracy</dt>\n",
       "\t\t<dd>0.615283033743299</dd>\n",
       "\t<dt>$Kappa</dt>\n",
       "\t\t<dd>0.238753077650185</dd>\n",
       "\t<dt>$Macro_F1</dt>\n",
       "\t\t<dd>0.301939962375499</dd>\n",
       "</dl>\n"
      ],
      "text/latex": [
       "\\begin{description}\n",
       "\\item[\\$Precision] \\begin{description*}\n",
       "\\item[0] 0.964475950178221\n",
       "\\item[1] 0.276904567858113\n",
       "\\end{description*}\n",
       "\n",
       "\\item[\\$Recall] \\begin{description*}\n",
       "\\item[0] 0.563796413353935\n",
       "\\item[1] 0.889429070057342\n",
       "\\end{description*}\n",
       "\n",
       "\\item[\\$Accuracy] 0.615283033743299\n",
       "\\item[\\$Kappa] 0.238753077650185\n",
       "\\item[\\$Macro\\_F1] 0.301939962375499\n",
       "\\end{description}\n"
      ],
      "text/markdown": [
       "$Precision\n",
       ":   0\n",
       ":   0.9644759501782211\n",
       ":   0.276904567858113\n",
       "\n",
       "\n",
       "$Recall\n",
       ":   0\n",
       ":   0.5637964133539351\n",
       ":   0.889429070057342\n",
       "\n",
       "\n",
       "$Accuracy\n",
       ":   0.615283033743299\n",
       "$Kappa\n",
       ":   0.238753077650185\n",
       "$Macro_F1\n",
       ":   0.301939962375499\n",
       "\n",
       "\n"
      ],
      "text/plain": [
       "$Precision\n",
       "        0         1 \n",
       "0.9644760 0.2769046 \n",
       "\n",
       "$Recall\n",
       "        0         1 \n",
       "0.5637964 0.8894291 \n",
       "\n",
       "$Accuracy\n",
       "[1] 0.615283\n",
       "\n",
       "$Kappa\n",
       "[1] 0.2387531\n",
       "\n",
       "$Macro_F1\n",
       "[1] 0.30194\n"
      ]
     },
     "metadata": {},
     "output_type": "display_data"
    },
    {
     "data": {
      "image/png": "[encoded data removed]",
      "text/plain": [
       "plot without title"
      ]
     },
     "metadata": {
      "image/png": {
       "height": 420,
       "width": 420
      }
     },
     "output_type": "display_data"
    }
   ],
   "source": [
    "conf_matrix <- table(binary_test_data$diabetes_012, oversampling_results_binary$lda_predictions)\n",
    "conf_matrix\n",
    "\n",
    "eval_multi_class(conf_matrix)\n",
    "\n",
    "# Plot confusion matrix using the function\n",
    "plot_confusion_matrix(conf_matrix, \"LDA\")"
   ]
  },
  {
   "cell_type": "markdown",
   "metadata": {},
   "source": [
    "Cho QDA"
   ]
  },
  {
   "cell_type": "code",
   "execution_count": 33,
   "metadata": {
    "vscode": {
     "languageId": "r"
    }
   },
   "outputs": [
    {
     "data": {
      "text/plain": [
       "   \n",
       "        0     1\n",
       "  0 25403 17311\n",
       "  1  1281  6741"
      ]
     },
     "metadata": {},
     "output_type": "display_data"
    },
    {
     "data": {
      "text/html": [
       "<dl>\n",
       "\t<dt>$Precision</dt>\n",
       "\t\t<dd><style>\n",
       ".dl-inline {width: auto; margin:0; padding: 0}\n",
       ".dl-inline>dt, .dl-inline>dd {float: none; width: auto; display: inline-block}\n",
       ".dl-inline>dt::after {content: \":\\0020\"; padding-right: .5ex}\n",
       ".dl-inline>dt:not(:first-of-type) {padding-left: .5ex}\n",
       "</style><dl class=dl-inline><dt>0</dt><dd>0.95199370409234</dd><dt>1</dt><dd>0.280267753201397</dd></dl>\n",
       "</dd>\n",
       "\t<dt>$Recall</dt>\n",
       "\t\t<dd><style>\n",
       ".dl-inline {width: auto; margin:0; padding: 0}\n",
       ".dl-inline>dt, .dl-inline>dd {float: none; width: auto; display: inline-block}\n",
       ".dl-inline>dt::after {content: \":\\0020\"; padding-right: .5ex}\n",
       ".dl-inline>dt:not(:first-of-type) {padding-left: .5ex}\n",
       "</style><dl class=dl-inline><dt>0</dt><dd>0.594723041625696</dd><dt>1</dt><dd>0.840314136125654</dd></dl>\n",
       "</dd>\n",
       "\t<dt>$Accuracy</dt>\n",
       "\t\t<dd>0.63355408388521</dd>\n",
       "\t<dt>$Kappa</dt>\n",
       "\t\t<dd>0.240155130699699</dd>\n",
       "\t<dt>$Macro_F1</dt>\n",
       "\t\t<dd>0.293089594944735</dd>\n",
       "</dl>\n"
      ],
      "text/latex": [
       "\\begin{description}\n",
       "\\item[\\$Precision] \\begin{description*}\n",
       "\\item[0] 0.95199370409234\n",
       "\\item[1] 0.280267753201397\n",
       "\\end{description*}\n",
       "\n",
       "\\item[\\$Recall] \\begin{description*}\n",
       "\\item[0] 0.594723041625696\n",
       "\\item[1] 0.840314136125654\n",
       "\\end{description*}\n",
       "\n",
       "\\item[\\$Accuracy] 0.63355408388521\n",
       "\\item[\\$Kappa] 0.240155130699699\n",
       "\\item[\\$Macro\\_F1] 0.293089594944735\n",
       "\\end{description}\n"
      ],
      "text/markdown": [
       "$Precision\n",
       ":   0\n",
       ":   0.951993704092341\n",
       ":   0.280267753201397\n",
       "\n",
       "\n",
       "$Recall\n",
       ":   0\n",
       ":   0.5947230416256961\n",
       ":   0.840314136125654\n",
       "\n",
       "\n",
       "$Accuracy\n",
       ":   0.63355408388521\n",
       "$Kappa\n",
       ":   0.240155130699699\n",
       "$Macro_F1\n",
       ":   0.293089594944735\n",
       "\n",
       "\n"
      ],
      "text/plain": [
       "$Precision\n",
       "        0         1 \n",
       "0.9519937 0.2802678 \n",
       "\n",
       "$Recall\n",
       "        0         1 \n",
       "0.5947230 0.8403141 \n",
       "\n",
       "$Accuracy\n",
       "[1] 0.6335541\n",
       "\n",
       "$Kappa\n",
       "[1] 0.2401551\n",
       "\n",
       "$Macro_F1\n",
       "[1] 0.2930896\n"
      ]
     },
     "metadata": {},
     "output_type": "display_data"
    },
    {
     "data": {
      "image/png": "[encoded data removed]",
      "text/plain": [
       "plot without title"
      ]
     },
     "metadata": {
      "image/png": {
       "height": 420,
       "width": 420
      }
     },
     "output_type": "display_data"
    }
   ],
   "source": [
    "conf_matrix <- table(binary_test_data$diabetes_012, oversampling_results_binary$qda_predictions)\n",
    "conf_matrix\n",
    "\n",
    "eval_multi_class(conf_matrix)\n",
    "\n",
    "# Plot confusion matrix using the function\n",
    "plot_confusion_matrix(conf_matrix, \"QDA\")"
   ]
  },
  {
   "cell_type": "markdown",
   "metadata": {},
   "source": [
    "### Undersampling Data"
   ]
  },
  {
   "cell_type": "code",
   "execution_count": 34,
   "metadata": {
    "vscode": {
     "languageId": "r"
    }
   },
   "outputs": [
    {
     "name": "stdout",
     "output_type": "stream",
     "text": [
      "             Metric      LDA.1      LDA.2      LDA.3      LDA.4      LDA.5\n",
      "accuracy   Accuracy  0.7543064  0.7592928  0.7683590  0.7714286  0.7687075\n",
      "precision Precision  0.7368919  0.7318562  0.7474433  0.7487436  0.7541980\n",
      "recall       Recall  0.6884219  0.6917470  0.7129616  0.7074129  0.6992949\n",
      "f1               F1  0.6997988  0.7032028  0.7236868  0.7197328  0.7127803\n",
      "kappa         Kappa -0.1111111 -0.1111111 -0.1111111 -0.1111111 -0.1111111\n",
      "               QDA.1      QDA.2      QDA.3      QDA.4      QDA.5\n",
      "accuracy   0.7252947  0.7393472  0.7330009  0.7342404  0.7473923\n",
      "precision  0.6924671  0.7027443  0.7004363  0.6979768  0.7157333\n",
      "recall     0.6805383  0.6980625  0.6938325  0.6956857  0.6985518\n",
      "f1         0.6851164  0.7002170  0.6967196  0.6967827  0.7049851\n",
      "kappa     -0.1111111 -0.1111111 -0.1111111 -0.1111111 -0.1111111\n"
     ]
    }
   ],
   "source": [
    "undersampling_results_binary <- evaluate_models(binary_undersampling_data, binary_test_data)"
   ]
  },
  {
   "cell_type": "markdown",
   "metadata": {},
   "source": [
    "Cho LDA"
   ]
  },
  {
   "cell_type": "code",
   "execution_count": 35,
   "metadata": {
    "vscode": {
     "languageId": "r"
    }
   },
   "outputs": [
    {
     "data": {
      "text/plain": [
       "   \n",
       "        0     1\n",
       "  0 21535 21179\n",
       "  1   651  7371"
      ]
     },
     "metadata": {},
     "output_type": "display_data"
    },
    {
     "data": {
      "text/html": [
       "<dl>\n",
       "\t<dt>$Precision</dt>\n",
       "\t\t<dd><style>\n",
       ".dl-inline {width: auto; margin:0; padding: 0}\n",
       ".dl-inline>dt, .dl-inline>dd {float: none; width: auto; display: inline-block}\n",
       ".dl-inline>dt::after {content: \":\\0020\"; padding-right: .5ex}\n",
       ".dl-inline>dt:not(:first-of-type) {padding-left: .5ex}\n",
       "</style><dl class=dl-inline><dt>0</dt><dd>0.970657171189038</dd><dt>1</dt><dd>0.258178633975482</dd></dl>\n",
       "</dd>\n",
       "\t<dt>$Recall</dt>\n",
       "\t\t<dd><style>\n",
       ".dl-inline {width: auto; margin:0; padding: 0}\n",
       ".dl-inline>dt, .dl-inline>dd {float: none; width: auto; display: inline-block}\n",
       ".dl-inline>dt::after {content: \":\\0020\"; padding-right: .5ex}\n",
       ".dl-inline>dt:not(:first-of-type) {padding-left: .5ex}\n",
       "</style><dl class=dl-inline><dt>0</dt><dd>0.504167251954863</dd><dt>1</dt><dd>0.918848167539267</dd></dl>\n",
       "</dd>\n",
       "\t<dt>$Accuracy</dt>\n",
       "\t\t<dd>0.569733522548092</dd>\n",
       "\t<dt>$Kappa</dt>\n",
       "\t\t<dd>0.207443324105797</dd>\n",
       "\t<dt>$Macro_F1</dt>\n",
       "\t\t<dd>0.288268892460849</dd>\n",
       "</dl>\n"
      ],
      "text/latex": [
       "\\begin{description}\n",
       "\\item[\\$Precision] \\begin{description*}\n",
       "\\item[0] 0.970657171189038\n",
       "\\item[1] 0.258178633975482\n",
       "\\end{description*}\n",
       "\n",
       "\\item[\\$Recall] \\begin{description*}\n",
       "\\item[0] 0.504167251954863\n",
       "\\item[1] 0.918848167539267\n",
       "\\end{description*}\n",
       "\n",
       "\\item[\\$Accuracy] 0.569733522548092\n",
       "\\item[\\$Kappa] 0.207443324105797\n",
       "\\item[\\$Macro\\_F1] 0.288268892460849\n",
       "\\end{description}\n"
      ],
      "text/markdown": [
       "$Precision\n",
       ":   0\n",
       ":   0.9706571711890381\n",
       ":   0.258178633975482\n",
       "\n",
       "\n",
       "$Recall\n",
       ":   0\n",
       ":   0.5041672519548631\n",
       ":   0.918848167539267\n",
       "\n",
       "\n",
       "$Accuracy\n",
       ":   0.569733522548092\n",
       "$Kappa\n",
       ":   0.207443324105797\n",
       "$Macro_F1\n",
       ":   0.288268892460849\n",
       "\n",
       "\n"
      ],
      "text/plain": [
       "$Precision\n",
       "        0         1 \n",
       "0.9706572 0.2581786 \n",
       "\n",
       "$Recall\n",
       "        0         1 \n",
       "0.5041673 0.9188482 \n",
       "\n",
       "$Accuracy\n",
       "[1] 0.5697335\n",
       "\n",
       "$Kappa\n",
       "[1] 0.2074433\n",
       "\n",
       "$Macro_F1\n",
       "[1] 0.2882689\n"
      ]
     },
     "metadata": {},
     "output_type": "display_data"
    },
    {
     "data": {
      "image/png": "[encoded data removed]",
      "text/plain": [
       "plot without title"
      ]
     },
     "metadata": {
      "image/png": {
       "height": 420,
       "width": 420
      }
     },
     "output_type": "display_data"
    }
   ],
   "source": [
    "conf_matrix <- table(binary_test_data$diabetes_012, undersampling_results_binary$lda_predictions)\n",
    "conf_matrix\n",
    "\n",
    "eval_multi_class(conf_matrix)\n",
    "\n",
    "# Plot confusion matrix using the function\n",
    "plot_confusion_matrix(conf_matrix, \"LDA\")"
   ]
  },
  {
   "cell_type": "markdown",
   "metadata": {},
   "source": [
    "Cho QDA"
   ]
  },
  {
   "cell_type": "code",
   "execution_count": 36,
   "metadata": {
    "vscode": {
     "languageId": "r"
    }
   },
   "outputs": [
    {
     "data": {
      "text/plain": [
       "   \n",
       "        0     1\n",
       "  0 24384 18330\n",
       "  1  1145  6877"
      ]
     },
     "metadata": {},
     "output_type": "display_data"
    },
    {
     "data": {
      "text/html": [
       "<dl>\n",
       "\t<dt>$Precision</dt>\n",
       "\t\t<dd><style>\n",
       ".dl-inline {width: auto; margin:0; padding: 0}\n",
       ".dl-inline>dt, .dl-inline>dd {float: none; width: auto; display: inline-block}\n",
       ".dl-inline>dt::after {content: \":\\0020\"; padding-right: .5ex}\n",
       ".dl-inline>dt:not(:first-of-type) {padding-left: .5ex}\n",
       "</style><dl class=dl-inline><dt>0</dt><dd>0.955149046182773</dd><dt>1</dt><dd>0.27282104177411</dd></dl>\n",
       "</dd>\n",
       "\t<dt>$Recall</dt>\n",
       "\t\t<dd><style>\n",
       ".dl-inline {width: auto; margin:0; padding: 0}\n",
       ".dl-inline>dt, .dl-inline>dd {float: none; width: auto; display: inline-block}\n",
       ".dl-inline>dt::after {content: \":\\0020\"; padding-right: .5ex}\n",
       ".dl-inline>dt:not(:first-of-type) {padding-left: .5ex}\n",
       "</style><dl class=dl-inline><dt>0</dt><dd>0.5708666947605</dd><dt>1</dt><dd>0.857267514335577</dd></dl>\n",
       "</dd>\n",
       "\t<dt>$Accuracy</dt>\n",
       "\t\t<dd>0.616150268054242</dd>\n",
       "\t<dt>$Kappa</dt>\n",
       "\t\t<dd>0.228954483412483</dd>\n",
       "\t<dt>$Macro_F1</dt>\n",
       "\t\t<dd>0.289473295040682</dd>\n",
       "</dl>\n"
      ],
      "text/latex": [
       "\\begin{description}\n",
       "\\item[\\$Precision] \\begin{description*}\n",
       "\\item[0] 0.955149046182773\n",
       "\\item[1] 0.27282104177411\n",
       "\\end{description*}\n",
       "\n",
       "\\item[\\$Recall] \\begin{description*}\n",
       "\\item[0] 0.5708666947605\n",
       "\\item[1] 0.857267514335577\n",
       "\\end{description*}\n",
       "\n",
       "\\item[\\$Accuracy] 0.616150268054242\n",
       "\\item[\\$Kappa] 0.228954483412483\n",
       "\\item[\\$Macro\\_F1] 0.289473295040682\n",
       "\\end{description}\n"
      ],
      "text/markdown": [
       "$Precision\n",
       ":   0\n",
       ":   0.9551490461827731\n",
       ":   0.27282104177411\n",
       "\n",
       "\n",
       "$Recall\n",
       ":   0\n",
       ":   0.57086669476051\n",
       ":   0.857267514335577\n",
       "\n",
       "\n",
       "$Accuracy\n",
       ":   0.616150268054242\n",
       "$Kappa\n",
       ":   0.228954483412483\n",
       "$Macro_F1\n",
       ":   0.289473295040682\n",
       "\n",
       "\n"
      ],
      "text/plain": [
       "$Precision\n",
       "       0        1 \n",
       "0.955149 0.272821 \n",
       "\n",
       "$Recall\n",
       "        0         1 \n",
       "0.5708667 0.8572675 \n",
       "\n",
       "$Accuracy\n",
       "[1] 0.6161503\n",
       "\n",
       "$Kappa\n",
       "[1] 0.2289545\n",
       "\n",
       "$Macro_F1\n",
       "[1] 0.2894733\n"
      ]
     },
     "metadata": {},
     "output_type": "display_data"
    },
    {
     "data": {
      "image/png": "[encoded data removed]",
      "text/plain": [
       "plot without title"
      ]
     },
     "metadata": {
      "image/png": {
       "height": 420,
       "width": 420
      }
     },
     "output_type": "display_data"
    }
   ],
   "source": [
    "conf_matrix <- table(binary_test_data$diabetes_012, undersampling_results_binary$qda_predictions)\n",
    "conf_matrix\n",
    "\n",
    "eval_multi_class(conf_matrix)\n",
    "\n",
    "# Plot confusion matrix using the function\n",
    "plot_confusion_matrix(conf_matrix, \"QDA\")"
   ]
  },
  {
   "cell_type": "markdown",
   "metadata": {},
   "source": [
    "### SMOTE Data"
   ]
  },
  {
   "cell_type": "code",
   "execution_count": 37,
   "metadata": {
    "vscode": {
     "languageId": "r"
    }
   },
   "outputs": [
    {
     "name": "stdout",
     "output_type": "stream",
     "text": [
      "             Metric      LDA.1      LDA.2      LDA.3      LDA.4      LDA.5\n",
      "accuracy   Accuracy  0.7543064  0.7592928  0.7683590  0.7714286  0.7687075\n",
      "precision Precision  0.7368919  0.7318562  0.7474433  0.7487436  0.7541980\n",
      "recall       Recall  0.6884219  0.6917470  0.7129616  0.7074129  0.6992949\n",
      "f1               F1  0.6997988  0.7032028  0.7236868  0.7197328  0.7127803\n",
      "kappa         Kappa -0.1111111 -0.1111111 -0.1111111 -0.1111111 -0.1111111\n",
      "               QDA.1      QDA.2      QDA.3      QDA.4      QDA.5\n",
      "accuracy   0.7252947  0.7393472  0.7330009  0.7342404  0.7473923\n",
      "precision  0.6924671  0.7027443  0.7004363  0.6979768  0.7157333\n",
      "recall     0.6805383  0.6980625  0.6938325  0.6956857  0.6985518\n",
      "f1         0.6851164  0.7002170  0.6967196  0.6967827  0.7049851\n",
      "kappa     -0.1111111 -0.1111111 -0.1111111 -0.1111111 -0.1111111\n"
     ]
    }
   ],
   "source": [
    "smote_results_binary <- evaluate_models(binary_undersampling_data, binary_test_data)"
   ]
  },
  {
   "cell_type": "markdown",
   "metadata": {},
   "source": [
    "Cho LDA"
   ]
  },
  {
   "cell_type": "code",
   "execution_count": 38,
   "metadata": {
    "vscode": {
     "languageId": "r"
    }
   },
   "outputs": [
    {
     "data": {
      "text/plain": [
       "   \n",
       "        0     1\n",
       "  0 21535 21179\n",
       "  1   651  7371"
      ]
     },
     "metadata": {},
     "output_type": "display_data"
    },
    {
     "data": {
      "text/html": [
       "<dl>\n",
       "\t<dt>$Precision</dt>\n",
       "\t\t<dd><style>\n",
       ".dl-inline {width: auto; margin:0; padding: 0}\n",
       ".dl-inline>dt, .dl-inline>dd {float: none; width: auto; display: inline-block}\n",
       ".dl-inline>dt::after {content: \":\\0020\"; padding-right: .5ex}\n",
       ".dl-inline>dt:not(:first-of-type) {padding-left: .5ex}\n",
       "</style><dl class=dl-inline><dt>0</dt><dd>0.970657171189038</dd><dt>1</dt><dd>0.258178633975482</dd></dl>\n",
       "</dd>\n",
       "\t<dt>$Recall</dt>\n",
       "\t\t<dd><style>\n",
       ".dl-inline {width: auto; margin:0; padding: 0}\n",
       ".dl-inline>dt, .dl-inline>dd {float: none; width: auto; display: inline-block}\n",
       ".dl-inline>dt::after {content: \":\\0020\"; padding-right: .5ex}\n",
       ".dl-inline>dt:not(:first-of-type) {padding-left: .5ex}\n",
       "</style><dl class=dl-inline><dt>0</dt><dd>0.504167251954863</dd><dt>1</dt><dd>0.918848167539267</dd></dl>\n",
       "</dd>\n",
       "\t<dt>$Accuracy</dt>\n",
       "\t\t<dd>0.569733522548092</dd>\n",
       "\t<dt>$Kappa</dt>\n",
       "\t\t<dd>0.207443324105797</dd>\n",
       "\t<dt>$Macro_F1</dt>\n",
       "\t\t<dd>0.288268892460849</dd>\n",
       "</dl>\n"
      ],
      "text/latex": [
       "\\begin{description}\n",
       "\\item[\\$Precision] \\begin{description*}\n",
       "\\item[0] 0.970657171189038\n",
       "\\item[1] 0.258178633975482\n",
       "\\end{description*}\n",
       "\n",
       "\\item[\\$Recall] \\begin{description*}\n",
       "\\item[0] 0.504167251954863\n",
       "\\item[1] 0.918848167539267\n",
       "\\end{description*}\n",
       "\n",
       "\\item[\\$Accuracy] 0.569733522548092\n",
       "\\item[\\$Kappa] 0.207443324105797\n",
       "\\item[\\$Macro\\_F1] 0.288268892460849\n",
       "\\end{description}\n"
      ],
      "text/markdown": [
       "$Precision\n",
       ":   0\n",
       ":   0.9706571711890381\n",
       ":   0.258178633975482\n",
       "\n",
       "\n",
       "$Recall\n",
       ":   0\n",
       ":   0.5041672519548631\n",
       ":   0.918848167539267\n",
       "\n",
       "\n",
       "$Accuracy\n",
       ":   0.569733522548092\n",
       "$Kappa\n",
       ":   0.207443324105797\n",
       "$Macro_F1\n",
       ":   0.288268892460849\n",
       "\n",
       "\n"
      ],
      "text/plain": [
       "$Precision\n",
       "        0         1 \n",
       "0.9706572 0.2581786 \n",
       "\n",
       "$Recall\n",
       "        0         1 \n",
       "0.5041673 0.9188482 \n",
       "\n",
       "$Accuracy\n",
       "[1] 0.5697335\n",
       "\n",
       "$Kappa\n",
       "[1] 0.2074433\n",
       "\n",
       "$Macro_F1\n",
       "[1] 0.2882689\n"
      ]
     },
     "metadata": {},
     "output_type": "display_data"
    },
    {
     "data": {
      "image/png": "[encoded data removed]",
      "text/plain": [
       "plot without title"
      ]
     },
     "metadata": {
      "image/png": {
       "height": 420,
       "width": 420
      }
     },
     "output_type": "display_data"
    }
   ],
   "source": [
    "conf_matrix <- table(binary_test_data$diabetes_012, smote_results_binary$lda_predictions)\n",
    "conf_matrix\n",
    "\n",
    "eval_multi_class(conf_matrix)\n",
    "\n",
    "# Plot confusion matrix using the function\n",
    "plot_confusion_matrix(conf_matrix, \"LDA\")"
   ]
  },
  {
   "cell_type": "markdown",
   "metadata": {},
   "source": [
    "Cho QDA"
   ]
  },
  {
   "cell_type": "code",
   "execution_count": 39,
   "metadata": {
    "vscode": {
     "languageId": "r"
    }
   },
   "outputs": [
    {
     "data": {
      "text/plain": [
       "   \n",
       "        0     1\n",
       "  0 24384 18330\n",
       "  1  1145  6877"
      ]
     },
     "metadata": {},
     "output_type": "display_data"
    },
    {
     "data": {
      "text/html": [
       "<dl>\n",
       "\t<dt>$Precision</dt>\n",
       "\t\t<dd><style>\n",
       ".dl-inline {width: auto; margin:0; padding: 0}\n",
       ".dl-inline>dt, .dl-inline>dd {float: none; width: auto; display: inline-block}\n",
       ".dl-inline>dt::after {content: \":\\0020\"; padding-right: .5ex}\n",
       ".dl-inline>dt:not(:first-of-type) {padding-left: .5ex}\n",
       "</style><dl class=dl-inline><dt>0</dt><dd>0.955149046182773</dd><dt>1</dt><dd>0.27282104177411</dd></dl>\n",
       "</dd>\n",
       "\t<dt>$Recall</dt>\n",
       "\t\t<dd><style>\n",
       ".dl-inline {width: auto; margin:0; padding: 0}\n",
       ".dl-inline>dt, .dl-inline>dd {float: none; width: auto; display: inline-block}\n",
       ".dl-inline>dt::after {content: \":\\0020\"; padding-right: .5ex}\n",
       ".dl-inline>dt:not(:first-of-type) {padding-left: .5ex}\n",
       "</style><dl class=dl-inline><dt>0</dt><dd>0.5708666947605</dd><dt>1</dt><dd>0.857267514335577</dd></dl>\n",
       "</dd>\n",
       "\t<dt>$Accuracy</dt>\n",
       "\t\t<dd>0.616150268054242</dd>\n",
       "\t<dt>$Kappa</dt>\n",
       "\t\t<dd>0.228954483412483</dd>\n",
       "\t<dt>$Macro_F1</dt>\n",
       "\t\t<dd>0.289473295040682</dd>\n",
       "</dl>\n"
      ],
      "text/latex": [
       "\\begin{description}\n",
       "\\item[\\$Precision] \\begin{description*}\n",
       "\\item[0] 0.955149046182773\n",
       "\\item[1] 0.27282104177411\n",
       "\\end{description*}\n",
       "\n",
       "\\item[\\$Recall] \\begin{description*}\n",
       "\\item[0] 0.5708666947605\n",
       "\\item[1] 0.857267514335577\n",
       "\\end{description*}\n",
       "\n",
       "\\item[\\$Accuracy] 0.616150268054242\n",
       "\\item[\\$Kappa] 0.228954483412483\n",
       "\\item[\\$Macro\\_F1] 0.289473295040682\n",
       "\\end{description}\n"
      ],
      "text/markdown": [
       "$Precision\n",
       ":   0\n",
       ":   0.9551490461827731\n",
       ":   0.27282104177411\n",
       "\n",
       "\n",
       "$Recall\n",
       ":   0\n",
       ":   0.57086669476051\n",
       ":   0.857267514335577\n",
       "\n",
       "\n",
       "$Accuracy\n",
       ":   0.616150268054242\n",
       "$Kappa\n",
       ":   0.228954483412483\n",
       "$Macro_F1\n",
       ":   0.289473295040682\n",
       "\n",
       "\n"
      ],
      "text/plain": [
       "$Precision\n",
       "       0        1 \n",
       "0.955149 0.272821 \n",
       "\n",
       "$Recall\n",
       "        0         1 \n",
       "0.5708667 0.8572675 \n",
       "\n",
       "$Accuracy\n",
       "[1] 0.6161503\n",
       "\n",
       "$Kappa\n",
       "[1] 0.2289545\n",
       "\n",
       "$Macro_F1\n",
       "[1] 0.2894733\n"
      ]
     },
     "metadata": {},
     "output_type": "display_data"
    },
    {
     "data": {
      "image/png": "[encoded data removed]",
      "text/plain": [
       "plot without title"
      ]
     },
     "metadata": {
      "image/png": {
       "height": 420,
       "width": 420
      }
     },
     "output_type": "display_data"
    }
   ],
   "source": [
    "conf_matrix <- table(binary_test_data$diabetes_012, smote_results_binary$qda_predictions)\n",
    "conf_matrix\n",
    "\n",
    "eval_multi_class(conf_matrix)\n",
    "\n",
    "# Plot confusion matrix using the function\n",
    "plot_confusion_matrix(conf_matrix, \"QDA\")"
   ]
  },
  {
   "cell_type": "markdown",
   "metadata": {},
   "source": []
  }
 ],
 "metadata": {
  "kernelspec": {
   "display_name": "R",
   "language": "R",
   "name": "ir"
  },
  "language_info": {
   "codemirror_mode": "r",
   "file_extension": ".r",
   "mimetype": "text/x-r-source",
   "name": "R",
   "pygments_lexer": "r",
   "version": "4.1.3"
  }
 },
 "nbformat": 4,
 "nbformat_minor": 2
}
